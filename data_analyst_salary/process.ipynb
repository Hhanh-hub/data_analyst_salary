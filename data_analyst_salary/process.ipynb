{
 "cells": [
  {
   "cell_type": "code",
   "execution_count": 217,
   "id": "8cf14684",
   "metadata": {},
   "outputs": [],
   "source": [
    "import pandas as pd\n",
    "import numpy as np\n",
    "import matplotlib.pyplot as plt\n",
    "import seaborn as sns"
   ]
  },
  {
   "cell_type": "markdown",
   "id": "91103a08",
   "metadata": {},
   "source": [
    "## 1. Import data"
   ]
  },
  {
   "cell_type": "code",
   "execution_count": 218,
   "id": "0f6e46d0",
   "metadata": {
    "scrolled": true
   },
   "outputs": [
    {
     "name": "stdout",
     "output_type": "stream",
     "text": [
      "Có  30  vị trí tuyển cho Data Analyst tại HCM\n"
     ]
    },
    {
     "data": {
      "text/html": [
       "<div>\n",
       "<style scoped>\n",
       "    .dataframe tbody tr th:only-of-type {\n",
       "        vertical-align: middle;\n",
       "    }\n",
       "\n",
       "    .dataframe tbody tr th {\n",
       "        vertical-align: top;\n",
       "    }\n",
       "\n",
       "    .dataframe thead th {\n",
       "        text-align: right;\n",
       "    }\n",
       "</style>\n",
       "<table border=\"1\" class=\"dataframe\">\n",
       "  <thead>\n",
       "    <tr style=\"text-align: right;\">\n",
       "      <th></th>\n",
       "      <th>Company</th>\n",
       "      <th>Title</th>\n",
       "      <th>Mức lương</th>\n",
       "      <th>Số lượng tuyển</th>\n",
       "      <th>Hình thức làm việc</th>\n",
       "      <th>Cấp bậc</th>\n",
       "      <th>Giới tính</th>\n",
       "      <th>Kinh nghiệm</th>\n",
       "      <th>Links</th>\n",
       "    </tr>\n",
       "  </thead>\n",
       "  <tbody>\n",
       "    <tr>\n",
       "      <th>23</th>\n",
       "      <td>CÔNG TY TNHH XUẤT NHẬP KHẨU PHÁT TRIỂN ĐÔNG DƯƠNG - TẬP ĐOÀN THỂ THAO KINGSPORT</td>\n",
       "      <td>Chuyên Viên Phân Tích Thống Kê ( (Data Analyst)</td>\n",
       "      <td>35-45 triệu</td>\n",
       "      <td>1 người</td>\n",
       "      <td>Toàn thời gian</td>\n",
       "      <td>Nhân viên</td>\n",
       "      <td>Không yêu cầu</td>\n",
       "      <td>3 năm</td>\n",
       "      <td>https://www.topcv.vn/brand/xnkphattriendongduong/tuyen-dung/chuyen-vien-phan-tich-thong-ke-data-analyst-j842737.html?ta_source=JobSearchList</td>\n",
       "    </tr>\n",
       "    <tr>\n",
       "      <th>20</th>\n",
       "      <td>Công ty CP Thế giới Di Động</td>\n",
       "      <td>Data Analyst</td>\n",
       "      <td>Thoả thuận</td>\n",
       "      <td>1 người</td>\n",
       "      <td>Toàn thời gian</td>\n",
       "      <td>Nhân viên</td>\n",
       "      <td>Không yêu cầu</td>\n",
       "      <td>1 năm</td>\n",
       "      <td>https://www.topcv.vn/viec-lam/data-analyst/847698.html?ta_source=JobSearchList</td>\n",
       "    </tr>\n",
       "    <tr>\n",
       "      <th>24</th>\n",
       "      <td>Ngân Hàng TMCP Xuất Nhập Khẩu Việt Nam (Eximbank)</td>\n",
       "      <td>Chuyên Viên Phân Tích Dữ Liệu &amp; Báo Cáo</td>\n",
       "      <td>Thoả thuận</td>\n",
       "      <td>2 người</td>\n",
       "      <td>Toàn thời gian</td>\n",
       "      <td>Nhân viên</td>\n",
       "      <td>Không yêu cầu</td>\n",
       "      <td>1 năm</td>\n",
       "      <td>https://www.topcv.vn/viec-lam/chuyen-vien-phan-tich-du-lieu-bao-cao/841805.html?ta_source=JobSearchList</td>\n",
       "    </tr>\n",
       "    <tr>\n",
       "      <th>14</th>\n",
       "      <td>CÔNG TY TNHH UNICALL</td>\n",
       "      <td>Chuyên Viên Phân Tích Dữ Liệu Tháng 10</td>\n",
       "      <td>Thoả thuận</td>\n",
       "      <td>1 người</td>\n",
       "      <td>Toàn thời gian</td>\n",
       "      <td>Nhân viên</td>\n",
       "      <td>Không yêu cầu</td>\n",
       "      <td>2 năm</td>\n",
       "      <td>https://www.topcv.vn/viec-lam/chuyen-vien-phan-tich-du-lieu-thang-10/828614.html?ta_source=JobSearchList</td>\n",
       "    </tr>\n",
       "    <tr>\n",
       "      <th>19</th>\n",
       "      <td>Công Ty TNHH TransCosmos Việt Nam</td>\n",
       "      <td>Data Analyst</td>\n",
       "      <td>Thoả thuận</td>\n",
       "      <td>1 người</td>\n",
       "      <td>Toàn thời gian</td>\n",
       "      <td>Nhân viên</td>\n",
       "      <td>Không yêu cầu</td>\n",
       "      <td>1 năm</td>\n",
       "      <td>https://www.topcv.vn/brand/transcosmosvietnam/tuyen-dung/data-analyst-j850401.html?ta_source=JobSearchList</td>\n",
       "    </tr>\n",
       "  </tbody>\n",
       "</table>\n",
       "</div>"
      ],
      "text/plain": [
       "                                                                            Company                                            Title    Mức lương Số lượng tuyển Hình thức làm việc    Cấp bậc      Giới tính Kinh nghiệm                                                                                                                                         Links\n",
       "23  CÔNG TY TNHH XUẤT NHẬP KHẨU PHÁT TRIỂN ĐÔNG DƯƠNG - TẬP ĐOÀN THỂ THAO KINGSPORT  Chuyên Viên Phân Tích Thống Kê ( (Data Analyst)  35-45 triệu  1 người        Toàn thời gian     Nhân viên  Không yêu cầu  3 năm       https://www.topcv.vn/brand/xnkphattriendongduong/tuyen-dung/chuyen-vien-phan-tich-thong-ke-data-analyst-j842737.html?ta_source=JobSearchList\n",
       "20  Công ty CP Thế giới Di Động                                                      Data Analyst                                     Thoả thuận   1 người        Toàn thời gian     Nhân viên  Không yêu cầu  1 năm       https://www.topcv.vn/viec-lam/data-analyst/847698.html?ta_source=JobSearchList                                                              \n",
       "24  Ngân Hàng TMCP Xuất Nhập Khẩu Việt Nam (Eximbank)                                Chuyên Viên Phân Tích Dữ Liệu & Báo Cáo          Thoả thuận   2 người        Toàn thời gian     Nhân viên  Không yêu cầu  1 năm       https://www.topcv.vn/viec-lam/chuyen-vien-phan-tich-du-lieu-bao-cao/841805.html?ta_source=JobSearchList                                     \n",
       "14  CÔNG TY TNHH UNICALL                                                             Chuyên Viên Phân Tích Dữ Liệu Tháng 10           Thoả thuận   1 người        Toàn thời gian     Nhân viên  Không yêu cầu  2 năm       https://www.topcv.vn/viec-lam/chuyen-vien-phan-tich-du-lieu-thang-10/828614.html?ta_source=JobSearchList                                    \n",
       "19  Công Ty TNHH TransCosmos Việt Nam                                                Data Analyst                                     Thoả thuận   1 người        Toàn thời gian     Nhân viên  Không yêu cầu  1 năm       https://www.topcv.vn/brand/transcosmosvietnam/tuyen-dung/data-analyst-j850401.html?ta_source=JobSearchList                                  "
      ]
     },
     "execution_count": 218,
     "metadata": {},
     "output_type": "execute_result"
    }
   ],
   "source": [
    "data = pd.read_csv('data_topcv.csv')\n",
    "print('Có ',data.shape[0],' vị trí tuyển cho Data Analyst tại HCM')\n",
    "data.sample(5)"
   ]
  },
  {
   "cell_type": "code",
   "execution_count": 219,
   "id": "1973d119",
   "metadata": {},
   "outputs": [],
   "source": [
    "# ddt_tts = data.loc[data['Cấp bậc'] == 'Thực tập sinh']\n",
    "# indextts = data[data['Cấp bậc'] == 'Thực tập sinh'].index\n",
    "# data.drop(indextts , inplace=True)"
   ]
  },
  {
   "cell_type": "code",
   "execution_count": 220,
   "id": "23e72ed9",
   "metadata": {},
   "outputs": [],
   "source": [
    "# print('data thuc tap sinh: \\n')\n",
    "# ddt_tts"
   ]
  },
  {
   "cell_type": "code",
   "execution_count": 221,
   "id": "268907ed",
   "metadata": {},
   "outputs": [],
   "source": [
    "# print('data khong phai thuc tap sinh: \\n')\n",
    "# data.head()"
   ]
  },
  {
   "cell_type": "markdown",
   "id": "5f846553",
   "metadata": {},
   "source": [
    "## 2. Cleaning & format data"
   ]
  },
  {
   "cell_type": "markdown",
   "id": "f85af6e4",
   "metadata": {},
   "source": [
    "### data chung"
   ]
  },
  {
   "cell_type": "code",
   "execution_count": 222,
   "id": "a09bd5c7",
   "metadata": {},
   "outputs": [
    {
     "data": {
      "text/plain": [
       "Index(['Company', 'Title', 'Mức lương', 'Số lượng tuyển', 'Hình thức làm việc',\n",
       "       'Cấp bậc', 'Giới tính', 'Kinh nghiệm', 'Links'],\n",
       "      dtype='object')"
      ]
     },
     "execution_count": 222,
     "metadata": {},
     "output_type": "execute_result"
    }
   ],
   "source": [
    "data.columns"
   ]
  },
  {
   "cell_type": "code",
   "execution_count": 223,
   "id": "8404ac63",
   "metadata": {},
   "outputs": [
    {
     "data": {
      "text/html": [
       "<div>\n",
       "<style scoped>\n",
       "    .dataframe tbody tr th:only-of-type {\n",
       "        vertical-align: middle;\n",
       "    }\n",
       "\n",
       "    .dataframe tbody tr th {\n",
       "        vertical-align: top;\n",
       "    }\n",
       "\n",
       "    .dataframe thead th {\n",
       "        text-align: right;\n",
       "    }\n",
       "</style>\n",
       "<table border=\"1\" class=\"dataframe\">\n",
       "  <thead>\n",
       "    <tr style=\"text-align: right;\">\n",
       "      <th></th>\n",
       "      <th>Company</th>\n",
       "      <th>Title</th>\n",
       "      <th>Salary</th>\n",
       "      <th>Quantity</th>\n",
       "      <th>Working form</th>\n",
       "      <th>Level</th>\n",
       "      <th>Sex</th>\n",
       "      <th>Experienced</th>\n",
       "      <th>Links</th>\n",
       "    </tr>\n",
       "  </thead>\n",
       "  <tbody>\n",
       "    <tr>\n",
       "      <th>0</th>\n",
       "      <td>CÔNG TY TNHH THƯƠNG MẠI DỊCH VỤ VGS</td>\n",
       "      <td>Game Data Analyst - Phân Tích Dữ Liệu Game</td>\n",
       "      <td>10-18 triệu</td>\n",
       "      <td>1 người</td>\n",
       "      <td>Toàn thời gian</td>\n",
       "      <td>Nhân viên</td>\n",
       "      <td>Nam</td>\n",
       "      <td>1 năm</td>\n",
       "      <td>https://www.topcv.vn/viec-lam/game-data-analyst-phan-tich-du-lieu-game/856539.html?ta_source=JobSearchList</td>\n",
       "    </tr>\n",
       "    <tr>\n",
       "      <th>1</th>\n",
       "      <td>CÔNG TY TNHH TRUYỀN HÌNH FPT</td>\n",
       "      <td>Data Analyst - Hồ Chí Minh</td>\n",
       "      <td>Thoả thuận</td>\n",
       "      <td>1 người</td>\n",
       "      <td>Toàn thời gian</td>\n",
       "      <td>Nhân viên</td>\n",
       "      <td>Không yêu cầu</td>\n",
       "      <td>2 năm</td>\n",
       "      <td>https://www.topcv.vn/viec-lam/data-analyst-ho-chi-minh/779789.html?ta_source=JobSearchList</td>\n",
       "    </tr>\n",
       "    <tr>\n",
       "      <th>2</th>\n",
       "      <td>Công ty Cổ phần VIN3S</td>\n",
       "      <td>Data Analyst</td>\n",
       "      <td>Thoả thuận</td>\n",
       "      <td>1 người</td>\n",
       "      <td>Toàn thời gian</td>\n",
       "      <td>Nhân viên</td>\n",
       "      <td>Không yêu cầu</td>\n",
       "      <td>4 năm</td>\n",
       "      <td>https://www.topcv.vn/viec-lam/data-analyst/840625.html?ta_source=JobSearchList</td>\n",
       "    </tr>\n",
       "    <tr>\n",
       "      <th>3</th>\n",
       "      <td>Công ty cổ phần Hai Bốn Bảy</td>\n",
       "      <td>Chuyên Viên Phân Tích Dữ Liệu</td>\n",
       "      <td>12-15 triệu</td>\n",
       "      <td>1 người</td>\n",
       "      <td>Toàn thời gian</td>\n",
       "      <td>Nhân viên</td>\n",
       "      <td>Không yêu cầu</td>\n",
       "      <td>2 năm</td>\n",
       "      <td>https://www.topcv.vn/viec-lam/chuyen-vien-phan-tich-du-lieu/839678.html?ta_source=JobSearchList</td>\n",
       "    </tr>\n",
       "    <tr>\n",
       "      <th>4</th>\n",
       "      <td>CÔNG TY TNHH FINAN (SoBanHang)</td>\n",
       "      <td>Data Analyst (BI Controller) _ Lương Upto $1,500</td>\n",
       "      <td>1,000-1,500 USD</td>\n",
       "      <td>1 người</td>\n",
       "      <td>Toàn thời gian</td>\n",
       "      <td>Nhân viên</td>\n",
       "      <td>Không yêu cầu</td>\n",
       "      <td>3 năm</td>\n",
       "      <td>https://www.topcv.vn/viec-lam/data-analyst-bi-controller-luong-upto-1-500/838249.html?ta_source=JobSearchList</td>\n",
       "    </tr>\n",
       "  </tbody>\n",
       "</table>\n",
       "</div>"
      ],
      "text/plain": [
       "                               Company                                             Title           Salary Quantity    Working form      Level            Sex Experienced                                                                                                          Links\n",
       "0  CÔNG TY TNHH THƯƠNG MẠI DỊCH VỤ VGS  Game Data Analyst - Phân Tích Dữ Liệu Game        10-18 triệu      1 người  Toàn thời gian  Nhân viên  Nam            1 năm       https://www.topcv.vn/viec-lam/game-data-analyst-phan-tich-du-lieu-game/856539.html?ta_source=JobSearchList   \n",
       "1  CÔNG TY TNHH TRUYỀN HÌNH FPT         Data Analyst - Hồ Chí Minh                        Thoả thuận       1 người  Toàn thời gian  Nhân viên  Không yêu cầu  2 năm       https://www.topcv.vn/viec-lam/data-analyst-ho-chi-minh/779789.html?ta_source=JobSearchList                   \n",
       "2  Công ty Cổ phần VIN3S                Data Analyst                                      Thoả thuận       1 người  Toàn thời gian  Nhân viên  Không yêu cầu  4 năm       https://www.topcv.vn/viec-lam/data-analyst/840625.html?ta_source=JobSearchList                               \n",
       "3  Công ty cổ phần Hai Bốn Bảy          Chuyên Viên Phân Tích Dữ Liệu                     12-15 triệu      1 người  Toàn thời gian  Nhân viên  Không yêu cầu  2 năm       https://www.topcv.vn/viec-lam/chuyen-vien-phan-tich-du-lieu/839678.html?ta_source=JobSearchList              \n",
       "4  CÔNG TY TNHH FINAN (SoBanHang)       Data Analyst (BI Controller) _ Lương Upto $1,500  1,000-1,500 USD  1 người  Toàn thời gian  Nhân viên  Không yêu cầu  3 năm       https://www.topcv.vn/viec-lam/data-analyst-bi-controller-luong-upto-1-500/838249.html?ta_source=JobSearchList"
      ]
     },
     "execution_count": 223,
     "metadata": {},
     "output_type": "execute_result"
    }
   ],
   "source": [
    "data.rename(columns={'Company':'Company','Title':'Title','Mức lương':'Salary','Số lượng tuyển':'Quantity',\n",
    "                    'Hình thức làm việc':'Working form','Cấp bậc':'Level','Giới tính':'Sex',\n",
    "                     'Kinh nghiệm':'Experienced','Links':'Links'},inplace=True)\n",
    "data[:5]"
   ]
  },
  {
   "cell_type": "code",
   "execution_count": 224,
   "id": "3648fc4c",
   "metadata": {},
   "outputs": [
    {
     "data": {
      "text/html": [
       "<div>\n",
       "<style scoped>\n",
       "    .dataframe tbody tr th:only-of-type {\n",
       "        vertical-align: middle;\n",
       "    }\n",
       "\n",
       "    .dataframe tbody tr th {\n",
       "        vertical-align: top;\n",
       "    }\n",
       "\n",
       "    .dataframe thead th {\n",
       "        text-align: right;\n",
       "    }\n",
       "</style>\n",
       "<table border=\"1\" class=\"dataframe\">\n",
       "  <thead>\n",
       "    <tr style=\"text-align: right;\">\n",
       "      <th></th>\n",
       "      <th>Company</th>\n",
       "      <th>Title</th>\n",
       "      <th>Description</th>\n",
       "      <th>Required</th>\n",
       "      <th>Benifits</th>\n",
       "    </tr>\n",
       "  </thead>\n",
       "  <tbody>\n",
       "    <tr>\n",
       "      <th>25</th>\n",
       "      <td>CÔNG TY TNHH EROC COMMERCE (VIỆT NAM)</td>\n",
       "      <td>Nhân Viên Phân Tích Dữ Liệu Kinh Doanh</td>\n",
       "      <td>• Thu thập, phân tích và lập báo cáo từ data của các shop bán hàng trên các sàn thương mại điện tử và update hàng ngày cho các Lead và KAM để giúp công ty nắm tình hình kinh doanh và có những kế hoạch làm việc kịp thời.\\n• Lập các bảng báo cáo để phân tích, theo dõi tình hình kinh doanh hàng ngày, hàng tháng, quý, năm,...,đồng thời đưa ra các nhận định giúp doanh nghiệp có thể phát triển, cải thiện hơn nữa trong tương lai.\\n• Hỗ trợ Lead/KAM làm báo cáo cho các brand về doanh thu, ngân sách,,...\\n• Đồng bộ hóa dữ liệu từ nhiều sàn, nhiều nguồn giúp tối ưu hóa công việc cho công ty.\\n• Các công việc khác tùy vào yêu cầu của Manager</td>\n",
       "      <td>• Ít nhất 1 năm kinh nghiệm làm việc trong lĩnh vực Business Intelligence or Data Analytics trong ngành Ecommerce\\n• Thành thạo Excel, Power BI, Power Pivot,...\\n• Có tư duy phân tích tốt, ham học hỏi, có thái độ tốt trong công việc.\\n• Giao tiếp tốt bằng cả tiếng Việt lẫn tiếng Anh, biết tiếng Trung là 1 điểm cộng\\n• Có khả năng làm việc tốt với nhiều team</td>\n",
       "      <td>- Lương: thỏa thuận theo năng lực. ( 8.000.000 vnđ – 15.000.000 vnđ )\\n- Hợp động lao động 12 tháng\\n- Thử việc: 02 tháng (85% lương )\\n- 12 ngày phép năm ( + 02 ngày tháng thử việc )\\n- Sau 02 tháng thử việc tham gia BHXH.\\n- Xét tăng lương định kỳ năm/ 2 lần.\\n- Teambulding năm/lần .\\n- Khám sức khỏe bệnh viện quốc tế năm/ lần.</td>\n",
       "    </tr>\n",
       "    <tr>\n",
       "      <th>18</th>\n",
       "      <td>CÔNG TY CỔ PHẦN GIAO HÀNG TIẾT KIỆM</td>\n",
       "      <td>Chuyên Viên Nhân Sự (Mảng Phân Tích Dữ Liệu Nhân Sự)</td>\n",
       "      <td>- Làm về QC/BA cho hệ thống quản trị nhân sự, hỗ trợ các đầu việc về phân tích, báo cáo nhân sự.\\n- Thu thập, quản lý thông tin, hồ sơ nhân sự và nguồn lực.\\n- Nghiên cứu và đánh giá các chỉ số về nhân sự, nhằm cải thiện hiệu suất, tối ưu hóa đầu tư của doanh nghiệp cho nguồn nhân lực. \\n- Thực hiện nghiệp vụ về lương, thưởng, chế độ bảo hiểm, phúc lợi và các nghiệp vụ nhân sự khác theo phân công của cấp trên.</td>\n",
       "      <td>- Tốt nghiệp Đại học, ưu tiên chuyên ngành Quản trị nguồn nhân lực, Quản trị kinh doanh hoặc các chuyên ngành liên quan. Có định hướng phát triển sự nghiệp với nghề nhân sự.\\n- Có kinh nghiệm liên quan. \\n- Có kiến thức về luật. \\n- Có tư duy nhân sự và khả năng phân tích, kiểm soát tốt.\\n- Mạnh về excel, tin học văn phòng.</td>\n",
       "      <td>- Mức lương khởi điểm: Đến 10 triệu đồng/ tháng (thương lượng dựa trên năng lực. Đánh giá tăng lương định kỳ, chế độ thưởng cuối năm, thưởng các dịp lễ, Tết,...)\\n- Được đảm bảo đầy đủ các chế độ Phúc lợi theo quy định của pháp luật hiện hành và và chính sách công ty như BHXH, BHYT, nghỉ phép năm - áp dụng ngay từ thời gian thử việc…\\n- Không gian làm việc đẹp với phòng tập gym hiện đại, 2 phòng ngủ gỗ lớn chia ngăn riêng tư và ga gối được thay mới mỗi ngày, cùng quầy cafe, trà cho từng tầng và quầy đồ ăn nhẹ đầy ắp.\\n- Môi trường làm việc trẻ trung, năng động, có nhiều cơ hội phát triển và tạo dựng con đường phát triển sự nghiệp bền vững.\\n- Văn hóa trao quyền, tự quyết định và có đủ không gian để sáng tạo, góp phần tạo nên ảnh hưởng lớn cho ngành E-Logistics Việt.\\n- Được đào tạo các kỹ năng, kiến thức liên quan đến công việc và lĩnh vực hoạt động của Công ty.\\n- Cơ hội thăng tiến cao trong nghề nghiệp và thu nhập.</td>\n",
       "    </tr>\n",
       "    <tr>\n",
       "      <th>28</th>\n",
       "      <td>Meow House</td>\n",
       "      <td>Thực Tập Sinh Data Analyst</td>\n",
       "      <td>Xử lý dữ liệu trên Power BI\\nXây dựng các báo cáo dựa trên các câu hỏi\\nXây dựng các Dashboard theo thiết kế UI có sẵn\\nTối ưu hiệu năng tính toán</td>\n",
       "      <td>Sinh viên năm 3, 4 có kiến thức cơ bản về ngôn ngữ lập trình SQL\\nCó kiến thức nền tảng về xác suất, thống kê\\nCó hiểu biết về cơ sở dữ liệu, mô hình hoá dữ liệu\\nƯu tiên đã từng sử dụng phần mềm trực quan hoá dữ liệu: Power BI\\nThời gian thực tập: 3 tháng (T2-T6) - bán thời gian/ toàn thời gian</td>\n",
       "      <td>Làm việc Online\\nHỗ trợ dấu\\nTrợ cấp thực tập\\nHỗ trợ làm báo cáo thực tập</td>\n",
       "    </tr>\n",
       "    <tr>\n",
       "      <th>19</th>\n",
       "      <td>Công Ty TNHH TransCosmos Việt Nam</td>\n",
       "      <td>Data Analyst</td>\n",
       "      <td>Perform analysis and forecast volumes\\nPerform Headcount forecast\\nMonitor attendance and schedule adherence\\nPrepare intraday reports on staff attendance\\nMaintain data required for measuring the agent performance in the defined format (PBI, Excel, etc.)\\nPrepare Team performance by supervisors for managers’ review\\nProvide and consolidate data required for preparing Minutes of Acceptance\\nCalculate the unit/headcount as per client approved Email/Contract\\nSend billing data to Operations/Client for review/approval\\nAlert Operations or higher-level management upon finding frauds\\nCommunicate with management and operations team to ensure compliance with company standards</td>\n",
       "      <td>At least 1-year of experience in the same position\\nMust have an excellent working knowledge of Excel and other Windows-based programs (Word, PowerPoint, etc.)\\nGood at CRM, Telephony systems,...\\nUnderstanding of overall operational activities including phone, email, chat, community and social media support\\nBasic English communication skills</td>\n",
       "      <td>Salary: negotiation\\nPeriodical bonus: twice/ year\\nPosition promotion, salary increase: once/ year\\n13th-month salary\\nInsurances followed Vietnamese Labor Law\\nBonuses, gifts for HolidaysAttractive team-building activities, regular internal activities</td>\n",
       "    </tr>\n",
       "    <tr>\n",
       "      <th>2</th>\n",
       "      <td>Công ty Cổ phần VIN3S</td>\n",
       "      <td>Data Analyst</td>\n",
       "      <td>Objective\\n• Apply analysis, problem solving methods, processes, and systems to consolidate and analyze, visualize data to generate insights to improve customer experience and business operation. Responsibilities • Assess the effectiveness and accuracy of data sources and data gathering techniques.\\n• Analyze and interpret patterns in complex data sets to identify what has happened to the business, why it happened for the purpose of performance management.\\n• Use data visualization tools and techniques to generate dashboards, reports and presentations that aid in data storytelling to enable stakeholders understand the pattern of data, analytical findings, recommendations.\\n• Create and maintain statistical models for ongoing and ad hoc review and analysis of data.\\n• Assist senior Data Scientists to develop Machine Learning models.\\n• Develop processes and tools to monitor and analyze model performance and data accuracy.</td>\n",
       "      <td>• Bachelor’s degree in Business Analytics, Business Information System, Computer Science, or Quantitative Analysis.\\n• At least 4 years of relevant experience in areas of data analysis, reporting and planning.\\n• Experience in querying databases and using programming languages such as R, Python, Scala, SQL.\\n• Experience with Google Analytics, Google Cloud Platform, Graph Database is highly preferred.\\n• Experience in data management, data modelling, ETL and analysis functions.\\n• Experience with data analysis and BI tools such as PowerBI (highly preferred), QuickSight, Tableau.\\n• Understanding of information security principles to ensure data privacy compliance is a plus.\\n• Strong understanding of Agile principles, practices, and scrum methodology\\n• Experience working in Agile teams to support digital transformation projects\\n• Proficient in English is highly preferred</td>\n",
       "      <td>Salary is attractive and commensurates with competence\\nVarious training on hot-trend technologies, best practices and soft skill\\nPerformance review to adjust salary and title/position every year\\nBao Viet health insurance / Social insurance as required by law\\n13 months of salary + and many other side benefits such as lunch allowance, healthcare program, annual health-screen, sport activities, gifts on special occasions \\nSpecial discounts on Vinmec, Vinhomes, Vinschool, VinFast, and other Vinmec, Vinhomes, Vinschool, and VinFast products and services...</td>\n",
       "    </tr>\n",
       "  </tbody>\n",
       "</table>\n",
       "</div>"
      ],
      "text/plain": [
       "                                  Company                                                 Title                                                                                                                                                                                                                                                                                                                                                                                                                                                                                                                                                                                                                                                                                                                                                                                                                                                                                                                                                             Description                                                                                                                                                                                                                                                                                                                                                                                                                                                                                                                                                                                                                                                                                                                                                                                                                                                                                                               Required                                                                                                                                                                                                                                                                                                                                                                                                                                                                                                                                                                                                                                                                                                                                                                                                                                                                                                                                                            Benifits\n",
       "25  CÔNG TY TNHH EROC COMMERCE (VIỆT NAM)  Nhân Viên Phân Tích Dữ Liệu Kinh Doanh                • Thu thập, phân tích và lập báo cáo từ data của các shop bán hàng trên các sàn thương mại điện tử và update hàng ngày cho các Lead và KAM để giúp công ty nắm tình hình kinh doanh và có những kế hoạch làm việc kịp thời.\\n• Lập các bảng báo cáo để phân tích, theo dõi tình hình kinh doanh hàng ngày, hàng tháng, quý, năm,...,đồng thời đưa ra các nhận định giúp doanh nghiệp có thể phát triển, cải thiện hơn nữa trong tương lai.\\n• Hỗ trợ Lead/KAM làm báo cáo cho các brand về doanh thu, ngân sách,,...\\n• Đồng bộ hóa dữ liệu từ nhiều sàn, nhiều nguồn giúp tối ưu hóa công việc cho công ty.\\n• Các công việc khác tùy vào yêu cầu của Manager                                                                                                                                                                                                                                                                                                          • Ít nhất 1 năm kinh nghiệm làm việc trong lĩnh vực Business Intelligence or Data Analytics trong ngành Ecommerce\\n• Thành thạo Excel, Power BI, Power Pivot,...\\n• Có tư duy phân tích tốt, ham học hỏi, có thái độ tốt trong công việc.\\n• Giao tiếp tốt bằng cả tiếng Việt lẫn tiếng Anh, biết tiếng Trung là 1 điểm cộng\\n• Có khả năng làm việc tốt với nhiều team                                                                                                                                                                                                                                                                                                                                                                                                                                                                                                                                                - Lương: thỏa thuận theo năng lực. ( 8.000.000 vnđ – 15.000.000 vnđ )\\n- Hợp động lao động 12 tháng\\n- Thử việc: 02 tháng (85% lương )\\n- 12 ngày phép năm ( + 02 ngày tháng thử việc )\\n- Sau 02 tháng thử việc tham gia BHXH.\\n- Xét tăng lương định kỳ năm/ 2 lần.\\n- Teambulding năm/lần .\\n- Khám sức khỏe bệnh viện quốc tế năm/ lần.                                                                                                                                                                                                                                                                                                                                                                                                                                                                                                                                                                                                                       \n",
       "18  CÔNG TY CỔ PHẦN GIAO HÀNG TIẾT KIỆM    Chuyên Viên Nhân Sự (Mảng Phân Tích Dữ Liệu Nhân Sự)  - Làm về QC/BA cho hệ thống quản trị nhân sự, hỗ trợ các đầu việc về phân tích, báo cáo nhân sự.\\n- Thu thập, quản lý thông tin, hồ sơ nhân sự và nguồn lực.\\n- Nghiên cứu và đánh giá các chỉ số về nhân sự, nhằm cải thiện hiệu suất, tối ưu hóa đầu tư của doanh nghiệp cho nguồn nhân lực. \\n- Thực hiện nghiệp vụ về lương, thưởng, chế độ bảo hiểm, phúc lợi và các nghiệp vụ nhân sự khác theo phân công của cấp trên.                                                                                                                                                                                                                                                                                                                                                                                                                                                                                                                                           - Tốt nghiệp Đại học, ưu tiên chuyên ngành Quản trị nguồn nhân lực, Quản trị kinh doanh hoặc các chuyên ngành liên quan. Có định hướng phát triển sự nghiệp với nghề nhân sự.\\n- Có kinh nghiệm liên quan. \\n- Có kiến thức về luật. \\n- Có tư duy nhân sự và khả năng phân tích, kiểm soát tốt.\\n- Mạnh về excel, tin học văn phòng.                                                                                                                                                                                                                                                                                                                                                                                                                                                                                                                                                                                  - Mức lương khởi điểm: Đến 10 triệu đồng/ tháng (thương lượng dựa trên năng lực. Đánh giá tăng lương định kỳ, chế độ thưởng cuối năm, thưởng các dịp lễ, Tết,...)\\n- Được đảm bảo đầy đủ các chế độ Phúc lợi theo quy định của pháp luật hiện hành và và chính sách công ty như BHXH, BHYT, nghỉ phép năm - áp dụng ngay từ thời gian thử việc…\\n- Không gian làm việc đẹp với phòng tập gym hiện đại, 2 phòng ngủ gỗ lớn chia ngăn riêng tư và ga gối được thay mới mỗi ngày, cùng quầy cafe, trà cho từng tầng và quầy đồ ăn nhẹ đầy ắp.\\n- Môi trường làm việc trẻ trung, năng động, có nhiều cơ hội phát triển và tạo dựng con đường phát triển sự nghiệp bền vững.\\n- Văn hóa trao quyền, tự quyết định và có đủ không gian để sáng tạo, góp phần tạo nên ảnh hưởng lớn cho ngành E-Logistics Việt.\\n- Được đào tạo các kỹ năng, kiến thức liên quan đến công việc và lĩnh vực hoạt động của Công ty.\\n- Cơ hội thăng tiến cao trong nghề nghiệp và thu nhập.\n",
       "28  Meow House                             Thực Tập Sinh Data Analyst                            Xử lý dữ liệu trên Power BI\\nXây dựng các báo cáo dựa trên các câu hỏi\\nXây dựng các Dashboard theo thiết kế UI có sẵn\\nTối ưu hiệu năng tính toán                                                                                                                                                                                                                                                                                                                                                                                                                                                                                                                                                                                                                                                                                                                                                                                                                      Sinh viên năm 3, 4 có kiến thức cơ bản về ngôn ngữ lập trình SQL\\nCó kiến thức nền tảng về xác suất, thống kê\\nCó hiểu biết về cơ sở dữ liệu, mô hình hoá dữ liệu\\nƯu tiên đã từng sử dụng phần mềm trực quan hoá dữ liệu: Power BI\\nThời gian thực tập: 3 tháng (T2-T6) - bán thời gian/ toàn thời gian                                                                                                                                                                                                                                                                                                                                                                                                                                                                                                                                                                                                               Làm việc Online\\nHỗ trợ dấu\\nTrợ cấp thực tập\\nHỗ trợ làm báo cáo thực tập                                                                                                                                                                                                                                                                                                                                                                                                                                                                                                                                                                                                                                                                                                                                                                                                                                                                                        \n",
       "19  Công Ty TNHH TransCosmos Việt Nam      Data Analyst                                          Perform analysis and forecast volumes\\nPerform Headcount forecast\\nMonitor attendance and schedule adherence\\nPrepare intraday reports on staff attendance\\nMaintain data required for measuring the agent performance in the defined format (PBI, Excel, etc.)\\nPrepare Team performance by supervisors for managers’ review\\nProvide and consolidate data required for preparing Minutes of Acceptance\\nCalculate the unit/headcount as per client approved Email/Contract\\nSend billing data to Operations/Client for review/approval\\nAlert Operations or higher-level management upon finding frauds\\nCommunicate with management and operations team to ensure compliance with company standards                                                                                                                                                                                                                                                                  At least 1-year of experience in the same position\\nMust have an excellent working knowledge of Excel and other Windows-based programs (Word, PowerPoint, etc.)\\nGood at CRM, Telephony systems,...\\nUnderstanding of overall operational activities including phone, email, chat, community and social media support\\nBasic English communication skills                                                                                                                                                                                                                                                                                                                                                                                                                                                                                                                                                              Salary: negotiation\\nPeriodical bonus: twice/ year\\nPosition promotion, salary increase: once/ year\\n13th-month salary\\nInsurances followed Vietnamese Labor Law\\nBonuses, gifts for HolidaysAttractive team-building activities, regular internal activities                                                                                                                                                                                                                                                                                                                                                                                                                                                                                                                                                                                                                                                                                                     \n",
       "2   Công ty Cổ phần VIN3S                  Data Analyst                                          Objective\\n• Apply analysis, problem solving methods, processes, and systems to consolidate and analyze, visualize data to generate insights to improve customer experience and business operation. Responsibilities • Assess the effectiveness and accuracy of data sources and data gathering techniques.\\n• Analyze and interpret patterns in complex data sets to identify what has happened to the business, why it happened for the purpose of performance management.\\n• Use data visualization tools and techniques to generate dashboards, reports and presentations that aid in data storytelling to enable stakeholders understand the pattern of data, analytical findings, recommendations.\\n• Create and maintain statistical models for ongoing and ad hoc review and analysis of data.\\n• Assist senior Data Scientists to develop Machine Learning models.\\n• Develop processes and tools to monitor and analyze model performance and data accuracy.  • Bachelor’s degree in Business Analytics, Business Information System, Computer Science, or Quantitative Analysis.\\n• At least 4 years of relevant experience in areas of data analysis, reporting and planning.\\n• Experience in querying databases and using programming languages such as R, Python, Scala, SQL.\\n• Experience with Google Analytics, Google Cloud Platform, Graph Database is highly preferred.\\n• Experience in data management, data modelling, ETL and analysis functions.\\n• Experience with data analysis and BI tools such as PowerBI (highly preferred), QuickSight, Tableau.\\n• Understanding of information security principles to ensure data privacy compliance is a plus.\\n• Strong understanding of Agile principles, practices, and scrum methodology\\n• Experience working in Agile teams to support digital transformation projects\\n• Proficient in English is highly preferred  Salary is attractive and commensurates with competence\\nVarious training on hot-trend technologies, best practices and soft skill\\nPerformance review to adjust salary and title/position every year\\nBao Viet health insurance / Social insurance as required by law\\n13 months of salary + and many other side benefits such as lunch allowance, healthcare program, annual health-screen, sport activities, gifts on special occasions \\nSpecial discounts on Vinmec, Vinhomes, Vinschool, VinFast, and other Vinmec, Vinhomes, Vinschool, and VinFast products and services...                                                                                                                                                                                                                                                                                                                                                                                "
      ]
     },
     "execution_count": 224,
     "metadata": {},
     "output_type": "execute_result"
    }
   ],
   "source": [
    "jd = pd.read_csv('jd_topcv.csv')\n",
    "jd.sample(5)"
   ]
  },
  {
   "cell_type": "code",
   "execution_count": 225,
   "id": "7b7c1375",
   "metadata": {
    "scrolled": true
   },
   "outputs": [
    {
     "name": "stdout",
     "output_type": "stream",
     "text": [
      "<class 'pandas.core.frame.DataFrame'>\n",
      "RangeIndex: 30 entries, 0 to 29\n",
      "Data columns (total 9 columns):\n",
      " #   Column        Non-Null Count  Dtype \n",
      "---  ------        --------------  ----- \n",
      " 0   Company       30 non-null     object\n",
      " 1   Title         30 non-null     object\n",
      " 2   Salary        30 non-null     object\n",
      " 3   Quantity      30 non-null     object\n",
      " 4   Working form  30 non-null     object\n",
      " 5   Level         30 non-null     object\n",
      " 6   Sex           30 non-null     object\n",
      " 7   Experienced   30 non-null     object\n",
      " 8   Links         30 non-null     object\n",
      "dtypes: object(9)\n",
      "memory usage: 2.2+ KB\n"
     ]
    }
   ],
   "source": [
    "data.info()"
   ]
  },
  {
   "cell_type": "code",
   "execution_count": 226,
   "id": "6616f834",
   "metadata": {
    "scrolled": true
   },
   "outputs": [
    {
     "name": "stdout",
     "output_type": "stream",
     "text": [
      "<class 'pandas.core.frame.DataFrame'>\n",
      "RangeIndex: 30 entries, 0 to 29\n",
      "Data columns (total 5 columns):\n",
      " #   Column       Non-Null Count  Dtype \n",
      "---  ------       --------------  ----- \n",
      " 0   Company      30 non-null     object\n",
      " 1   Title        30 non-null     object\n",
      " 2   Description  30 non-null     object\n",
      " 3   Required     30 non-null     object\n",
      " 4   Benifits     30 non-null     object\n",
      "dtypes: object(5)\n",
      "memory usage: 1.3+ KB\n"
     ]
    }
   ],
   "source": [
    "jd.info()"
   ]
  },
  {
   "cell_type": "markdown",
   "id": "f04466c8",
   "metadata": {},
   "source": [
    "### intern"
   ]
  },
  {
   "cell_type": "code",
   "execution_count": 227,
   "id": "fb79f370",
   "metadata": {},
   "outputs": [],
   "source": [
    "# ddt_tts.rename(columns={'Company':'Company','Title':'Title','Mức lương':'Salary','Số lượng tuyển':'Quantity',\n",
    "#                     'Hình thức làm việc':'Working form','Cấp bậc':'Level','Giới tính':'Sex',\n",
    "#                      'Kinh nghiệm':'Experienced','Links':'Links'},inplace=True)\n",
    "# ddt_tts[:5]"
   ]
  },
  {
   "cell_type": "code",
   "execution_count": 228,
   "id": "66d354b9",
   "metadata": {},
   "outputs": [],
   "source": [
    "# ddt_tts['Salary'] = ddt_tts['Salary'].str.replace(' triệu','').str.replace(' USD','').str.replace(',','').str.replace('Tới ','0-').str.replace('Trên ','0-').str.replace('Thoả thuận','0-0')\n",
    "# ddt_tts[['Min Salary','Max Salary']] = ddt_tts['Salary'].str.split(\"-\",expand=True)\n",
    "# ddt_tts"
   ]
  },
  {
   "cell_type": "code",
   "execution_count": 229,
   "id": "7b494cdc",
   "metadata": {},
   "outputs": [],
   "source": [
    "# ddt_tts[['Min Salary','Max Salary']] = ddt_tts[['Min Salary','Max Salary']].astype('float')"
   ]
  },
  {
   "cell_type": "code",
   "execution_count": 230,
   "id": "db6c809c",
   "metadata": {},
   "outputs": [],
   "source": [
    "# ddt_tts = ddt_tts.loc[:, ['Company', 'Title', 'Min Salary', 'Max Salary','Quantity', 'Working form', 'Level', 'Sex',\n",
    "#        'Experienced', 'Links']]\n",
    "# ddt_tts.head()"
   ]
  },
  {
   "cell_type": "markdown",
   "id": "72d1008c",
   "metadata": {},
   "source": [
    "## 3. Exploring "
   ]
  },
  {
   "cell_type": "markdown",
   "id": "99cec220",
   "metadata": {},
   "source": [
    "\n",
    "***Về công việc:***\n",
    "\n",
    "**- Mức lương trung bình của công việc (chuyển đổi thành dạng số, thỏa thuận thay bằng trung bình, với ràng buộc: hình thức làm việc, kinh nghiệm và cấp bậc)**\n",
    "- Số lượng tuyển trung bình/thông thường (most frequenlty)\n",
    "- Giới tính, cấp bậc, kinh nghiệm, hình thức làm việc unique\n",
    "\n",
    "***Về mô tả công việc:***\n",
    "- vẽ biểu đồ wordcloud des,re,be\n",
    "- re --> các yêu cầu chính cho vị trí\n",
    "- des --> các công việc chính\n",
    "\n",
    "***xa hơn: liệu có cách nào phân nhóm ngành từ tên công ty? từ đó phân tích được nhóm ngành nào thì yêu cầu kỹ năng nào nhiều hơn? sự khác biệt về kỹ năng yêu cầu giữa các nhóm ngành?\n",
    "\n"
   ]
  },
  {
   "cell_type": "code",
   "execution_count": 231,
   "id": "87d71312",
   "metadata": {},
   "outputs": [
    {
     "data": {
      "text/plain": [
       "array(['Toàn thời gian', 'Thực tập'], dtype=object)"
      ]
     },
     "execution_count": 231,
     "metadata": {},
     "output_type": "execute_result"
    }
   ],
   "source": [
    "## remove 'thoa thuan':\n",
    "data['Working form'].unique()"
   ]
  },
  {
   "cell_type": "code",
   "execution_count": 232,
   "id": "af5cebfb",
   "metadata": {},
   "outputs": [
    {
     "data": {
      "text/plain": [
       "array(['1 năm', '2 năm', '4 năm', '3 năm', 'Dưới 1 năm',\n",
       "       'Không yêu cầu kinh nghiệm'], dtype=object)"
      ]
     },
     "execution_count": 232,
     "metadata": {},
     "output_type": "execute_result"
    }
   ],
   "source": [
    "data['Experienced'].unique()"
   ]
  },
  {
   "cell_type": "code",
   "execution_count": 233,
   "id": "eb5c4c5a",
   "metadata": {},
   "outputs": [
    {
     "data": {
      "text/plain": [
       "array(['Nhân viên', 'Thực tập sinh'], dtype=object)"
      ]
     },
     "execution_count": 233,
     "metadata": {},
     "output_type": "execute_result"
    }
   ],
   "source": [
    "data['Level'].unique()"
   ]
  },
  {
   "cell_type": "code",
   "execution_count": 234,
   "id": "60936cc4",
   "metadata": {},
   "outputs": [
    {
     "data": {
      "text/plain": [
       "array(['10-18 triệu', 'Thoả thuận', '12-15 triệu', '1,000-1,500 USD',\n",
       "       '10-15 triệu', 'Tới 30 triệu', 'Tới 16 triệu', '15-20 triệu',\n",
       "       'Tới 2 triệu', 'Tới 10 triệu', '2-3 triệu', '35-45 triệu',\n",
       "       'Trên 3 triệu', '0.5-2 triệu'], dtype=object)"
      ]
     },
     "execution_count": 234,
     "metadata": {},
     "output_type": "execute_result"
    }
   ],
   "source": [
    "data['Salary'].unique()"
   ]
  },
  {
   "cell_type": "code",
   "execution_count": 235,
   "id": "69477c7a",
   "metadata": {},
   "outputs": [],
   "source": [
    "## format salary:\n",
    "#loc salary: thoa thuan\n",
    "data.loc[data['Salary']=='Thoả thuận', 'Salary'] = np.nan\n",
    "data.dropna(inplace=True)"
   ]
  },
  {
   "cell_type": "code",
   "execution_count": 236,
   "id": "05e376e8",
   "metadata": {},
   "outputs": [],
   "source": [
    "data['Salary'] = data['Salary'].str.replace(' triệu','').str.replace(' USD','').str.replace(',','').str.replace('Tới ','0-').str.replace('Trên ','0-')\n",
    "data[['Min Salary','Max Salary']] = data['Salary'].str.split(\"-\",expand=True)"
   ]
  },
  {
   "cell_type": "code",
   "execution_count": 237,
   "id": "30fb6d66",
   "metadata": {},
   "outputs": [
    {
     "data": {
      "text/html": [
       "<div>\n",
       "<style scoped>\n",
       "    .dataframe tbody tr th:only-of-type {\n",
       "        vertical-align: middle;\n",
       "    }\n",
       "\n",
       "    .dataframe tbody tr th {\n",
       "        vertical-align: top;\n",
       "    }\n",
       "\n",
       "    .dataframe thead th {\n",
       "        text-align: right;\n",
       "    }\n",
       "</style>\n",
       "<table border=\"1\" class=\"dataframe\">\n",
       "  <thead>\n",
       "    <tr style=\"text-align: right;\">\n",
       "      <th></th>\n",
       "      <th>Company</th>\n",
       "      <th>Title</th>\n",
       "      <th>Salary</th>\n",
       "      <th>Quantity</th>\n",
       "      <th>Working form</th>\n",
       "      <th>Level</th>\n",
       "      <th>Sex</th>\n",
       "      <th>Experienced</th>\n",
       "      <th>Links</th>\n",
       "      <th>Min Salary</th>\n",
       "      <th>Max Salary</th>\n",
       "    </tr>\n",
       "  </thead>\n",
       "  <tbody>\n",
       "    <tr>\n",
       "      <th>0</th>\n",
       "      <td>CÔNG TY TNHH THƯƠNG MẠI DỊCH VỤ VGS</td>\n",
       "      <td>Game Data Analyst - Phân Tích Dữ Liệu Game</td>\n",
       "      <td>10-18</td>\n",
       "      <td>1 người</td>\n",
       "      <td>Toàn thời gian</td>\n",
       "      <td>Nhân viên</td>\n",
       "      <td>Nam</td>\n",
       "      <td>1 năm</td>\n",
       "      <td>https://www.topcv.vn/viec-lam/game-data-analyst-phan-tich-du-lieu-game/856539.html?ta_source=JobSearchList</td>\n",
       "      <td>10</td>\n",
       "      <td>18</td>\n",
       "    </tr>\n",
       "    <tr>\n",
       "      <th>3</th>\n",
       "      <td>Công ty cổ phần Hai Bốn Bảy</td>\n",
       "      <td>Chuyên Viên Phân Tích Dữ Liệu</td>\n",
       "      <td>12-15</td>\n",
       "      <td>1 người</td>\n",
       "      <td>Toàn thời gian</td>\n",
       "      <td>Nhân viên</td>\n",
       "      <td>Không yêu cầu</td>\n",
       "      <td>2 năm</td>\n",
       "      <td>https://www.topcv.vn/viec-lam/chuyen-vien-phan-tich-du-lieu/839678.html?ta_source=JobSearchList</td>\n",
       "      <td>12</td>\n",
       "      <td>15</td>\n",
       "    </tr>\n",
       "    <tr>\n",
       "      <th>4</th>\n",
       "      <td>CÔNG TY TNHH FINAN (SoBanHang)</td>\n",
       "      <td>Data Analyst (BI Controller) _ Lương Upto $1,500</td>\n",
       "      <td>1000-1500</td>\n",
       "      <td>1 người</td>\n",
       "      <td>Toàn thời gian</td>\n",
       "      <td>Nhân viên</td>\n",
       "      <td>Không yêu cầu</td>\n",
       "      <td>3 năm</td>\n",
       "      <td>https://www.topcv.vn/viec-lam/data-analyst-bi-controller-luong-upto-1-500/838249.html?ta_source=JobSearchList</td>\n",
       "      <td>1000</td>\n",
       "      <td>1500</td>\n",
       "    </tr>\n",
       "    <tr>\n",
       "      <th>6</th>\n",
       "      <td>CÔNG TY TNHH PUZZLE STUDIO</td>\n",
       "      <td>Data Analyst</td>\n",
       "      <td>10-15</td>\n",
       "      <td>2 người</td>\n",
       "      <td>Toàn thời gian</td>\n",
       "      <td>Nhân viên</td>\n",
       "      <td>Không yêu cầu</td>\n",
       "      <td>1 năm</td>\n",
       "      <td>https://www.topcv.vn/viec-lam/data-analyst/468705.html?ta_source=JobSearchList</td>\n",
       "      <td>10</td>\n",
       "      <td>15</td>\n",
       "    </tr>\n",
       "    <tr>\n",
       "      <th>7</th>\n",
       "      <td>Công Ty TNHH TransCosmos Việt Nam</td>\n",
       "      <td>Data Analyst (Contact/Call Center)</td>\n",
       "      <td>0-30</td>\n",
       "      <td>1 người</td>\n",
       "      <td>Toàn thời gian</td>\n",
       "      <td>Nhân viên</td>\n",
       "      <td>Không yêu cầu</td>\n",
       "      <td>1 năm</td>\n",
       "      <td>https://www.topcv.vn/brand/transcosmosvietnam/tuyen-dung/data-analyst-contact-call-center-j834750.html?ta_source=JobSearchList</td>\n",
       "      <td>0</td>\n",
       "      <td>30</td>\n",
       "    </tr>\n",
       "  </tbody>\n",
       "</table>\n",
       "</div>"
      ],
      "text/plain": [
       "                               Company                                             Title     Salary Quantity    Working form      Level            Sex Experienced                                                                                                                           Links Min Salary Max Salary\n",
       "0  CÔNG TY TNHH THƯƠNG MẠI DỊCH VỤ VGS  Game Data Analyst - Phân Tích Dữ Liệu Game        10-18      1 người  Toàn thời gian  Nhân viên  Nam            1 năm       https://www.topcv.vn/viec-lam/game-data-analyst-phan-tich-du-lieu-game/856539.html?ta_source=JobSearchList                      10         18       \n",
       "3  Công ty cổ phần Hai Bốn Bảy          Chuyên Viên Phân Tích Dữ Liệu                     12-15      1 người  Toàn thời gian  Nhân viên  Không yêu cầu  2 năm       https://www.topcv.vn/viec-lam/chuyen-vien-phan-tich-du-lieu/839678.html?ta_source=JobSearchList                                 12         15       \n",
       "4  CÔNG TY TNHH FINAN (SoBanHang)       Data Analyst (BI Controller) _ Lương Upto $1,500  1000-1500  1 người  Toàn thời gian  Nhân viên  Không yêu cầu  3 năm       https://www.topcv.vn/viec-lam/data-analyst-bi-controller-luong-upto-1-500/838249.html?ta_source=JobSearchList                   1000       1500     \n",
       "6  CÔNG TY TNHH PUZZLE STUDIO           Data Analyst                                      10-15      2 người  Toàn thời gian  Nhân viên  Không yêu cầu  1 năm       https://www.topcv.vn/viec-lam/data-analyst/468705.html?ta_source=JobSearchList                                                  10         15       \n",
       "7  Công Ty TNHH TransCosmos Việt Nam    Data Analyst (Contact/Call Center)                0-30       1 người  Toàn thời gian  Nhân viên  Không yêu cầu  1 năm       https://www.topcv.vn/brand/transcosmosvietnam/tuyen-dung/data-analyst-contact-call-center-j834750.html?ta_source=JobSearchList  0          30       "
      ]
     },
     "execution_count": 237,
     "metadata": {},
     "output_type": "execute_result"
    }
   ],
   "source": [
    "data.head()"
   ]
  },
  {
   "cell_type": "code",
   "execution_count": 238,
   "id": "7eea843b",
   "metadata": {
    "scrolled": true
   },
   "outputs": [
    {
     "data": {
      "text/html": [
       "<div>\n",
       "<style scoped>\n",
       "    .dataframe tbody tr th:only-of-type {\n",
       "        vertical-align: middle;\n",
       "    }\n",
       "\n",
       "    .dataframe tbody tr th {\n",
       "        vertical-align: top;\n",
       "    }\n",
       "\n",
       "    .dataframe thead th {\n",
       "        text-align: right;\n",
       "    }\n",
       "</style>\n",
       "<table border=\"1\" class=\"dataframe\">\n",
       "  <thead>\n",
       "    <tr style=\"text-align: right;\">\n",
       "      <th></th>\n",
       "      <th>Company</th>\n",
       "      <th>Title</th>\n",
       "      <th>Min Salary</th>\n",
       "      <th>Max Salary</th>\n",
       "      <th>Quantity</th>\n",
       "      <th>Working form</th>\n",
       "      <th>Level</th>\n",
       "      <th>Sex</th>\n",
       "      <th>Experienced</th>\n",
       "      <th>Links</th>\n",
       "    </tr>\n",
       "  </thead>\n",
       "  <tbody>\n",
       "    <tr>\n",
       "      <th>0</th>\n",
       "      <td>CÔNG TY TNHH THƯƠNG MẠI DỊCH VỤ VGS</td>\n",
       "      <td>Game Data Analyst - Phân Tích Dữ Liệu Game</td>\n",
       "      <td>10</td>\n",
       "      <td>18</td>\n",
       "      <td>1 người</td>\n",
       "      <td>Toàn thời gian</td>\n",
       "      <td>Nhân viên</td>\n",
       "      <td>Nam</td>\n",
       "      <td>1 năm</td>\n",
       "      <td>https://www.topcv.vn/viec-lam/game-data-analyst-phan-tich-du-lieu-game/856539.html?ta_source=JobSearchList</td>\n",
       "    </tr>\n",
       "    <tr>\n",
       "      <th>3</th>\n",
       "      <td>Công ty cổ phần Hai Bốn Bảy</td>\n",
       "      <td>Chuyên Viên Phân Tích Dữ Liệu</td>\n",
       "      <td>12</td>\n",
       "      <td>15</td>\n",
       "      <td>1 người</td>\n",
       "      <td>Toàn thời gian</td>\n",
       "      <td>Nhân viên</td>\n",
       "      <td>Không yêu cầu</td>\n",
       "      <td>2 năm</td>\n",
       "      <td>https://www.topcv.vn/viec-lam/chuyen-vien-phan-tich-du-lieu/839678.html?ta_source=JobSearchList</td>\n",
       "    </tr>\n",
       "    <tr>\n",
       "      <th>4</th>\n",
       "      <td>CÔNG TY TNHH FINAN (SoBanHang)</td>\n",
       "      <td>Data Analyst (BI Controller) _ Lương Upto $1,500</td>\n",
       "      <td>1000</td>\n",
       "      <td>1500</td>\n",
       "      <td>1 người</td>\n",
       "      <td>Toàn thời gian</td>\n",
       "      <td>Nhân viên</td>\n",
       "      <td>Không yêu cầu</td>\n",
       "      <td>3 năm</td>\n",
       "      <td>https://www.topcv.vn/viec-lam/data-analyst-bi-controller-luong-upto-1-500/838249.html?ta_source=JobSearchList</td>\n",
       "    </tr>\n",
       "    <tr>\n",
       "      <th>6</th>\n",
       "      <td>CÔNG TY TNHH PUZZLE STUDIO</td>\n",
       "      <td>Data Analyst</td>\n",
       "      <td>10</td>\n",
       "      <td>15</td>\n",
       "      <td>2 người</td>\n",
       "      <td>Toàn thời gian</td>\n",
       "      <td>Nhân viên</td>\n",
       "      <td>Không yêu cầu</td>\n",
       "      <td>1 năm</td>\n",
       "      <td>https://www.topcv.vn/viec-lam/data-analyst/468705.html?ta_source=JobSearchList</td>\n",
       "    </tr>\n",
       "    <tr>\n",
       "      <th>7</th>\n",
       "      <td>Công Ty TNHH TransCosmos Việt Nam</td>\n",
       "      <td>Data Analyst (Contact/Call Center)</td>\n",
       "      <td>0</td>\n",
       "      <td>30</td>\n",
       "      <td>1 người</td>\n",
       "      <td>Toàn thời gian</td>\n",
       "      <td>Nhân viên</td>\n",
       "      <td>Không yêu cầu</td>\n",
       "      <td>1 năm</td>\n",
       "      <td>https://www.topcv.vn/brand/transcosmosvietnam/tuyen-dung/data-analyst-contact-call-center-j834750.html?ta_source=JobSearchList</td>\n",
       "    </tr>\n",
       "  </tbody>\n",
       "</table>\n",
       "</div>"
      ],
      "text/plain": [
       "                               Company                                             Title Min Salary Max Salary Quantity    Working form      Level            Sex Experienced                                                                                                                           Links\n",
       "0  CÔNG TY TNHH THƯƠNG MẠI DỊCH VỤ VGS  Game Data Analyst - Phân Tích Dữ Liệu Game        10         18         1 người  Toàn thời gian  Nhân viên  Nam            1 năm       https://www.topcv.vn/viec-lam/game-data-analyst-phan-tich-du-lieu-game/856539.html?ta_source=JobSearchList                    \n",
       "3  Công ty cổ phần Hai Bốn Bảy          Chuyên Viên Phân Tích Dữ Liệu                     12         15         1 người  Toàn thời gian  Nhân viên  Không yêu cầu  2 năm       https://www.topcv.vn/viec-lam/chuyen-vien-phan-tich-du-lieu/839678.html?ta_source=JobSearchList                               \n",
       "4  CÔNG TY TNHH FINAN (SoBanHang)       Data Analyst (BI Controller) _ Lương Upto $1,500  1000       1500       1 người  Toàn thời gian  Nhân viên  Không yêu cầu  3 năm       https://www.topcv.vn/viec-lam/data-analyst-bi-controller-luong-upto-1-500/838249.html?ta_source=JobSearchList                 \n",
       "6  CÔNG TY TNHH PUZZLE STUDIO           Data Analyst                                      10         15         2 người  Toàn thời gian  Nhân viên  Không yêu cầu  1 năm       https://www.topcv.vn/viec-lam/data-analyst/468705.html?ta_source=JobSearchList                                                \n",
       "7  Công Ty TNHH TransCosmos Việt Nam    Data Analyst (Contact/Call Center)                0          30         1 người  Toàn thời gian  Nhân viên  Không yêu cầu  1 năm       https://www.topcv.vn/brand/transcosmosvietnam/tuyen-dung/data-analyst-contact-call-center-j834750.html?ta_source=JobSearchList"
      ]
     },
     "execution_count": 238,
     "metadata": {},
     "output_type": "execute_result"
    }
   ],
   "source": [
    "data = data.loc[:, ['Company', 'Title', 'Min Salary', 'Max Salary','Quantity', 'Working form', 'Level', 'Sex',\n",
    "       'Experienced', 'Links']]\n",
    "data.head()"
   ]
  },
  {
   "cell_type": "code",
   "execution_count": 239,
   "id": "22a06b1a",
   "metadata": {},
   "outputs": [],
   "source": [
    "data[['Min Salary','Max Salary']]= data[['Min Salary','Max Salary']].astype('float')\n"
   ]
  },
  {
   "cell_type": "code",
   "execution_count": 240,
   "id": "e1e7c637",
   "metadata": {},
   "outputs": [],
   "source": [
    "data.loc[(data['Min Salary']==0),['Min Salary']]=np.nan\n",
    "data.loc[data['Max Salary']==0,['Max Salary']]=np.nan"
   ]
  },
  {
   "cell_type": "code",
   "execution_count": 241,
   "id": "1e7caec6",
   "metadata": {},
   "outputs": [],
   "source": [
    "data.dropna(inplace=True)"
   ]
  },
  {
   "cell_type": "code",
   "execution_count": 242,
   "id": "9aa21c6c",
   "metadata": {},
   "outputs": [
    {
     "name": "stdout",
     "output_type": "stream",
     "text": [
      "<class 'pandas.core.frame.DataFrame'>\n",
      "Int64Index: 9 entries, 0 to 28\n",
      "Data columns (total 10 columns):\n",
      " #   Column        Non-Null Count  Dtype  \n",
      "---  ------        --------------  -----  \n",
      " 0   Company       9 non-null      object \n",
      " 1   Title         9 non-null      object \n",
      " 2   Min Salary    9 non-null      float64\n",
      " 3   Max Salary    9 non-null      float64\n",
      " 4   Quantity      9 non-null      object \n",
      " 5   Working form  9 non-null      object \n",
      " 6   Level         9 non-null      object \n",
      " 7   Sex           9 non-null      object \n",
      " 8   Experienced   9 non-null      object \n",
      " 9   Links         9 non-null      object \n",
      "dtypes: float64(2), object(8)\n",
      "memory usage: 792.0+ bytes\n"
     ]
    }
   ],
   "source": [
    "data.info()"
   ]
  },
  {
   "cell_type": "code",
   "execution_count": 243,
   "id": "12e5ddf9",
   "metadata": {},
   "outputs": [],
   "source": [
    "data['Min Salary'] = np.where(data['Min Salary']<500, round(data['Min Salary']*1000000,1), \n",
    "                                round(data['Min Salary']*23000,1))"
   ]
  },
  {
   "cell_type": "code",
   "execution_count": 244,
   "id": "ec357db2",
   "metadata": {},
   "outputs": [],
   "source": [
    "data['Max Salary'] = np.where(data['Max Salary']<500, round(data['Max Salary']*1000000,1), \n",
    "                                round(data['Max Salary']*23000,1))"
   ]
  },
  {
   "cell_type": "code",
   "execution_count": 245,
   "id": "e67e9220",
   "metadata": {},
   "outputs": [],
   "source": [
    "data['Quantity'] = data['Quantity'].str.extract('(\\d)')"
   ]
  },
  {
   "cell_type": "code",
   "execution_count": 246,
   "id": "b622169f",
   "metadata": {},
   "outputs": [],
   "source": [
    "data['Experienced'] = data['Experienced'].str.extract('(\\d)')"
   ]
  },
  {
   "cell_type": "code",
   "execution_count": 247,
   "id": "0991cb68",
   "metadata": {
    "scrolled": false
   },
   "outputs": [
    {
     "data": {
      "text/html": [
       "<div>\n",
       "<style scoped>\n",
       "    .dataframe tbody tr th:only-of-type {\n",
       "        vertical-align: middle;\n",
       "    }\n",
       "\n",
       "    .dataframe tbody tr th {\n",
       "        vertical-align: top;\n",
       "    }\n",
       "\n",
       "    .dataframe thead th {\n",
       "        text-align: right;\n",
       "    }\n",
       "</style>\n",
       "<table border=\"1\" class=\"dataframe\">\n",
       "  <thead>\n",
       "    <tr style=\"text-align: right;\">\n",
       "      <th></th>\n",
       "      <th>Company</th>\n",
       "      <th>Title</th>\n",
       "      <th>Min Salary</th>\n",
       "      <th>Max Salary</th>\n",
       "      <th>Quantity</th>\n",
       "      <th>Working form</th>\n",
       "      <th>Level</th>\n",
       "      <th>Sex</th>\n",
       "      <th>Experienced</th>\n",
       "      <th>Links</th>\n",
       "    </tr>\n",
       "  </thead>\n",
       "  <tbody>\n",
       "    <tr>\n",
       "      <th>3</th>\n",
       "      <td>Công ty cổ phần Hai Bốn Bảy</td>\n",
       "      <td>Chuyên Viên Phân Tích Dữ Liệu</td>\n",
       "      <td>12000000.0</td>\n",
       "      <td>15000000.0</td>\n",
       "      <td>1</td>\n",
       "      <td>Toàn thời gian</td>\n",
       "      <td>Nhân viên</td>\n",
       "      <td>Không yêu cầu</td>\n",
       "      <td>2</td>\n",
       "      <td>https://www.topcv.vn/viec-lam/chuyen-vien-phan-tich-du-lieu/839678.html?ta_source=JobSearchList</td>\n",
       "    </tr>\n",
       "    <tr>\n",
       "      <th>6</th>\n",
       "      <td>CÔNG TY TNHH PUZZLE STUDIO</td>\n",
       "      <td>Data Analyst</td>\n",
       "      <td>10000000.0</td>\n",
       "      <td>15000000.0</td>\n",
       "      <td>2</td>\n",
       "      <td>Toàn thời gian</td>\n",
       "      <td>Nhân viên</td>\n",
       "      <td>Không yêu cầu</td>\n",
       "      <td>1</td>\n",
       "      <td>https://www.topcv.vn/viec-lam/data-analyst/468705.html?ta_source=JobSearchList</td>\n",
       "    </tr>\n",
       "    <tr>\n",
       "      <th>4</th>\n",
       "      <td>CÔNG TY TNHH FINAN (SoBanHang)</td>\n",
       "      <td>Data Analyst (BI Controller) _ Lương Upto $1,500</td>\n",
       "      <td>23000000.0</td>\n",
       "      <td>34500000.0</td>\n",
       "      <td>1</td>\n",
       "      <td>Toàn thời gian</td>\n",
       "      <td>Nhân viên</td>\n",
       "      <td>Không yêu cầu</td>\n",
       "      <td>3</td>\n",
       "      <td>https://www.topcv.vn/viec-lam/data-analyst-bi-controller-luong-upto-1-500/838249.html?ta_source=JobSearchList</td>\n",
       "    </tr>\n",
       "    <tr>\n",
       "      <th>0</th>\n",
       "      <td>CÔNG TY TNHH THƯƠNG MẠI DỊCH VỤ VGS</td>\n",
       "      <td>Game Data Analyst - Phân Tích Dữ Liệu Game</td>\n",
       "      <td>10000000.0</td>\n",
       "      <td>18000000.0</td>\n",
       "      <td>1</td>\n",
       "      <td>Toàn thời gian</td>\n",
       "      <td>Nhân viên</td>\n",
       "      <td>Nam</td>\n",
       "      <td>1</td>\n",
       "      <td>https://www.topcv.vn/viec-lam/game-data-analyst-phan-tich-du-lieu-game/856539.html?ta_source=JobSearchList</td>\n",
       "    </tr>\n",
       "    <tr>\n",
       "      <th>28</th>\n",
       "      <td>Meow House</td>\n",
       "      <td>Thực Tập Sinh Data Analyst</td>\n",
       "      <td>500000.0</td>\n",
       "      <td>2000000.0</td>\n",
       "      <td>2</td>\n",
       "      <td>Thực tập</td>\n",
       "      <td>Thực tập sinh</td>\n",
       "      <td>Không yêu cầu</td>\n",
       "      <td>NaN</td>\n",
       "      <td>https://www.topcv.vn/viec-lam/thuc-tap-sinh-data-analyst/828323.html?ta_source=JobSearchList</td>\n",
       "    </tr>\n",
       "  </tbody>\n",
       "</table>\n",
       "</div>"
      ],
      "text/plain": [
       "                                Company                                             Title  Min Salary  Max Salary Quantity    Working form          Level            Sex Experienced                                                                                                          Links\n",
       "3   Công ty cổ phần Hai Bốn Bảy          Chuyên Viên Phân Tích Dữ Liệu                     12000000.0  15000000.0  1        Toàn thời gian  Nhân viên      Không yêu cầu  2           https://www.topcv.vn/viec-lam/chuyen-vien-phan-tich-du-lieu/839678.html?ta_source=JobSearchList              \n",
       "6   CÔNG TY TNHH PUZZLE STUDIO           Data Analyst                                      10000000.0  15000000.0  2        Toàn thời gian  Nhân viên      Không yêu cầu  1           https://www.topcv.vn/viec-lam/data-analyst/468705.html?ta_source=JobSearchList                               \n",
       "4   CÔNG TY TNHH FINAN (SoBanHang)       Data Analyst (BI Controller) _ Lương Upto $1,500  23000000.0  34500000.0  1        Toàn thời gian  Nhân viên      Không yêu cầu  3           https://www.topcv.vn/viec-lam/data-analyst-bi-controller-luong-upto-1-500/838249.html?ta_source=JobSearchList\n",
       "0   CÔNG TY TNHH THƯƠNG MẠI DỊCH VỤ VGS  Game Data Analyst - Phân Tích Dữ Liệu Game        10000000.0  18000000.0  1        Toàn thời gian  Nhân viên      Nam            1           https://www.topcv.vn/viec-lam/game-data-analyst-phan-tich-du-lieu-game/856539.html?ta_source=JobSearchList   \n",
       "28  Meow House                           Thực Tập Sinh Data Analyst                        500000.0    2000000.0   2        Thực tập        Thực tập sinh  Không yêu cầu  NaN         https://www.topcv.vn/viec-lam/thuc-tap-sinh-data-analyst/828323.html?ta_source=JobSearchList                 "
      ]
     },
     "execution_count": 247,
     "metadata": {},
     "output_type": "execute_result"
    }
   ],
   "source": [
    "data.sample(5)"
   ]
  },
  {
   "cell_type": "markdown",
   "id": "2fa58847",
   "metadata": {},
   "source": [
    "## Data Visualization"
   ]
  },
  {
   "cell_type": "markdown",
   "id": "4b0b4ce9",
   "metadata": {},
   "source": [
    "Dữ liệu của thực tập sinh quá nhỏ, cần tách riêng với dữ liệu của Level 'Nhân viên'"
   ]
  },
  {
   "cell_type": "code",
   "execution_count": 248,
   "id": "21929ab6",
   "metadata": {},
   "outputs": [
    {
     "data": {
      "text/html": [
       "<div>\n",
       "<style scoped>\n",
       "    .dataframe tbody tr th:only-of-type {\n",
       "        vertical-align: middle;\n",
       "    }\n",
       "\n",
       "    .dataframe tbody tr th {\n",
       "        vertical-align: top;\n",
       "    }\n",
       "\n",
       "    .dataframe thead th {\n",
       "        text-align: right;\n",
       "    }\n",
       "</style>\n",
       "<table border=\"1\" class=\"dataframe\">\n",
       "  <thead>\n",
       "    <tr style=\"text-align: right;\">\n",
       "      <th></th>\n",
       "      <th>Company</th>\n",
       "      <th>Title</th>\n",
       "      <th>Min Salary</th>\n",
       "      <th>Max Salary</th>\n",
       "      <th>Quantity</th>\n",
       "      <th>Working form</th>\n",
       "      <th>Level</th>\n",
       "      <th>Sex</th>\n",
       "      <th>Experienced</th>\n",
       "      <th>Links</th>\n",
       "    </tr>\n",
       "  </thead>\n",
       "  <tbody>\n",
       "    <tr>\n",
       "      <th>0</th>\n",
       "      <td>CÔNG TY TNHH THƯƠNG MẠI DỊCH VỤ VGS</td>\n",
       "      <td>Game Data Analyst - Phân Tích Dữ Liệu Game</td>\n",
       "      <td>10000000.0</td>\n",
       "      <td>18000000.0</td>\n",
       "      <td>1</td>\n",
       "      <td>Toàn thời gian</td>\n",
       "      <td>Nhân viên</td>\n",
       "      <td>Nam</td>\n",
       "      <td>1</td>\n",
       "      <td>https://www.topcv.vn/viec-lam/game-data-analyst-phan-tich-du-lieu-game/856539.html?ta_source=JobSearchList</td>\n",
       "    </tr>\n",
       "    <tr>\n",
       "      <th>3</th>\n",
       "      <td>Công ty cổ phần Hai Bốn Bảy</td>\n",
       "      <td>Chuyên Viên Phân Tích Dữ Liệu</td>\n",
       "      <td>12000000.0</td>\n",
       "      <td>15000000.0</td>\n",
       "      <td>1</td>\n",
       "      <td>Toàn thời gian</td>\n",
       "      <td>Nhân viên</td>\n",
       "      <td>Không yêu cầu</td>\n",
       "      <td>2</td>\n",
       "      <td>https://www.topcv.vn/viec-lam/chuyen-vien-phan-tich-du-lieu/839678.html?ta_source=JobSearchList</td>\n",
       "    </tr>\n",
       "    <tr>\n",
       "      <th>4</th>\n",
       "      <td>CÔNG TY TNHH FINAN (SoBanHang)</td>\n",
       "      <td>Data Analyst (BI Controller) _ Lương Upto $1,500</td>\n",
       "      <td>23000000.0</td>\n",
       "      <td>34500000.0</td>\n",
       "      <td>1</td>\n",
       "      <td>Toàn thời gian</td>\n",
       "      <td>Nhân viên</td>\n",
       "      <td>Không yêu cầu</td>\n",
       "      <td>3</td>\n",
       "      <td>https://www.topcv.vn/viec-lam/data-analyst-bi-controller-luong-upto-1-500/838249.html?ta_source=JobSearchList</td>\n",
       "    </tr>\n",
       "    <tr>\n",
       "      <th>6</th>\n",
       "      <td>CÔNG TY TNHH PUZZLE STUDIO</td>\n",
       "      <td>Data Analyst</td>\n",
       "      <td>10000000.0</td>\n",
       "      <td>15000000.0</td>\n",
       "      <td>2</td>\n",
       "      <td>Toàn thời gian</td>\n",
       "      <td>Nhân viên</td>\n",
       "      <td>Không yêu cầu</td>\n",
       "      <td>1</td>\n",
       "      <td>https://www.topcv.vn/viec-lam/data-analyst/468705.html?ta_source=JobSearchList</td>\n",
       "    </tr>\n",
       "    <tr>\n",
       "      <th>12</th>\n",
       "      <td>công ty Viễn Thông Phương Nam</td>\n",
       "      <td>Chuyên Viên Phân Tích Dữ Liệu - Data Analytics</td>\n",
       "      <td>15000000.0</td>\n",
       "      <td>20000000.0</td>\n",
       "      <td>1</td>\n",
       "      <td>Toàn thời gian</td>\n",
       "      <td>Nhân viên</td>\n",
       "      <td>Không yêu cầu</td>\n",
       "      <td>1</td>\n",
       "      <td>https://www.topcv.vn/viec-lam/chuyen-vien-phan-tich-du-lieu-data-analytics/829405.html?ta_source=JobSearchList</td>\n",
       "    </tr>\n",
       "    <tr>\n",
       "      <th>23</th>\n",
       "      <td>CÔNG TY TNHH XUẤT NHẬP KHẨU PHÁT TRIỂN ĐÔNG DƯƠNG - TẬP ĐOÀN THỂ THAO KINGSPORT</td>\n",
       "      <td>Chuyên Viên Phân Tích Thống Kê ( (Data Analyst)</td>\n",
       "      <td>35000000.0</td>\n",
       "      <td>45000000.0</td>\n",
       "      <td>1</td>\n",
       "      <td>Toàn thời gian</td>\n",
       "      <td>Nhân viên</td>\n",
       "      <td>Không yêu cầu</td>\n",
       "      <td>3</td>\n",
       "      <td>https://www.topcv.vn/brand/xnkphattriendongduong/tuyen-dung/chuyen-vien-phan-tich-thong-ke-data-analyst-j842737.html?ta_source=JobSearchList</td>\n",
       "    </tr>\n",
       "    <tr>\n",
       "      <th>25</th>\n",
       "      <td>CÔNG TY TNHH EROC COMMERCE (VIỆT NAM)</td>\n",
       "      <td>Nhân Viên Phân Tích Dữ Liệu Kinh Doanh</td>\n",
       "      <td>10000000.0</td>\n",
       "      <td>15000000.0</td>\n",
       "      <td>1</td>\n",
       "      <td>Toàn thời gian</td>\n",
       "      <td>Nhân viên</td>\n",
       "      <td>Không yêu cầu</td>\n",
       "      <td>1</td>\n",
       "      <td>https://www.topcv.vn/viec-lam/nhan-vien-phan-tich-du-lieu-kinh-doanh/839965.html?ta_source=JobSearchList</td>\n",
       "    </tr>\n",
       "  </tbody>\n",
       "</table>\n",
       "</div>"
      ],
      "text/plain": [
       "                                                                            Company                                             Title  Min Salary  Max Salary Quantity    Working form      Level            Sex Experienced                                                                                                                                         Links\n",
       "0   CÔNG TY TNHH THƯƠNG MẠI DỊCH VỤ VGS                                              Game Data Analyst - Phân Tích Dữ Liệu Game        10000000.0  18000000.0  1        Toàn thời gian  Nhân viên  Nam            1           https://www.topcv.vn/viec-lam/game-data-analyst-phan-tich-du-lieu-game/856539.html?ta_source=JobSearchList                                  \n",
       "3   Công ty cổ phần Hai Bốn Bảy                                                      Chuyên Viên Phân Tích Dữ Liệu                     12000000.0  15000000.0  1        Toàn thời gian  Nhân viên  Không yêu cầu  2           https://www.topcv.vn/viec-lam/chuyen-vien-phan-tich-du-lieu/839678.html?ta_source=JobSearchList                                             \n",
       "4   CÔNG TY TNHH FINAN (SoBanHang)                                                   Data Analyst (BI Controller) _ Lương Upto $1,500  23000000.0  34500000.0  1        Toàn thời gian  Nhân viên  Không yêu cầu  3           https://www.topcv.vn/viec-lam/data-analyst-bi-controller-luong-upto-1-500/838249.html?ta_source=JobSearchList                               \n",
       "6   CÔNG TY TNHH PUZZLE STUDIO                                                       Data Analyst                                      10000000.0  15000000.0  2        Toàn thời gian  Nhân viên  Không yêu cầu  1           https://www.topcv.vn/viec-lam/data-analyst/468705.html?ta_source=JobSearchList                                                              \n",
       "12  công ty Viễn Thông Phương Nam                                                    Chuyên Viên Phân Tích Dữ Liệu - Data Analytics    15000000.0  20000000.0  1        Toàn thời gian  Nhân viên  Không yêu cầu  1           https://www.topcv.vn/viec-lam/chuyen-vien-phan-tich-du-lieu-data-analytics/829405.html?ta_source=JobSearchList                              \n",
       "23  CÔNG TY TNHH XUẤT NHẬP KHẨU PHÁT TRIỂN ĐÔNG DƯƠNG - TẬP ĐOÀN THỂ THAO KINGSPORT  Chuyên Viên Phân Tích Thống Kê ( (Data Analyst)   35000000.0  45000000.0  1        Toàn thời gian  Nhân viên  Không yêu cầu  3           https://www.topcv.vn/brand/xnkphattriendongduong/tuyen-dung/chuyen-vien-phan-tich-thong-ke-data-analyst-j842737.html?ta_source=JobSearchList\n",
       "25  CÔNG TY TNHH EROC COMMERCE (VIỆT NAM)                                            Nhân Viên Phân Tích Dữ Liệu Kinh Doanh            10000000.0  15000000.0  1        Toàn thời gian  Nhân viên  Không yêu cầu  1           https://www.topcv.vn/viec-lam/nhan-vien-phan-tich-du-lieu-kinh-doanh/839965.html?ta_source=JobSearchList                                    "
      ]
     },
     "execution_count": 248,
     "metadata": {},
     "output_type": "execute_result"
    }
   ],
   "source": [
    "dt_nv = data.loc[data['Level'] == 'Nhân viên']\n",
    "dt_nv"
   ]
  },
  {
   "cell_type": "code",
   "execution_count": 254,
   "id": "833e77e2",
   "metadata": {
    "scrolled": true
   },
   "outputs": [
    {
     "data": {
      "image/png": "[encoded data removed]",
      "text/plain": [
       "<Figure size 432x288 with 1 Axes>"
      ]
     },
     "metadata": {},
     "output_type": "display_data"
    }
   ],
   "source": [
    "palette_color = sns.color_palette('bright')\n",
    "sns.swarmplot(y='Min Salary', x='Experienced', data = dt_nv, palette=palette_color)\n",
    "plt.title('Biểu đồ phân phối mức lương tối thiểu theo số năm kinh nghiệm cho mỗi tin tuyển dụng')\n",
    "plt.show()"
   ]
  },
  {
   "cell_type": "code",
   "execution_count": 255,
   "id": "2c3c3bf0",
   "metadata": {},
   "outputs": [
    {
     "data": {
      "image/png": "[encoded data removed]",
      "text/plain": [
       "<Figure size 432x288 with 1 Axes>"
      ]
     },
     "metadata": {},
     "output_type": "display_data"
    }
   ],
   "source": [
    "palette_color = sns.color_palette('bright')\n",
    "sns.swarmplot(y='Max Salary', x='Experienced', data = dt_nv, palette=palette_color)\n",
    "plt.title('Biểu đồ phân phối mức lương tối đa theo số năm kinh nghiệm cho mỗi tin tuyển dụng')\n",
    "plt.show()"
   ]
  },
  {
   "cell_type": "code",
   "execution_count": 256,
   "id": "74f68798",
   "metadata": {},
   "outputs": [
    {
     "data": {
      "text/html": [
       "<div>\n",
       "<style scoped>\n",
       "    .dataframe tbody tr th:only-of-type {\n",
       "        vertical-align: middle;\n",
       "    }\n",
       "\n",
       "    .dataframe tbody tr th {\n",
       "        vertical-align: top;\n",
       "    }\n",
       "\n",
       "    .dataframe thead th {\n",
       "        text-align: right;\n",
       "    }\n",
       "</style>\n",
       "<table border=\"1\" class=\"dataframe\">\n",
       "  <thead>\n",
       "    <tr style=\"text-align: right;\">\n",
       "      <th></th>\n",
       "      <th>Company</th>\n",
       "      <th>Title</th>\n",
       "      <th>Min Salary</th>\n",
       "      <th>Max Salary</th>\n",
       "      <th>Quantity</th>\n",
       "      <th>Working form</th>\n",
       "      <th>Level</th>\n",
       "      <th>Sex</th>\n",
       "      <th>Experienced</th>\n",
       "      <th>Links</th>\n",
       "    </tr>\n",
       "  </thead>\n",
       "  <tbody>\n",
       "    <tr>\n",
       "      <th>21</th>\n",
       "      <td>CÔNG TY TNHH FINAN (SoBanHang)</td>\n",
       "      <td>Data Analyst Intern</td>\n",
       "      <td>2000000.0</td>\n",
       "      <td>3000000.0</td>\n",
       "      <td>1</td>\n",
       "      <td>Thực tập</td>\n",
       "      <td>Thực tập sinh</td>\n",
       "      <td>Không yêu cầu</td>\n",
       "      <td>NaN</td>\n",
       "      <td>https://www.topcv.vn/viec-lam/data-analyst-intern/845686.html?ta_source=JobSearchList</td>\n",
       "    </tr>\n",
       "    <tr>\n",
       "      <th>28</th>\n",
       "      <td>Meow House</td>\n",
       "      <td>Thực Tập Sinh Data Analyst</td>\n",
       "      <td>500000.0</td>\n",
       "      <td>2000000.0</td>\n",
       "      <td>2</td>\n",
       "      <td>Thực tập</td>\n",
       "      <td>Thực tập sinh</td>\n",
       "      <td>Không yêu cầu</td>\n",
       "      <td>NaN</td>\n",
       "      <td>https://www.topcv.vn/viec-lam/thuc-tap-sinh-data-analyst/828323.html?ta_source=JobSearchList</td>\n",
       "    </tr>\n",
       "  </tbody>\n",
       "</table>\n",
       "</div>"
      ],
      "text/plain": [
       "                           Company                       Title  Min Salary  Max Salary Quantity Working form          Level            Sex Experienced                                                                                         Links\n",
       "21  CÔNG TY TNHH FINAN (SoBanHang)  Data Analyst Intern         2000000.0   3000000.0   1        Thực tập     Thực tập sinh  Không yêu cầu  NaN         https://www.topcv.vn/viec-lam/data-analyst-intern/845686.html?ta_source=JobSearchList       \n",
       "28  Meow House                      Thực Tập Sinh Data Analyst  500000.0    2000000.0   2        Thực tập     Thực tập sinh  Không yêu cầu  NaN         https://www.topcv.vn/viec-lam/thuc-tap-sinh-data-analyst/828323.html?ta_source=JobSearchList"
      ]
     },
     "execution_count": 256,
     "metadata": {},
     "output_type": "execute_result"
    }
   ],
   "source": [
    "dt_tts = data.loc[data['Level'] == 'Thực tập sinh']\n",
    "dt_tts"
   ]
  },
  {
   "cell_type": "code",
   "execution_count": 258,
   "id": "e70110c6",
   "metadata": {},
   "outputs": [
    {
     "data": {
      "image/png": "[encoded data removed]",
      "text/plain": [
       "<Figure size 432x288 with 1 Axes>"
      ]
     },
     "metadata": {},
     "output_type": "display_data"
    }
   ],
   "source": [
    "palette_color = sns.color_palette('bright')\n",
    "sns.barplot(x='Company',y='Min Salary',data=dt_tts)\n",
    "plt.title('Biểu đồ phân phối mức lương tối thiểu vị trí TTS cho mỗi tin tuyển dụng')\n",
    "plt.show()"
   ]
  },
  {
   "cell_type": "code",
   "execution_count": 259,
   "id": "f881e5b1",
   "metadata": {},
   "outputs": [
    {
     "data": {
      "image/png": "[encoded data removed]",
      "text/plain": [
       "<Figure size 432x288 with 1 Axes>"
      ]
     },
     "metadata": {},
     "output_type": "display_data"
    }
   ],
   "source": [
    "palette_color = sns.color_palette('bright')\n",
    "sns.barplot(x='Company',y='Max Salary',data=dt_tts)\n",
    "plt.title('Biểu đồ phân phối mức lương cao nhất vị trí TTS cho mỗi tin tuyển dụng')\n",
    "plt.show()"
   ]
  },
  {
   "cell_type": "code",
   "execution_count": 190,
   "id": "ca1ed8b0",
   "metadata": {},
   "outputs": [
    {
     "name": "stderr",
     "output_type": "stream",
     "text": [
      "C:\\Users\\PC\\AppData\\Local\\Temp\\ipykernel_10856\\497376691.py:3: FutureWarning: Passing a negative integer is deprecated in version 1.0 and will not be supported in future version. Instead, use None to not limit the column width.\n",
      "  pd.set_option('max_colwidth', -1)\n"
     ]
    }
   ],
   "source": [
    "pd.set_option('display.max_columns', None)\n",
    "pd.set_option('display.expand_frame_repr', False)\n",
    "pd.set_option('max_colwidth', -1)"
   ]
  },
  {
   "cell_type": "code",
   "execution_count": 271,
   "id": "149eb749",
   "metadata": {},
   "outputs": [
    {
     "data": {
      "text/html": [
       "<div>\n",
       "<style scoped>\n",
       "    .dataframe tbody tr th:only-of-type {\n",
       "        vertical-align: middle;\n",
       "    }\n",
       "\n",
       "    .dataframe tbody tr th {\n",
       "        vertical-align: top;\n",
       "    }\n",
       "\n",
       "    .dataframe thead th {\n",
       "        text-align: right;\n",
       "    }\n",
       "</style>\n",
       "<table border=\"1\" class=\"dataframe\">\n",
       "  <thead>\n",
       "    <tr style=\"text-align: right;\">\n",
       "      <th></th>\n",
       "      <th>Company</th>\n",
       "      <th>Title</th>\n",
       "      <th>Min Salary</th>\n",
       "      <th>Max Salary</th>\n",
       "      <th>Quantity</th>\n",
       "      <th>Working form</th>\n",
       "      <th>Level</th>\n",
       "      <th>Sex</th>\n",
       "      <th>Experienced</th>\n",
       "      <th>Links</th>\n",
       "    </tr>\n",
       "  </thead>\n",
       "  <tbody>\n",
       "    <tr>\n",
       "      <th>0</th>\n",
       "      <td>CÔNG TY TNHH THƯƠNG MẠI DỊCH VỤ VGS</td>\n",
       "      <td>Game Data Analyst - Phân Tích Dữ Liệu Game</td>\n",
       "      <td>10000000.0</td>\n",
       "      <td>18000000.0</td>\n",
       "      <td>1</td>\n",
       "      <td>Toàn thời gian</td>\n",
       "      <td>Nhân viên</td>\n",
       "      <td>Nam</td>\n",
       "      <td>1</td>\n",
       "      <td>https://www.topcv.vn/viec-lam/game-data-analyst-phan-tich-du-lieu-game/856539.html?ta_source=JobSearchList</td>\n",
       "    </tr>\n",
       "    <tr>\n",
       "      <th>3</th>\n",
       "      <td>Công ty cổ phần Hai Bốn Bảy</td>\n",
       "      <td>Chuyên Viên Phân Tích Dữ Liệu</td>\n",
       "      <td>12000000.0</td>\n",
       "      <td>15000000.0</td>\n",
       "      <td>1</td>\n",
       "      <td>Toàn thời gian</td>\n",
       "      <td>Nhân viên</td>\n",
       "      <td>Không yêu cầu</td>\n",
       "      <td>2</td>\n",
       "      <td>https://www.topcv.vn/viec-lam/chuyen-vien-phan-tich-du-lieu/839678.html?ta_source=JobSearchList</td>\n",
       "    </tr>\n",
       "    <tr>\n",
       "      <th>4</th>\n",
       "      <td>CÔNG TY TNHH FINAN (SoBanHang)</td>\n",
       "      <td>Data Analyst (BI Controller) _ Lương Upto $1,500</td>\n",
       "      <td>23000000.0</td>\n",
       "      <td>34500000.0</td>\n",
       "      <td>1</td>\n",
       "      <td>Toàn thời gian</td>\n",
       "      <td>Nhân viên</td>\n",
       "      <td>Không yêu cầu</td>\n",
       "      <td>3</td>\n",
       "      <td>https://www.topcv.vn/viec-lam/data-analyst-bi-controller-luong-upto-1-500/838249.html?ta_source=JobSearchList</td>\n",
       "    </tr>\n",
       "    <tr>\n",
       "      <th>6</th>\n",
       "      <td>CÔNG TY TNHH PUZZLE STUDIO</td>\n",
       "      <td>Data Analyst</td>\n",
       "      <td>10000000.0</td>\n",
       "      <td>15000000.0</td>\n",
       "      <td>2</td>\n",
       "      <td>Toàn thời gian</td>\n",
       "      <td>Nhân viên</td>\n",
       "      <td>Không yêu cầu</td>\n",
       "      <td>1</td>\n",
       "      <td>https://www.topcv.vn/viec-lam/data-analyst/468705.html?ta_source=JobSearchList</td>\n",
       "    </tr>\n",
       "    <tr>\n",
       "      <th>12</th>\n",
       "      <td>công ty Viễn Thông Phương Nam</td>\n",
       "      <td>Chuyên Viên Phân Tích Dữ Liệu - Data Analytics</td>\n",
       "      <td>15000000.0</td>\n",
       "      <td>20000000.0</td>\n",
       "      <td>1</td>\n",
       "      <td>Toàn thời gian</td>\n",
       "      <td>Nhân viên</td>\n",
       "      <td>Không yêu cầu</td>\n",
       "      <td>1</td>\n",
       "      <td>https://www.topcv.vn/viec-lam/chuyen-vien-phan-tich-du-lieu-data-analytics/829405.html?ta_source=JobSearchList</td>\n",
       "    </tr>\n",
       "    <tr>\n",
       "      <th>21</th>\n",
       "      <td>CÔNG TY TNHH FINAN (SoBanHang)</td>\n",
       "      <td>Data Analyst Intern</td>\n",
       "      <td>2000000.0</td>\n",
       "      <td>3000000.0</td>\n",
       "      <td>1</td>\n",
       "      <td>Thực tập</td>\n",
       "      <td>Thực tập sinh</td>\n",
       "      <td>Không yêu cầu</td>\n",
       "      <td>0</td>\n",
       "      <td>https://www.topcv.vn/viec-lam/data-analyst-intern/845686.html?ta_source=JobSearchList</td>\n",
       "    </tr>\n",
       "    <tr>\n",
       "      <th>23</th>\n",
       "      <td>CÔNG TY TNHH XUẤT NHẬP KHẨU PHÁT TRIỂN ĐÔNG DƯƠNG - TẬP ĐOÀN THỂ THAO KINGSPORT</td>\n",
       "      <td>Chuyên Viên Phân Tích Thống Kê ( (Data Analyst)</td>\n",
       "      <td>35000000.0</td>\n",
       "      <td>45000000.0</td>\n",
       "      <td>1</td>\n",
       "      <td>Toàn thời gian</td>\n",
       "      <td>Nhân viên</td>\n",
       "      <td>Không yêu cầu</td>\n",
       "      <td>3</td>\n",
       "      <td>https://www.topcv.vn/brand/xnkphattriendongduong/tuyen-dung/chuyen-vien-phan-tich-thong-ke-data-analyst-j842737.html?ta_source=JobSearchList</td>\n",
       "    </tr>\n",
       "    <tr>\n",
       "      <th>25</th>\n",
       "      <td>CÔNG TY TNHH EROC COMMERCE (VIỆT NAM)</td>\n",
       "      <td>Nhân Viên Phân Tích Dữ Liệu Kinh Doanh</td>\n",
       "      <td>10000000.0</td>\n",
       "      <td>15000000.0</td>\n",
       "      <td>1</td>\n",
       "      <td>Toàn thời gian</td>\n",
       "      <td>Nhân viên</td>\n",
       "      <td>Không yêu cầu</td>\n",
       "      <td>1</td>\n",
       "      <td>https://www.topcv.vn/viec-lam/nhan-vien-phan-tich-du-lieu-kinh-doanh/839965.html?ta_source=JobSearchList</td>\n",
       "    </tr>\n",
       "    <tr>\n",
       "      <th>28</th>\n",
       "      <td>Meow House</td>\n",
       "      <td>Thực Tập Sinh Data Analyst</td>\n",
       "      <td>500000.0</td>\n",
       "      <td>2000000.0</td>\n",
       "      <td>2</td>\n",
       "      <td>Thực tập</td>\n",
       "      <td>Thực tập sinh</td>\n",
       "      <td>Không yêu cầu</td>\n",
       "      <td>0</td>\n",
       "      <td>https://www.topcv.vn/viec-lam/thuc-tap-sinh-data-analyst/828323.html?ta_source=JobSearchList</td>\n",
       "    </tr>\n",
       "  </tbody>\n",
       "</table>\n",
       "</div>"
      ],
      "text/plain": [
       "                                                                            Company                                             Title  Min Salary  Max Salary Quantity    Working form          Level            Sex Experienced                                                                                                                                         Links\n",
       "0   CÔNG TY TNHH THƯƠNG MẠI DỊCH VỤ VGS                                              Game Data Analyst - Phân Tích Dữ Liệu Game        10000000.0  18000000.0  1        Toàn thời gian  Nhân viên      Nam            1           https://www.topcv.vn/viec-lam/game-data-analyst-phan-tich-du-lieu-game/856539.html?ta_source=JobSearchList                                  \n",
       "3   Công ty cổ phần Hai Bốn Bảy                                                      Chuyên Viên Phân Tích Dữ Liệu                     12000000.0  15000000.0  1        Toàn thời gian  Nhân viên      Không yêu cầu  2           https://www.topcv.vn/viec-lam/chuyen-vien-phan-tich-du-lieu/839678.html?ta_source=JobSearchList                                             \n",
       "4   CÔNG TY TNHH FINAN (SoBanHang)                                                   Data Analyst (BI Controller) _ Lương Upto $1,500  23000000.0  34500000.0  1        Toàn thời gian  Nhân viên      Không yêu cầu  3           https://www.topcv.vn/viec-lam/data-analyst-bi-controller-luong-upto-1-500/838249.html?ta_source=JobSearchList                               \n",
       "6   CÔNG TY TNHH PUZZLE STUDIO                                                       Data Analyst                                      10000000.0  15000000.0  2        Toàn thời gian  Nhân viên      Không yêu cầu  1           https://www.topcv.vn/viec-lam/data-analyst/468705.html?ta_source=JobSearchList                                                              \n",
       "12  công ty Viễn Thông Phương Nam                                                    Chuyên Viên Phân Tích Dữ Liệu - Data Analytics    15000000.0  20000000.0  1        Toàn thời gian  Nhân viên      Không yêu cầu  1           https://www.topcv.vn/viec-lam/chuyen-vien-phan-tich-du-lieu-data-analytics/829405.html?ta_source=JobSearchList                              \n",
       "21  CÔNG TY TNHH FINAN (SoBanHang)                                                   Data Analyst Intern                               2000000.0   3000000.0   1        Thực tập        Thực tập sinh  Không yêu cầu  0           https://www.topcv.vn/viec-lam/data-analyst-intern/845686.html?ta_source=JobSearchList                                                       \n",
       "23  CÔNG TY TNHH XUẤT NHẬP KHẨU PHÁT TRIỂN ĐÔNG DƯƠNG - TẬP ĐOÀN THỂ THAO KINGSPORT  Chuyên Viên Phân Tích Thống Kê ( (Data Analyst)   35000000.0  45000000.0  1        Toàn thời gian  Nhân viên      Không yêu cầu  3           https://www.topcv.vn/brand/xnkphattriendongduong/tuyen-dung/chuyen-vien-phan-tich-thong-ke-data-analyst-j842737.html?ta_source=JobSearchList\n",
       "25  CÔNG TY TNHH EROC COMMERCE (VIỆT NAM)                                            Nhân Viên Phân Tích Dữ Liệu Kinh Doanh            10000000.0  15000000.0  1        Toàn thời gian  Nhân viên      Không yêu cầu  1           https://www.topcv.vn/viec-lam/nhan-vien-phan-tich-du-lieu-kinh-doanh/839965.html?ta_source=JobSearchList                                    \n",
       "28  Meow House                                                                       Thực Tập Sinh Data Analyst                        500000.0    2000000.0   2        Thực tập        Thực tập sinh  Không yêu cầu  0           https://www.topcv.vn/viec-lam/thuc-tap-sinh-data-analyst/828323.html?ta_source=JobSearchList                                                "
      ]
     },
     "execution_count": 271,
     "metadata": {},
     "output_type": "execute_result"
    }
   ],
   "source": [
    "data['Experienced'] = data['Experienced'].fillna(0)\n",
    "data"
   ]
  },
  {
   "cell_type": "code",
   "execution_count": 272,
   "id": "e82e7057",
   "metadata": {},
   "outputs": [
    {
     "data": {
      "text/html": [
       "<div>\n",
       "<style scoped>\n",
       "    .dataframe tbody tr th:only-of-type {\n",
       "        vertical-align: middle;\n",
       "    }\n",
       "\n",
       "    .dataframe tbody tr th {\n",
       "        vertical-align: top;\n",
       "    }\n",
       "\n",
       "    .dataframe thead th {\n",
       "        text-align: right;\n",
       "    }\n",
       "</style>\n",
       "<table border=\"1\" class=\"dataframe\">\n",
       "  <thead>\n",
       "    <tr style=\"text-align: right;\">\n",
       "      <th></th>\n",
       "      <th></th>\n",
       "      <th>Min Salary</th>\n",
       "      <th>Max Salary</th>\n",
       "    </tr>\n",
       "    <tr>\n",
       "      <th>Level</th>\n",
       "      <th>Experienced</th>\n",
       "      <th></th>\n",
       "      <th></th>\n",
       "    </tr>\n",
       "  </thead>\n",
       "  <tbody>\n",
       "    <tr>\n",
       "      <th rowspan=\"3\" valign=\"top\">Nhân viên</th>\n",
       "      <th>1</th>\n",
       "      <td>11250000.0</td>\n",
       "      <td>17000000.0</td>\n",
       "    </tr>\n",
       "    <tr>\n",
       "      <th>2</th>\n",
       "      <td>12000000.0</td>\n",
       "      <td>15000000.0</td>\n",
       "    </tr>\n",
       "    <tr>\n",
       "      <th>3</th>\n",
       "      <td>29000000.0</td>\n",
       "      <td>39750000.0</td>\n",
       "    </tr>\n",
       "    <tr>\n",
       "      <th>Thực tập sinh</th>\n",
       "      <th>0</th>\n",
       "      <td>1250000.0</td>\n",
       "      <td>2500000.0</td>\n",
       "    </tr>\n",
       "  </tbody>\n",
       "</table>\n",
       "</div>"
      ],
      "text/plain": [
       "                           Min Salary  Max Salary\n",
       "Level         Experienced                        \n",
       "Nhân viên     1            11250000.0  17000000.0\n",
       "              2            12000000.0  15000000.0\n",
       "              3            29000000.0  39750000.0\n",
       "Thực tập sinh 0            1250000.0   2500000.0 "
      ]
     },
     "execution_count": 272,
     "metadata": {},
     "output_type": "execute_result"
    }
   ],
   "source": [
    "## muc luong kinh nghiem duoi 1 nam: \n",
    "df= data[['Title','Working form','Min Salary','Max Salary','Level','Experienced']].groupby([\n",
    "    'Level','Experienced']).mean()\n",
    "df"
   ]
  },
  {
   "cell_type": "code",
   "execution_count": null,
   "id": "a2c04ef8",
   "metadata": {},
   "outputs": [],
   "source": []
  }
 ],
 "metadata": {
  "kernelspec": {
   "display_name": "Python 3 (ipykernel)",
   "language": "python",
   "name": "python3"
  },
  "language_info": {
   "codemirror_mode": {
    "name": "ipython",
    "version": 3
   },
   "file_extension": ".py",
   "mimetype": "text/x-python",
   "name": "python",
   "nbconvert_exporter": "python",
   "pygments_lexer": "ipython3",
   "version": "3.10.5"
  }
 },
 "nbformat": 4,
 "nbformat_minor": 5
}
