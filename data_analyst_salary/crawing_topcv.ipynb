{
 "cells": [
  {
   "cell_type": "code",
   "execution_count": 2,
   "id": "b26f1793",
   "metadata": {},
   "outputs": [
    {
     "data": {
      "application/javascript": [
       "\n",
       "require([\"codemirror/lib/codemirror\"]);\n",
       "function set(str) {\n",
       "    var obj = {}, words = str.split(\" \");\n",
       "    for (var i = 0; i < words.length; ++i) obj[words[i]] = true;\n",
       "    return obj;\n",
       "  }\n",
       "var fugue_keywords = \"fill hash rand even presort persist broadcast params process output outtransform rowcount concurrency prepartition zip print title save append parquet csv json single checkpoint weak strong deterministic yield connect sample seed take sub callback dataframe file\";\n",
       "CodeMirror.defineMIME(\"text/x-fsql\", {\n",
       "    name: \"sql\",\n",
       "    keywords: set(fugue_keywords + \" add after all alter analyze and anti archive array as asc at between bucket buckets by cache cascade case cast change clear cluster clustered codegen collection column columns comment commit compact compactions compute concatenate cost create cross cube current current_date current_timestamp database databases data dbproperties defined delete delimited deny desc describe dfs directories distinct distribute drop else end escaped except exchange exists explain export extended external false fields fileformat first following for format formatted from full function functions global grant group grouping having if ignore import in index indexes inner inpath inputformat insert intersect interval into is items join keys last lateral lazy left like limit lines list load local location lock locks logical macro map minus msck natural no not null nulls of on optimize option options or order out outer outputformat over overwrite partition partitioned partitions percent preceding principals purge range recordreader recordwriter recover reduce refresh regexp rename repair replace reset restrict revoke right rlike role roles rollback rollup row rows schema schemas select semi separated serde serdeproperties set sets show skewed sort sorted start statistics stored stratify struct table tables tablesample tblproperties temp temporary terminated then to touch transaction transactions transform true truncate unarchive unbounded uncache union unlock unset use using values view when where window with\"),\n",
       "    builtin: set(\"date datetime tinyint smallint int bigint boolean float double string binary timestamp decimal array map struct uniontype delimited serde sequencefile textfile rcfile inputformat outputformat\"),\n",
       "    atoms: set(\"false true null\"),\n",
       "    operatorChars: /^[*\\/+\\-%<>!=~&|^]/,\n",
       "    dateSQL: set(\"time\"),\n",
       "    support: set(\"ODBCdotTable doubleQuote zerolessFloat\")\n",
       "  });\n",
       "\n",
       "CodeMirror.modeInfo.push( {\n",
       "            name: \"Fugue SQL\",\n",
       "            mime: \"text/x-fsql\",\n",
       "            mode: \"sql\"\n",
       "          } );\n",
       "\n",
       "require(['notebook/js/codecell'], function(codecell) {\n",
       "    codecell.CodeCell.options_default.highlight_modes['magic_text/x-fsql'] = {'reg':[/%%fsql/]} ;\n",
       "    Jupyter.notebook.events.on('kernel_ready.Kernel', function(){\n",
       "    Jupyter.notebook.get_cells().map(function(cell){\n",
       "        if (cell.cell_type == 'code'){ cell.auto_highlight(); } }) ;\n",
       "    });\n",
       "  });\n"
      ],
      "text/plain": [
       "<IPython.core.display.Javascript object>"
      ]
     },
     "metadata": {},
     "output_type": "display_data"
    }
   ],
   "source": [
    "import pandas as pd\n",
    "import numpy as np\n",
    "from matplotlib import pyplot as plt\n",
    "import seaborn as sns\n",
    "from fugue_notebook import setup\n",
    "setup()"
   ]
  },
  {
   "cell_type": "code",
   "execution_count": 3,
   "id": "0490f124",
   "metadata": {},
   "outputs": [],
   "source": [
    "from selenium import webdriver\n",
    "from selenium.webdriver.support.ui import WebDriverWait\n",
    "from selenium.webdriver.common.by import By\n",
    "from selenium.webdriver.support import expected_conditions as EC\n",
    "import time"
   ]
  },
  {
   "cell_type": "markdown",
   "id": "5ac65fb2",
   "metadata": {},
   "source": [
    "## Build function:"
   ]
  },
  {
   "cell_type": "code",
   "execution_count": 4,
   "id": "47a2a253",
   "metadata": {},
   "outputs": [],
   "source": [
    "#get all links page:\n",
    "\n",
    "def all_page(link):\n",
    "    #data_analyst vieclam24h\n",
    "    page_links = []\n",
    "    driver = webdriver.Chrome()\n",
    "    page_respone = driver.get(link)\n",
    "    page_links_elements = driver.find_elements_by_xpath('//ul[@class=\"pagination\"]/li/a')\n",
    "    time.sleep(1) \n",
    "    \n",
    "    page_links = [x.get_attribute('href') for x in page_links_elements]\n",
    "    page_links = list(set(page_links))\n",
    "    driver.close()\n",
    "    return page_links\n",
    "\n",
    "    "
   ]
  },
  {
   "cell_type": "code",
   "execution_count": 5,
   "id": "d44ece89",
   "metadata": {},
   "outputs": [],
   "source": [
    "def title_job(link):\n",
    "    driver = webdriver.Chrome()\n",
    "    driver.get(link)\n",
    "    title_elements = driver.find_elements_by_xpath('//div/h3/a/span[@class=\"bold transform-job-title\"]')\n",
    "    job_title = [j.text for j in title_elements]\n",
    "    driver.close()\n",
    "    return job_title"
   ]
  },
  {
   "cell_type": "code",
   "execution_count": 6,
   "id": "eabdb1e7",
   "metadata": {},
   "outputs": [],
   "source": [
    "# link_elements = driver.find_elements_by_css_selector('a.underline-box-job')\n",
    "def link_elements(link):\n",
    "    driver = webdriver.Chrome()\n",
    "    driver.get(link)\n",
    "    link_elements = driver.find_elements_by_xpath('//div/h3/a[@class=\"underline-box-job\"]')\n",
    "    job_link = [k.get_attribute('href') for k in link_elements]\n",
    "#     df_job_link = pd.Series(job_link, name=\"Job link\")\n",
    "    driver.close()\n",
    "    return job_link"
   ]
  },
  {
   "cell_type": "code",
   "execution_count": 7,
   "id": "e55bb5fb",
   "metadata": {},
   "outputs": [],
   "source": [
    "## Ham lay info_job:\n",
    "def info_job(job_link):\n",
    "    driver = webdriver.Chrome()\n",
    "    company_name = []\n",
    "    summary = []\n",
    "    for job in job_link:\n",
    "        driver.get(job)\n",
    "        company_elements = driver.find_elements_by_css_selector('div.company-title a.text-dark-blue')\n",
    "        company = [n.text for n in company_elements]\n",
    "        if company == []:\n",
    "            company_elements = driver.find_elements_by_id('company-name')\n",
    "            company = [n.text for n in company_elements]\n",
    "        company_name= company_name + company\n",
    "    \n",
    "\n",
    "        ## summary\n",
    "        sum_elements = driver.find_elements_by_css_selector('div.box-main div.box-item')\n",
    "        sum_e = [x.get_attribute('textContent') for x in sum_elements]\n",
    "        summary.append(sum_e)\n",
    "    #split summary:\n",
    "    results=[]\n",
    "    for i in range(len(summary)):\n",
    "        one_job=[]\n",
    "        for a in range(len(summary[i])):\n",
    "            per = summary[i][a].split('\\n')\n",
    "            per = [item.strip() for item in per]\n",
    "            per = list(filter(None, per))\n",
    "            one_job = one_job+per\n",
    "\n",
    "        one_job = {one_job[k]: one_job[k + 1] for k in range(0, len(one_job), 2)}\n",
    "        results.append(one_job)\n",
    "    driver.close()\n",
    "    return company_name, results"
   ]
  },
  {
   "cell_type": "code",
   "execution_count": 8,
   "id": "4846b96d",
   "metadata": {},
   "outputs": [],
   "source": [
    "def get_jd(link):\n",
    "    driver = webdriver.Chrome()\n",
    "    jd = []\n",
    "    jd_elements = []\n",
    "#     des = []\n",
    "#     re = []\n",
    "#     be = []\n",
    "    driver.get(link)\n",
    "    jd_elements = driver.find_elements_by_css_selector('div.content-tab')\n",
    "    jd_e = [n.text for n in jd_elements]\n",
    "#     des = jd_elements[0].text\n",
    "#     re = jd_elements[1].text\n",
    "#     be = jd_elements[2].text\n",
    "    driver.close()\n",
    "    return jd_e"
   ]
  },
  {
   "cell_type": "markdown",
   "id": "1448eab0",
   "metadata": {},
   "source": [
    "## Apply function:"
   ]
  },
  {
   "cell_type": "code",
   "execution_count": 9,
   "id": "cc042de8",
   "metadata": {},
   "outputs": [
    {
     "name": "stdout",
     "output_type": "stream",
     "text": [
      "['https://www.topcv.vn/tim-viec-lam-data-analyst-tai-ho-chi-minh-kl2?salary=0&exp=0&sort=top_related&page=2']\n",
      "All pages for searching, include current page:  2\n"
     ]
    }
   ],
   "source": [
    "#get all links page:\n",
    "# driver_page = webdriver.Chrome()\n",
    "source = ['https://www.topcv.vn/tim-viec-lam-data-analyst-tai-ho-chi-minh-kl2']\n",
    "page_links = []\n",
    "for i in range(len(source)):\n",
    "    page_link = all_page(source[i])\n",
    "    page_links = page_links + page_link\n",
    "print(page_links)\n",
    "print('All pages for searching, include current page: ',len(page_links)+1)"
   ]
  },
  {
   "cell_type": "code",
   "execution_count": 10,
   "id": "4f0999c1",
   "metadata": {},
   "outputs": [
    {
     "data": {
      "text/plain": [
       "range(0, 1)"
      ]
     },
     "execution_count": 10,
     "metadata": {},
     "output_type": "execute_result"
    }
   ],
   "source": [
    "range(len(page_links))"
   ]
  },
  {
   "cell_type": "code",
   "execution_count": 11,
   "id": "15bdc64f",
   "metadata": {},
   "outputs": [
    {
     "name": "stdout",
     "output_type": "stream",
     "text": [
      "['https://www.topcv.vn/viec-lam/game-data-analyst-phan-tich-du-lieu-game/856539.html?ta_source=JobSearchList', 'https://www.topcv.vn/viec-lam/data-analyst-ho-chi-minh/779789.html?ta_source=JobSearchList', 'https://www.topcv.vn/viec-lam/data-analyst/840625.html?ta_source=JobSearchList', 'https://www.topcv.vn/viec-lam/chuyen-vien-phan-tich-du-lieu/839678.html?ta_source=JobSearchList', 'https://www.topcv.vn/viec-lam/data-analyst-bi-controller-luong-upto-1-500/838249.html?ta_source=JobSearchList', 'https://www.topcv.vn/viec-lam/data-analyst-operations-support-shopee-xpress/801787.html?ta_source=JobSearchList', 'https://www.topcv.vn/viec-lam/data-analyst/468705.html?ta_source=JobSearchList', 'https://www.topcv.vn/brand/transcosmosvietnam/tuyen-dung/data-analyst-contact-call-center-j834750.html?ta_source=JobSearchList', 'https://www.topcv.vn/viec-lam/data-analyst-hcm/833265.html?ta_source=JobSearchList', 'https://www.topcv.vn/viec-lam/data-analyst-executive/832190.html?ta_source=JobSearchList', 'https://www.topcv.vn/viec-lam/data-analyst-business-intelligence/660441.html?ta_source=JobSearchList', 'https://www.topcv.vn/viec-lam/data-analyst-hcm/830822.html?ta_source=JobSearchList', 'https://www.topcv.vn/viec-lam/chuyen-vien-phan-tich-du-lieu-data-analytics/829405.html?ta_source=JobSearchList', 'https://www.topcv.vn/viec-lam/chuyen-vien-phan-tich-du-lieu-mang-xa-hoi-social-media-data-analyst/339679.html?ta_source=JobSearchList', 'https://www.topcv.vn/viec-lam/chuyen-vien-phan-tich-du-lieu-thang-10/828614.html?ta_source=JobSearchList', 'https://www.topcv.vn/viec-lam/data-analyst-intern-ad-network/690727.html?ta_source=JobSearchList', 'https://www.topcv.vn/viec-lam/senior-data-analyst/817666.html?ta_source=JobSearchList', 'https://www.topcv.vn/viec-lam/nhan-vien-phan-tich-du-lieu-data-analyst-officer/852444.html?ta_source=JobSearchList', 'https://www.topcv.vn/viec-lam/chuyen-vien-nhan-su-mang-phan-tich-du-lieu-nhan-su/851296.html?ta_source=JobSearchList', 'https://www.topcv.vn/brand/transcosmosvietnam/tuyen-dung/data-analyst-j850401.html?ta_source=JobSearchList', 'https://www.topcv.vn/viec-lam/data-analyst/847698.html?ta_source=JobSearchList', 'https://www.topcv.vn/viec-lam/data-analyst-intern/845686.html?ta_source=JobSearchList', 'https://www.topcv.vn/viec-lam/data-analyst/696484.html?ta_source=JobSearchList', 'https://www.topcv.vn/brand/xnkphattriendongduong/tuyen-dung/chuyen-vien-phan-tich-thong-ke-data-analyst-j842737.html?ta_source=JobSearchList', 'https://www.topcv.vn/viec-lam/chuyen-vien-phan-tich-du-lieu-bao-cao/841805.html?ta_source=JobSearchList', 'https://www.topcv.vn/viec-lam/nhan-vien-phan-tich-du-lieu-kinh-doanh/839965.html?ta_source=JobSearchList', 'https://www.topcv.vn/viec-lam/chuyen-vien-phan-tich-du-lieu-data-analyst/785373.html?ta_source=JobSearchList', 'https://www.topcv.vn/viec-lam/thuc-tap-sinh-phan-tich-du-lieu/833798.html?ta_source=JobSearchList', 'https://www.topcv.vn/viec-lam/thuc-tap-sinh-data-analyst/828323.html?ta_source=JobSearchList', 'https://www.topcv.vn/viec-lam/thuc-tap-sinh-phan-tich-du-lieu-mang-xa-hoi-social-media-data-analyst-intern/334071.html?ta_source=JobSearchList']\n"
     ]
    }
   ],
   "source": [
    "## get all job links:\n",
    "other_links = []\n",
    "for i in range(len(page_links)):\n",
    "    x = link_elements(page_links[i])\n",
    "    other_links = other_links + x\n",
    "for i in range(len(source)):\n",
    "    job_link = link_elements(source[i]) + other_links\n",
    "print(job_link)"
   ]
  },
  {
   "cell_type": "code",
   "execution_count": 12,
   "id": "e4fd61a1",
   "metadata": {},
   "outputs": [
    {
     "name": "stdout",
     "output_type": "stream",
     "text": [
      "['https://www.topcv.vn/tim-viec-lam-data-analyst-tai-ho-chi-minh-kl2', 'https://www.topcv.vn/tim-viec-lam-data-analyst-tai-ho-chi-minh-kl2?salary=0&exp=0&sort=top_related&page=2']\n"
     ]
    },
    {
     "data": {
      "text/plain": [
       "['Game Data Analyst - Phân Tích Dữ Liệu Game',\n",
       " 'Data Analyst - Hồ Chí Minh',\n",
       " 'Data Analyst',\n",
       " 'Chuyên Viên Phân Tích Dữ Liệu',\n",
       " 'Data Analyst (BI Controller) _ Lương Upto $1,500']"
      ]
     },
     "execution_count": 12,
     "metadata": {},
     "output_type": "execute_result"
    }
   ],
   "source": [
    "## get title job:\n",
    "tt_job = []\n",
    "all_page = source + page_links\n",
    "print(all_page)\n",
    "for i in range(len(all_page)):\n",
    "    tt = title_job(all_page[i])\n",
    "    tt_job = tt_job + tt\n",
    "tt_job[:5]"
   ]
  },
  {
   "cell_type": "code",
   "execution_count": 13,
   "id": "bfe35f59",
   "metadata": {},
   "outputs": [
    {
     "name": "stdout",
     "output_type": "stream",
     "text": [
      "(['CÔNG TY TNHH THƯƠNG MẠI DỊCH VỤ VGS', 'CÔNG TY TNHH TRUYỀN HÌNH FPT', 'Công ty Cổ phần VIN3S', 'Công ty cổ phần Hai Bốn Bảy', 'CÔNG TY TNHH FINAN (SoBanHang)', 'Công ty TNHH Shopee Express', 'CÔNG TY TNHH PUZZLE STUDIO', 'Công Ty TNHH TransCosmos Việt Nam', 'Ngân Hàng TNHH MTV Shinhan Việt Nam', 'CÔNG TY TÀI CHÍNH TRÁCH NHIỆM HỮU HẠN MỘT THÀNH VIÊN MIRAE ASSET (VIỆT NAM)', 'CÔNG TY TNHH THƯƠNG MẠI GEARVN', 'Ngân Hàng TNHH MTV Shinhan Việt Nam', 'công ty Viễn Thông Phương Nam', 'Công ty TNHH Lửa Á Châu', 'CÔNG TY TNHH UNICALL', 'CÔNG TY TNHH TT UREKA VIỆT NAM', 'Công ty TNHH Skylink Group', 'Trung Tâm Nâng Cao Chất Lượng Cuộc Sống', 'CÔNG TY CỔ PHẦN GIAO HÀNG TIẾT KIỆM', 'Công Ty TNHH TransCosmos Việt Nam', 'Công ty CP Thế giới Di Động', 'CÔNG TY TNHH FINAN (SoBanHang)', 'DATATYK COMPANY LIMITED', 'CÔNG TY TNHH XUẤT NHẬP KHẨU PHÁT TRIỂN ĐÔNG DƯƠNG - TẬP ĐOÀN THỂ THAO KINGSPORT', 'Ngân Hàng TMCP Xuất Nhập Khẩu Việt Nam (Eximbank)', 'CÔNG TY TNHH EROC COMMERCE (VIỆT NAM)', 'Lotte mart', 'Ngân hàng TMCP Phát triển TP. HCM (HDBank)', 'Meow House', 'Công ty TNHH Lửa Á Châu'], [{'Mức lương': '10-18 triệu', 'Số lượng tuyển': '1 người', 'Hình thức làm việc': 'Toàn thời gian', 'Cấp bậc': 'Nhân viên', 'Giới tính': 'Nam', 'Kinh nghiệm': '1 năm'}, {'Mức lương': 'Thoả thuận', 'Số lượng tuyển': '1 người', 'Hình thức làm việc': 'Toàn thời gian', 'Cấp bậc': 'Nhân viên', 'Giới tính': 'Không yêu cầu', 'Kinh nghiệm': '2 năm'}, {'Mức lương': 'Thoả thuận', 'Số lượng tuyển': '1 người', 'Hình thức làm việc': 'Toàn thời gian', 'Cấp bậc': 'Nhân viên', 'Giới tính': 'Không yêu cầu', 'Kinh nghiệm': '4 năm'}, {'Mức lương': '12-15 triệu', 'Số lượng tuyển': '1 người', 'Hình thức làm việc': 'Toàn thời gian', 'Cấp bậc': 'Nhân viên', 'Giới tính': 'Không yêu cầu', 'Kinh nghiệm': '2 năm'}, {'Mức lương': '1,000-1,500 USD', 'Số lượng tuyển': '1 người', 'Hình thức làm việc': 'Toàn thời gian', 'Cấp bậc': 'Nhân viên', 'Giới tính': 'Không yêu cầu', 'Kinh nghiệm': '3 năm'}, {'Mức lương': 'Thoả thuận', 'Số lượng tuyển': '1 người', 'Hình thức làm việc': 'Toàn thời gian', 'Cấp bậc': 'Nhân viên', 'Giới tính': 'Không yêu cầu', 'Kinh nghiệm': '3 năm'}, {'Mức lương': '10-15 triệu', 'Số lượng tuyển': '2 người', 'Hình thức làm việc': 'Toàn thời gian', 'Cấp bậc': 'Nhân viên', 'Giới tính': 'Không yêu cầu', 'Kinh nghiệm': '1 năm'}, {'Mức lương': 'Tới 30 triệu', 'Số lượng tuyển': '1 người', 'Hình thức làm việc': 'Toàn thời gian', 'Cấp bậc': 'Nhân viên', 'Giới tính': 'Không yêu cầu', 'Kinh nghiệm': '1 năm'}, {'Mức lương': 'Tới 16 triệu', 'Số lượng tuyển': '1 người', 'Hình thức làm việc': 'Toàn thời gian', 'Cấp bậc': 'Nhân viên', 'Giới tính': 'Không yêu cầu', 'Kinh nghiệm': 'Dưới 1 năm'}, {'Mức lương': 'Thoả thuận', 'Số lượng tuyển': '1 người', 'Hình thức làm việc': 'Toàn thời gian', 'Cấp bậc': 'Nhân viên', 'Giới tính': 'Không yêu cầu', 'Kinh nghiệm': '1 năm'}, {'Mức lương': 'Thoả thuận', 'Số lượng tuyển': '1 người', 'Hình thức làm việc': 'Toàn thời gian', 'Cấp bậc': 'Nhân viên', 'Giới tính': 'Không yêu cầu', 'Kinh nghiệm': '2 năm'}, {'Mức lương': 'Tới 16 triệu', 'Số lượng tuyển': '2 người', 'Hình thức làm việc': 'Toàn thời gian', 'Cấp bậc': 'Nhân viên', 'Giới tính': 'Nữ', 'Kinh nghiệm': 'Dưới 1 năm'}, {'Mức lương': '15-20 triệu', 'Số lượng tuyển': '1 người', 'Hình thức làm việc': 'Toàn thời gian', 'Cấp bậc': 'Nhân viên', 'Giới tính': 'Không yêu cầu', 'Kinh nghiệm': '1 năm'}, {'Mức lương': 'Thoả thuận', 'Số lượng tuyển': '1 người', 'Hình thức làm việc': 'Toàn thời gian', 'Cấp bậc': 'Nhân viên', 'Giới tính': 'Không yêu cầu', 'Kinh nghiệm': '1 năm'}, {'Mức lương': 'Thoả thuận', 'Số lượng tuyển': '1 người', 'Hình thức làm việc': 'Toàn thời gian', 'Cấp bậc': 'Nhân viên', 'Giới tính': 'Không yêu cầu', 'Kinh nghiệm': '2 năm'}, {'Mức lương': 'Tới 2 triệu', 'Số lượng tuyển': '1 người', 'Hình thức làm việc': 'Thực tập', 'Cấp bậc': 'Thực tập sinh', 'Giới tính': 'Không yêu cầu', 'Kinh nghiệm': 'Không yêu cầu kinh nghiệm'}, {'Mức lương': 'Thoả thuận', 'Số lượng tuyển': '1 người', 'Hình thức làm việc': 'Toàn thời gian', 'Cấp bậc': 'Nhân viên', 'Giới tính': 'Không yêu cầu', 'Kinh nghiệm': '2 năm'}, {'Mức lương': 'Thoả thuận', 'Số lượng tuyển': '1 người', 'Hình thức làm việc': 'Toàn thời gian', 'Cấp bậc': 'Nhân viên', 'Giới tính': 'Không yêu cầu', 'Kinh nghiệm': '2 năm'}, {'Mức lương': 'Tới 10 triệu', 'Số lượng tuyển': '2 người', 'Hình thức làm việc': 'Toàn thời gian', 'Cấp bậc': 'Nhân viên', 'Giới tính': 'Không yêu cầu', 'Kinh nghiệm': 'Dưới 1 năm'}, {'Mức lương': 'Thoả thuận', 'Số lượng tuyển': '1 người', 'Hình thức làm việc': 'Toàn thời gian', 'Cấp bậc': 'Nhân viên', 'Giới tính': 'Không yêu cầu', 'Kinh nghiệm': '1 năm'}, {'Mức lương': 'Thoả thuận', 'Số lượng tuyển': '1 người', 'Hình thức làm việc': 'Toàn thời gian', 'Cấp bậc': 'Nhân viên', 'Giới tính': 'Không yêu cầu', 'Kinh nghiệm': '1 năm'}, {'Mức lương': '2-3 triệu', 'Số lượng tuyển': '1 người', 'Hình thức làm việc': 'Thực tập', 'Cấp bậc': 'Thực tập sinh', 'Giới tính': 'Không yêu cầu', 'Kinh nghiệm': 'Không yêu cầu kinh nghiệm'}, {'Mức lương': 'Tới 30 triệu', 'Số lượng tuyển': '1 người', 'Hình thức làm việc': 'Toàn thời gian', 'Cấp bậc': 'Nhân viên', 'Giới tính': 'Nữ', 'Kinh nghiệm': '1 năm'}, {'Mức lương': '35-45 triệu', 'Số lượng tuyển': '1 người', 'Hình thức làm việc': 'Toàn thời gian', 'Cấp bậc': 'Nhân viên', 'Giới tính': 'Không yêu cầu', 'Kinh nghiệm': '3 năm'}, {'Mức lương': 'Thoả thuận', 'Số lượng tuyển': '2 người', 'Hình thức làm việc': 'Toàn thời gian', 'Cấp bậc': 'Nhân viên', 'Giới tính': 'Không yêu cầu', 'Kinh nghiệm': '1 năm'}, {'Mức lương': '10-15 triệu', 'Số lượng tuyển': '1 người', 'Hình thức làm việc': 'Toàn thời gian', 'Cấp bậc': 'Nhân viên', 'Giới tính': 'Không yêu cầu', 'Kinh nghiệm': '1 năm'}, {'Mức lương': 'Thoả thuận', 'Số lượng tuyển': '1 người', 'Hình thức làm việc': 'Toàn thời gian', 'Cấp bậc': 'Nhân viên', 'Giới tính': 'Không yêu cầu', 'Kinh nghiệm': '2 năm'}, {'Mức lương': 'Trên 3 triệu', 'Số lượng tuyển': '2 người', 'Hình thức làm việc': 'Thực tập', 'Cấp bậc': 'Thực tập sinh', 'Giới tính': 'Không yêu cầu', 'Kinh nghiệm': 'Không yêu cầu kinh nghiệm'}, {'Mức lương': '0.5-2 triệu', 'Số lượng tuyển': '2 người', 'Hình thức làm việc': 'Thực tập', 'Cấp bậc': 'Thực tập sinh', 'Giới tính': 'Không yêu cầu', 'Kinh nghiệm': 'Không yêu cầu kinh nghiệm'}, {'Mức lương': 'Thoả thuận', 'Số lượng tuyển': '2 người', 'Hình thức làm việc': 'Thực tập', 'Cấp bậc': 'Thực tập sinh', 'Giới tính': 'Không yêu cầu', 'Kinh nghiệm': 'Không yêu cầu kinh nghiệm'}])\n"
     ]
    }
   ],
   "source": [
    "## get info jobs: \n",
    "sm_info = info_job(job_link)\n",
    "print(sm_info[:5])"
   ]
  },
  {
   "cell_type": "code",
   "execution_count": 14,
   "id": "70d7d1db",
   "metadata": {},
   "outputs": [],
   "source": [
    "## get JD:\n",
    "all_jd = []\n",
    "for link in job_link:\n",
    "    jd = get_jd(link)\n",
    "    all_jd.append(jd)"
   ]
  },
  {
   "cell_type": "code",
   "execution_count": 15,
   "id": "1363a19e",
   "metadata": {},
   "outputs": [
    {
     "data": {
      "text/plain": [
       "[['Tổng hợp dữ liệu người chơi game từ các nguồn Google Analytic/Firebase và Appsflyer;\\nTheo dõi số liệu, lập báo cáo và tiến hành phân tích để đưa ra đánh giá cụ thể cho sản phẩm;\\nPhản hồi cho đội ngũ sản xuất các chỉ số cần thiết để điều chỉnh tính năng game cho phù hợp;\\nNghiên cứu và đưa ra các đề xuất tracking dữ liệu chi tiết cho từng game cụ thể;\\nĐưa ra các giải pháp nhằm tối ưu quá trình thu thập, xử lý dữ liệu người chơi;\\nPhối hợp với bộ phận sản phẩm tích hợp hệ thống tracking dữ liệu vào game;',\n",
       "  'Có ít nhất 1 năm kinh nghiệm về phân tích dữ liệu mobile game;\\nCó kinh nghiệm làm việc với Firebase cũng như các nguồn tracking khác liên quan;\\nHiểu biết tốt về Big Data, BI, Analytics;\\nBiết phân tích và giải quyết vấn đề, đưa ra được giải pháp cho từng tình huống cụ thể;\\nCó khả năng làm việc độc lập cũng như làm việc nhóm tốt;\\nHam học hỏi và đam mê về game;',\n",
       "  'Được làm việc trong một công ty game năng động, phát triển, đứng đầu về mảng mobile game trong thị trường game Việt. Có nhiều thử thách, cơ hội được đào tạo và nâng cao nghiệp vụ thường xuyên;\\nĐược hưởng đầy đủ các chế độ theo quy định của công ty và pháp luật hiện hành;\\nĐược đóng BHXH, BHYT, BHTN theo quy định của nhà nước;\\nNghỉ phép năm theo quy định đối với người lao động của nhà nước;\\nĐược đề xuất, xét thưởng và xét tăng lương định kỳ (6 tháng/lần); \\nĐược hưởng các chính sách phúc lợi và các hoạt động văn hóa tập thể phong phú, đa dạng:\\nTham gia khám sức khỏe định kỳ, bảo hiểm sức khỏe 24/24;\\nTham gia các hoạt động tập thể sôi động của công ty: Team building, lễ hội, du lịch, dã ngoại, Gala cuối năm, …\\nĐược làm việc trong môi trường năng động, hiện đại và tiếp cận nhiều công nghệ mới với những đồng nghiệp trẻ tuổi – đầy nhiệt huyết;\\nCó nhiều cơ hội thăng tiến, phát triển và ổn định lâu dài.\\nThưởng tháng 13 (Ít nhất 1 tháng lương), thưởng tết, thưởng KPI dự án,...'],\n",
       " ['Work with the manager to identify market needs.\\nDefining, developing and maintaining reports to support decision making.\\nProcessing & Interpreting data to get actionable insights.\\nWorking closely with business users to understand their data analysis needs/requirements.',\n",
       "  'Have a degree in Computer Science, Applied Mathematics, Engineering or related field.\\nAt least 2 years experience, ideally within a Data Analyst role.\\nGood presentation and communication skills and the ability to present you findings clearly and accessibly in the form of reports and presentations to senior colleagues.\\nStrong knowledge of PL/SQL.\\nExpertise in BI Reporting & Tools would be highly valuable.\\nStrong analytical skills and are comfortable dealing with numerical data.\\nCapable of handling queries and doubts on your findings.\\nHighly goal-driven and work well in fast-paced environments.',\n",
       "  'Great opportunity to dive deeply into a big data system with high volume of data in challenging domains.\\nChallenging working environment, open for new ideas and solutions.\\nWe often conduct presentations to improve our individual skill sets, sharing our domain knowledge together.\\nYou are encouraged to contribute ideas, corporate with the others and get your ideas to work efficiently.\\nUnique culture with many exciting activities: rookie training, 72 hours experience, team building, village festival, club, color fest, happy hour, birthday celebration,..\\nObtaining full legal insurance coverage with FPT-Care (official employee).'],\n",
       " ['Objective\\n• Apply analysis, problem solving methods, processes, and systems to consolidate and analyze, visualize data to generate insights to improve customer experience and business operation. Responsibilities • Assess the effectiveness and accuracy of data sources and data gathering techniques.\\n• Analyze and interpret patterns in complex data sets to identify what has happened to the business, why it happened for the purpose of performance management.\\n• Use data visualization tools and techniques to generate dashboards, reports and presentations that aid in data storytelling to enable stakeholders understand the pattern of data, analytical findings, recommendations.\\n• Create and maintain statistical models for ongoing and ad hoc review and analysis of data.\\n• Assist senior Data Scientists to develop Machine Learning models.\\n• Develop processes and tools to monitor and analyze model performance and data accuracy.',\n",
       "  '• Bachelor’s degree in Business Analytics, Business Information System, Computer Science, or Quantitative Analysis.\\n• At least 4 years of relevant experience in areas of data analysis, reporting and planning.\\n• Experience in querying databases and using programming languages such as R, Python, Scala, SQL.\\n• Experience with Google Analytics, Google Cloud Platform, Graph Database is highly preferred.\\n• Experience in data management, data modelling, ETL and analysis functions.\\n• Experience with data analysis and BI tools such as PowerBI (highly preferred), QuickSight, Tableau.\\n• Understanding of information security principles to ensure data privacy compliance is a plus.\\n• Strong understanding of Agile principles, practices, and scrum methodology\\n• Experience working in Agile teams to support digital transformation projects\\n• Proficient in English is highly preferred',\n",
       "  'Salary is attractive and commensurates with competence\\nVarious training on hot-trend technologies, best practices and soft skill\\nPerformance review to adjust salary and title/position every year\\nBao Viet health insurance / Social insurance as required by law\\n13 months of salary + and many other side benefits such as lunch allowance, healthcare program, annual health-screen, sport activities, gifts on special occasions \\nSpecial discounts on Vinmec, Vinhomes, Vinschool, VinFast, and other Vinmec, Vinhomes, Vinschool, and VinFast products and services...'],\n",
       " ['1. Phân tích dữ liệu và viết báo cáo liên quan đến PMS:\\n- Sử dụng Data trên PMS:\\n• Doanh thu, sản lượng, trọng lượng\\n• Giá bán, phụ phí, giá dịch vụ gia tăng\\n• KH, danh sách KH, phân loại\\n• Phân tích thông tin từ nguồn “thông tin người nhận”\\n- Trình bày các nội dung trên bằng bảng số liệu, biểu đồ, bản đồ và đề xuất các hình thức minh hoạ hợp lý khác\\n- Thu thập thông tin để triển khai các chiến dịch Marketing, Sales dựa trên dữ liệu đã thu thập được.\\n2.  Sử dụng dữ liệu CRM\\n- Data về KH, về chăm sóc KH\\n- Quản lý Lead\\n- Thông tin về SLA của các cá nhân/nhóm/kênh\\n3. Phân tích xu hướng thị trường:\\n- Phân tích bảng giá, chương trình của đối thủ cạnh tranh\\n- Đánh giá kết quả kinh doanh theo từng dịch vụ\\n- Phát hiện xu hướng\\n- Phân tích nhu cầu của các sản phẩm, dịch vụ của toàn thị trường để xây dựng cơ sở phát triển sản phẩm mới\\n4. Đánh giá chương trình, cải tiến các báo cáo và góp ý sửa đổi quy chế bán hàng:\\n- Đánh giá/đo lường kết quả chương trình đã ban hành\\n- Đề xuất chương trình mới và sửa đổi chương trình để tâng tính tương thích\\n- Đề xuất, sửa đổi quy chế bán hàng',\n",
       "  '- Trình độ học vấn             : Tốt nghiệp Cao đẳng trở lên\\n- Trình độ chuyên môn     : Ưu tiên cử nhân chuyên ngành QTKD/Kinh tế và các chuyên ngành có liên quan\\n- Độ tuổi tuyển dụng         : 25 – 30\\n- Kinh nghiệm làm việc : \\n+ Kinh nghiệm phân tích ít nhất 2 năm hoặc đã đảm nhận vị trí tương đương\\n+ Đã làm ngành logistic tối thiểu 1 năm\\n- Kỹ năng   :\\n + Có khả năng giao tiếp, trình bày và thuyết phục tốt\\n + Đã sử dụng các phần mềm, Microsoft office và các công cụ phân tích như Power B.I, SQL\\n+ Tiếng Anh _ Khá',\n",
       "  '- Lương: 12 – 15 triệu\\n- Được hưởng các quyền lợi theo quy định của Luật lao động về nghỉ tết, lễ…\\n- Quà sinh nhật, tham gia các hoạt động phong trào thể thao, văn hóa, du lịch của công ty...\\n- Được làm việc trong môi trường thân thiện, đội ngũ nhân viên trẻ, nhiệt tình.'],\n",
       " ['Act as a Project consultant & collaborator between Business functions (Growth, Commercial, Customer Service, Product, Tech) and Strategic & Analytics team.\\nUse data-driven methodologies (qualitative and quantitative) to support in planning & executing cross-functional projects, as well as departmental daily operations.\\nUtilize existing BI data & SQL skill to draw actionable inferences & insights to support, or go as far as leading new initiatives.\\nBe a performance controller and advocate for quality strategic planning & operational excellence: diagnose declining trends across all business functions → identify root causes → control & monitor → recommendation for improvement.\\nBe willing to do necessary researches (with guidance provided from line manager) to recognize market trends & improvement tactics across all business aspects',\n",
       "  'More than 2 years of working experience in Strategy & Data Analytics, BI Consultant or Product Analytics.\\nHave some basic knowledge of SQL (>3 months) with hands on experience as you will be using lots of SQL on a daily basis.\\nStrong logical & critical thinking: being able to recognize patterns & connecting the dots.\\nExperienced with providing data (either qualitative and quantitative) to support business functions & monitor next steps.\\nUnderstand the rule of 20/80: set daily priorities, multitask & be an active owner of your tasks.\\nGood communication skills & ability to explain your findings to business/technical stakeholders in an efficient manner.\\nBe able to manage time effectively & deliver high-quality work.\\nPossess a proactive mindset & positive attitude, able to bring in good influences to your teammates & stakeholders.',\n",
       "  'Create impactful technology products to bring value to society, especially to those who are underserved.\\nWork with tech-giant partners in Vietnam and the region: Vietjet, Sovico, Facebook, Google… and have access to the world’s leading investment funds.\\nYoung, dynamic start-up environment with knowledgeable and experienced leaders.\\nHone your skills through the new challenges, and have your say in contributing towards the common goals.\\nCompetitive remuneration package.\\nCool office, work time & location flexibility, other perks include snacks, coffee, and healthy food provided daily…']]"
      ]
     },
     "execution_count": 15,
     "metadata": {},
     "output_type": "execute_result"
    }
   ],
   "source": [
    "all_jd[:5]"
   ]
  },
  {
   "cell_type": "markdown",
   "id": "2dfde693",
   "metadata": {},
   "source": [
    "## Save data:"
   ]
  },
  {
   "cell_type": "code",
   "execution_count": 16,
   "id": "27d353fc",
   "metadata": {},
   "outputs": [
    {
     "data": {
      "text/html": [
       "<div>\n",
       "<style scoped>\n",
       "    .dataframe tbody tr th:only-of-type {\n",
       "        vertical-align: middle;\n",
       "    }\n",
       "\n",
       "    .dataframe tbody tr th {\n",
       "        vertical-align: top;\n",
       "    }\n",
       "\n",
       "    .dataframe thead th {\n",
       "        text-align: right;\n",
       "    }\n",
       "</style>\n",
       "<table border=\"1\" class=\"dataframe\">\n",
       "  <thead>\n",
       "    <tr style=\"text-align: right;\">\n",
       "      <th></th>\n",
       "      <th>Mức lương</th>\n",
       "      <th>Số lượng tuyển</th>\n",
       "      <th>Hình thức làm việc</th>\n",
       "      <th>Cấp bậc</th>\n",
       "      <th>Giới tính</th>\n",
       "      <th>Kinh nghiệm</th>\n",
       "    </tr>\n",
       "  </thead>\n",
       "  <tbody>\n",
       "    <tr>\n",
       "      <th>0</th>\n",
       "      <td>10-18 triệu</td>\n",
       "      <td>1 người</td>\n",
       "      <td>Toàn thời gian</td>\n",
       "      <td>Nhân viên</td>\n",
       "      <td>Nam</td>\n",
       "      <td>1 năm</td>\n",
       "    </tr>\n",
       "    <tr>\n",
       "      <th>1</th>\n",
       "      <td>Thoả thuận</td>\n",
       "      <td>1 người</td>\n",
       "      <td>Toàn thời gian</td>\n",
       "      <td>Nhân viên</td>\n",
       "      <td>Không yêu cầu</td>\n",
       "      <td>2 năm</td>\n",
       "    </tr>\n",
       "    <tr>\n",
       "      <th>2</th>\n",
       "      <td>Thoả thuận</td>\n",
       "      <td>1 người</td>\n",
       "      <td>Toàn thời gian</td>\n",
       "      <td>Nhân viên</td>\n",
       "      <td>Không yêu cầu</td>\n",
       "      <td>4 năm</td>\n",
       "    </tr>\n",
       "    <tr>\n",
       "      <th>3</th>\n",
       "      <td>12-15 triệu</td>\n",
       "      <td>1 người</td>\n",
       "      <td>Toàn thời gian</td>\n",
       "      <td>Nhân viên</td>\n",
       "      <td>Không yêu cầu</td>\n",
       "      <td>2 năm</td>\n",
       "    </tr>\n",
       "    <tr>\n",
       "      <th>4</th>\n",
       "      <td>1,000-1,500 USD</td>\n",
       "      <td>1 người</td>\n",
       "      <td>Toàn thời gian</td>\n",
       "      <td>Nhân viên</td>\n",
       "      <td>Không yêu cầu</td>\n",
       "      <td>3 năm</td>\n",
       "    </tr>\n",
       "  </tbody>\n",
       "</table>\n",
       "</div>"
      ],
      "text/plain": [
       "         Mức lương Số lượng tuyển Hình thức làm việc    Cấp bậc  \\\n",
       "0      10-18 triệu        1 người     Toàn thời gian  Nhân viên   \n",
       "1       Thoả thuận        1 người     Toàn thời gian  Nhân viên   \n",
       "2       Thoả thuận        1 người     Toàn thời gian  Nhân viên   \n",
       "3      12-15 triệu        1 người     Toàn thời gian  Nhân viên   \n",
       "4  1,000-1,500 USD        1 người     Toàn thời gian  Nhân viên   \n",
       "\n",
       "       Giới tính Kinh nghiệm  \n",
       "0            Nam       1 năm  \n",
       "1  Không yêu cầu       2 năm  \n",
       "2  Không yêu cầu       4 năm  \n",
       "3  Không yêu cầu       2 năm  \n",
       "4  Không yêu cầu       3 năm  "
      ]
     },
     "execution_count": 16,
     "metadata": {},
     "output_type": "execute_result"
    }
   ],
   "source": [
    "df = pd.DataFrame(sm_info[1])\n",
    "df[:5]"
   ]
  },
  {
   "cell_type": "code",
   "execution_count": 17,
   "id": "8d96e338",
   "metadata": {},
   "outputs": [],
   "source": [
    "company = sm_info[0]\n",
    "df['Company'] = pd.Series(company)"
   ]
  },
  {
   "cell_type": "code",
   "execution_count": 18,
   "id": "eadae97f",
   "metadata": {},
   "outputs": [],
   "source": [
    "first_column = df.pop('Company')\n",
    "df.insert(0, 'Company', first_column)"
   ]
  },
  {
   "cell_type": "code",
   "execution_count": 19,
   "id": "4cbb3aad",
   "metadata": {},
   "outputs": [],
   "source": [
    "df['Title'] = pd.Series(tt_job)\n",
    "nd_column = df.pop('Title')\n",
    "df.insert(1, 'Title', nd_column)"
   ]
  },
  {
   "cell_type": "code",
   "execution_count": 20,
   "id": "70ae8d35",
   "metadata": {},
   "outputs": [],
   "source": [
    "df['Links'] = pd.Series(job_link)"
   ]
  },
  {
   "cell_type": "code",
   "execution_count": 21,
   "id": "eb2158ae",
   "metadata": {},
   "outputs": [
    {
     "data": {
      "text/html": [
       "<div>\n",
       "<style scoped>\n",
       "    .dataframe tbody tr th:only-of-type {\n",
       "        vertical-align: middle;\n",
       "    }\n",
       "\n",
       "    .dataframe tbody tr th {\n",
       "        vertical-align: top;\n",
       "    }\n",
       "\n",
       "    .dataframe thead th {\n",
       "        text-align: right;\n",
       "    }\n",
       "</style>\n",
       "<table border=\"1\" class=\"dataframe\">\n",
       "  <thead>\n",
       "    <tr style=\"text-align: right;\">\n",
       "      <th></th>\n",
       "      <th>Company</th>\n",
       "      <th>Title</th>\n",
       "      <th>Mức lương</th>\n",
       "      <th>Số lượng tuyển</th>\n",
       "      <th>Hình thức làm việc</th>\n",
       "      <th>Cấp bậc</th>\n",
       "      <th>Giới tính</th>\n",
       "      <th>Kinh nghiệm</th>\n",
       "      <th>Links</th>\n",
       "    </tr>\n",
       "  </thead>\n",
       "  <tbody>\n",
       "    <tr>\n",
       "      <th>0</th>\n",
       "      <td>CÔNG TY TNHH THƯƠNG MẠI DỊCH VỤ VGS</td>\n",
       "      <td>Game Data Analyst - Phân Tích Dữ Liệu Game</td>\n",
       "      <td>10-18 triệu</td>\n",
       "      <td>1 người</td>\n",
       "      <td>Toàn thời gian</td>\n",
       "      <td>Nhân viên</td>\n",
       "      <td>Nam</td>\n",
       "      <td>1 năm</td>\n",
       "      <td>https://www.topcv.vn/viec-lam/game-data-analys...</td>\n",
       "    </tr>\n",
       "    <tr>\n",
       "      <th>1</th>\n",
       "      <td>CÔNG TY TNHH TRUYỀN HÌNH FPT</td>\n",
       "      <td>Data Analyst - Hồ Chí Minh</td>\n",
       "      <td>Thoả thuận</td>\n",
       "      <td>1 người</td>\n",
       "      <td>Toàn thời gian</td>\n",
       "      <td>Nhân viên</td>\n",
       "      <td>Không yêu cầu</td>\n",
       "      <td>2 năm</td>\n",
       "      <td>https://www.topcv.vn/viec-lam/data-analyst-ho-...</td>\n",
       "    </tr>\n",
       "    <tr>\n",
       "      <th>2</th>\n",
       "      <td>Công ty Cổ phần VIN3S</td>\n",
       "      <td>Data Analyst</td>\n",
       "      <td>Thoả thuận</td>\n",
       "      <td>1 người</td>\n",
       "      <td>Toàn thời gian</td>\n",
       "      <td>Nhân viên</td>\n",
       "      <td>Không yêu cầu</td>\n",
       "      <td>4 năm</td>\n",
       "      <td>https://www.topcv.vn/viec-lam/data-analyst/840...</td>\n",
       "    </tr>\n",
       "    <tr>\n",
       "      <th>3</th>\n",
       "      <td>Công ty cổ phần Hai Bốn Bảy</td>\n",
       "      <td>Chuyên Viên Phân Tích Dữ Liệu</td>\n",
       "      <td>12-15 triệu</td>\n",
       "      <td>1 người</td>\n",
       "      <td>Toàn thời gian</td>\n",
       "      <td>Nhân viên</td>\n",
       "      <td>Không yêu cầu</td>\n",
       "      <td>2 năm</td>\n",
       "      <td>https://www.topcv.vn/viec-lam/chuyen-vien-phan...</td>\n",
       "    </tr>\n",
       "    <tr>\n",
       "      <th>4</th>\n",
       "      <td>CÔNG TY TNHH FINAN (SoBanHang)</td>\n",
       "      <td>Data Analyst (BI Controller) _ Lương Upto $1,500</td>\n",
       "      <td>1,000-1,500 USD</td>\n",
       "      <td>1 người</td>\n",
       "      <td>Toàn thời gian</td>\n",
       "      <td>Nhân viên</td>\n",
       "      <td>Không yêu cầu</td>\n",
       "      <td>3 năm</td>\n",
       "      <td>https://www.topcv.vn/viec-lam/data-analyst-bi-...</td>\n",
       "    </tr>\n",
       "  </tbody>\n",
       "</table>\n",
       "</div>"
      ],
      "text/plain": [
       "                               Company  \\\n",
       "0  CÔNG TY TNHH THƯƠNG MẠI DỊCH VỤ VGS   \n",
       "1         CÔNG TY TNHH TRUYỀN HÌNH FPT   \n",
       "2                Công ty Cổ phần VIN3S   \n",
       "3          Công ty cổ phần Hai Bốn Bảy   \n",
       "4       CÔNG TY TNHH FINAN (SoBanHang)   \n",
       "\n",
       "                                              Title        Mức lương  \\\n",
       "0        Game Data Analyst - Phân Tích Dữ Liệu Game      10-18 triệu   \n",
       "1                        Data Analyst - Hồ Chí Minh       Thoả thuận   \n",
       "2                                      Data Analyst       Thoả thuận   \n",
       "3                     Chuyên Viên Phân Tích Dữ Liệu      12-15 triệu   \n",
       "4  Data Analyst (BI Controller) _ Lương Upto $1,500  1,000-1,500 USD   \n",
       "\n",
       "  Số lượng tuyển Hình thức làm việc    Cấp bậc      Giới tính Kinh nghiệm  \\\n",
       "0        1 người     Toàn thời gian  Nhân viên            Nam       1 năm   \n",
       "1        1 người     Toàn thời gian  Nhân viên  Không yêu cầu       2 năm   \n",
       "2        1 người     Toàn thời gian  Nhân viên  Không yêu cầu       4 năm   \n",
       "3        1 người     Toàn thời gian  Nhân viên  Không yêu cầu       2 năm   \n",
       "4        1 người     Toàn thời gian  Nhân viên  Không yêu cầu       3 năm   \n",
       "\n",
       "                                               Links  \n",
       "0  https://www.topcv.vn/viec-lam/game-data-analys...  \n",
       "1  https://www.topcv.vn/viec-lam/data-analyst-ho-...  \n",
       "2  https://www.topcv.vn/viec-lam/data-analyst/840...  \n",
       "3  https://www.topcv.vn/viec-lam/chuyen-vien-phan...  \n",
       "4  https://www.topcv.vn/viec-lam/data-analyst-bi-...  "
      ]
     },
     "execution_count": 21,
     "metadata": {},
     "output_type": "execute_result"
    }
   ],
   "source": [
    "df[:5]"
   ]
  },
  {
   "cell_type": "code",
   "execution_count": 22,
   "id": "87965abd",
   "metadata": {},
   "outputs": [],
   "source": [
    "df.to_csv('data_topcv.csv', sep=',', encoding='utf-8',index=False)"
   ]
  },
  {
   "cell_type": "code",
   "execution_count": 23,
   "id": "2b97f9b9",
   "metadata": {},
   "outputs": [],
   "source": [
    "## save jd to csv:\n",
    "des = []\n",
    "re = []\n",
    "be = []\n",
    "for i in range(len(all_jd)):\n",
    "    e_des = all_jd[i][0]\n",
    "    des.append(e_des)\n",
    "    e_re = all_jd[i][1]\n",
    "    re.append(e_re)\n",
    "    e_be = all_jd[i][2]\n",
    "    be.append(e_be)\n"
   ]
  },
  {
   "cell_type": "code",
   "execution_count": 24,
   "id": "2e880169",
   "metadata": {},
   "outputs": [],
   "source": [
    "dict = {'Company': company, 'Title' : tt_job, 'Description': des, 'Required': re,'Benifits': be}"
   ]
  },
  {
   "cell_type": "code",
   "execution_count": 25,
   "id": "cfde5b13",
   "metadata": {},
   "outputs": [
    {
     "data": {
      "text/html": [
       "<div>\n",
       "<style scoped>\n",
       "    .dataframe tbody tr th:only-of-type {\n",
       "        vertical-align: middle;\n",
       "    }\n",
       "\n",
       "    .dataframe tbody tr th {\n",
       "        vertical-align: top;\n",
       "    }\n",
       "\n",
       "    .dataframe thead th {\n",
       "        text-align: right;\n",
       "    }\n",
       "</style>\n",
       "<table border=\"1\" class=\"dataframe\">\n",
       "  <thead>\n",
       "    <tr style=\"text-align: right;\">\n",
       "      <th></th>\n",
       "      <th>Company</th>\n",
       "      <th>Title</th>\n",
       "      <th>Description</th>\n",
       "      <th>Required</th>\n",
       "      <th>Benifits</th>\n",
       "    </tr>\n",
       "  </thead>\n",
       "  <tbody>\n",
       "    <tr>\n",
       "      <th>0</th>\n",
       "      <td>CÔNG TY TNHH THƯƠNG MẠI DỊCH VỤ VGS</td>\n",
       "      <td>Game Data Analyst - Phân Tích Dữ Liệu Game</td>\n",
       "      <td>Tổng hợp dữ liệu người chơi game từ các nguồn ...</td>\n",
       "      <td>Có ít nhất 1 năm kinh nghiệm về phân tích dữ l...</td>\n",
       "      <td>Được làm việc trong một công ty game năng động...</td>\n",
       "    </tr>\n",
       "    <tr>\n",
       "      <th>1</th>\n",
       "      <td>CÔNG TY TNHH TRUYỀN HÌNH FPT</td>\n",
       "      <td>Data Analyst - Hồ Chí Minh</td>\n",
       "      <td>Work with the manager to identify market needs...</td>\n",
       "      <td>Have a degree in Computer Science, Applied Mat...</td>\n",
       "      <td>Great opportunity to dive deeply into a big da...</td>\n",
       "    </tr>\n",
       "    <tr>\n",
       "      <th>2</th>\n",
       "      <td>Công ty Cổ phần VIN3S</td>\n",
       "      <td>Data Analyst</td>\n",
       "      <td>Objective\\n• Apply analysis, problem solving m...</td>\n",
       "      <td>• Bachelor’s degree in Business Analytics, Bus...</td>\n",
       "      <td>Salary is attractive and commensurates with co...</td>\n",
       "    </tr>\n",
       "    <tr>\n",
       "      <th>3</th>\n",
       "      <td>Công ty cổ phần Hai Bốn Bảy</td>\n",
       "      <td>Chuyên Viên Phân Tích Dữ Liệu</td>\n",
       "      <td>1. Phân tích dữ liệu và viết báo cáo liên quan...</td>\n",
       "      <td>- Trình độ học vấn             : Tốt nghiệp Ca...</td>\n",
       "      <td>- Lương: 12 – 15 triệu\\n- Được hưởng các quyền...</td>\n",
       "    </tr>\n",
       "    <tr>\n",
       "      <th>4</th>\n",
       "      <td>CÔNG TY TNHH FINAN (SoBanHang)</td>\n",
       "      <td>Data Analyst (BI Controller) _ Lương Upto $1,500</td>\n",
       "      <td>Act as a Project consultant &amp; collaborator bet...</td>\n",
       "      <td>More than 2 years of working experience in Str...</td>\n",
       "      <td>Create impactful technology products to bring ...</td>\n",
       "    </tr>\n",
       "  </tbody>\n",
       "</table>\n",
       "</div>"
      ],
      "text/plain": [
       "                               Company  \\\n",
       "0  CÔNG TY TNHH THƯƠNG MẠI DỊCH VỤ VGS   \n",
       "1         CÔNG TY TNHH TRUYỀN HÌNH FPT   \n",
       "2                Công ty Cổ phần VIN3S   \n",
       "3          Công ty cổ phần Hai Bốn Bảy   \n",
       "4       CÔNG TY TNHH FINAN (SoBanHang)   \n",
       "\n",
       "                                              Title  \\\n",
       "0        Game Data Analyst - Phân Tích Dữ Liệu Game   \n",
       "1                        Data Analyst - Hồ Chí Minh   \n",
       "2                                      Data Analyst   \n",
       "3                     Chuyên Viên Phân Tích Dữ Liệu   \n",
       "4  Data Analyst (BI Controller) _ Lương Upto $1,500   \n",
       "\n",
       "                                         Description  \\\n",
       "0  Tổng hợp dữ liệu người chơi game từ các nguồn ...   \n",
       "1  Work with the manager to identify market needs...   \n",
       "2  Objective\\n• Apply analysis, problem solving m...   \n",
       "3  1. Phân tích dữ liệu và viết báo cáo liên quan...   \n",
       "4  Act as a Project consultant & collaborator bet...   \n",
       "\n",
       "                                            Required  \\\n",
       "0  Có ít nhất 1 năm kinh nghiệm về phân tích dữ l...   \n",
       "1  Have a degree in Computer Science, Applied Mat...   \n",
       "2  • Bachelor’s degree in Business Analytics, Bus...   \n",
       "3  - Trình độ học vấn             : Tốt nghiệp Ca...   \n",
       "4  More than 2 years of working experience in Str...   \n",
       "\n",
       "                                            Benifits  \n",
       "0  Được làm việc trong một công ty game năng động...  \n",
       "1  Great opportunity to dive deeply into a big da...  \n",
       "2  Salary is attractive and commensurates with co...  \n",
       "3  - Lương: 12 – 15 triệu\\n- Được hưởng các quyền...  \n",
       "4  Create impactful technology products to bring ...  "
      ]
     },
     "execution_count": 25,
     "metadata": {},
     "output_type": "execute_result"
    }
   ],
   "source": [
    "df_jd = pd.DataFrame(dict)\n",
    "df_jd[:5]"
   ]
  },
  {
   "cell_type": "code",
   "execution_count": 26,
   "id": "a8f5acfa",
   "metadata": {},
   "outputs": [],
   "source": [
    "df_jd.to_csv('jd_topcv.csv', sep=',', encoding='utf-8',index=False)"
   ]
  },
  {
   "cell_type": "code",
   "execution_count": null,
   "id": "ec15893e",
   "metadata": {},
   "outputs": [],
   "source": []
  }
 ],
 "metadata": {
  "kernelspec": {
   "display_name": "Python 3 (ipykernel)",
   "language": "python",
   "name": "python3"
  },
  "language_info": {
   "codemirror_mode": {
    "name": "ipython",
    "version": 3
   },
   "file_extension": ".py",
   "mimetype": "text/x-python",
   "name": "python",
   "nbconvert_exporter": "python",
   "pygments_lexer": "ipython3",
   "version": "3.10.5"
  }
 },
 "nbformat": 4,
 "nbformat_minor": 5
}
