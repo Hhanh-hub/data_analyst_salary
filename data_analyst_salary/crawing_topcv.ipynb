{
 "cells": [
  {
   "cell_type": "code",
   "execution_count": 10,
   "id": "b26f1793",
   "metadata": {},
   "outputs": [
    {
     "data": {
      "application/javascript": [
       "\n",
       "require([\"codemirror/lib/codemirror\"]);\n",
       "function set(str) {\n",
       "    var obj = {}, words = str.split(\" \");\n",
       "    for (var i = 0; i < words.length; ++i) obj[words[i]] = true;\n",
       "    return obj;\n",
       "  }\n",
       "var fugue_keywords = \"fill hash rand even presort persist broadcast params process output outtransform rowcount concurrency prepartition zip print title save append parquet csv json single checkpoint weak strong deterministic yield connect sample seed take sub callback dataframe file\";\n",
       "CodeMirror.defineMIME(\"text/x-fsql\", {\n",
       "    name: \"sql\",\n",
       "    keywords: set(fugue_keywords + \" add after all alter analyze and anti archive array as asc at between bucket buckets by cache cascade case cast change clear cluster clustered codegen collection column columns comment commit compact compactions compute concatenate cost create cross cube current current_date current_timestamp database databases data dbproperties defined delete delimited deny desc describe dfs directories distinct distribute drop else end escaped except exchange exists explain export extended external false fields fileformat first following for format formatted from full function functions global grant group grouping having if ignore import in index indexes inner inpath inputformat insert intersect interval into is items join keys last lateral lazy left like limit lines list load local location lock locks logical macro map minus msck natural no not null nulls of on optimize option options or order out outer outputformat over overwrite partition partitioned partitions percent preceding principals purge range recordreader recordwriter recover reduce refresh regexp rename repair replace reset restrict revoke right rlike role roles rollback rollup row rows schema schemas select semi separated serde serdeproperties set sets show skewed sort sorted start statistics stored stratify struct table tables tablesample tblproperties temp temporary terminated then to touch transaction transactions transform true truncate unarchive unbounded uncache union unlock unset use using values view when where window with\"),\n",
       "    builtin: set(\"date datetime tinyint smallint int bigint boolean float double string binary timestamp decimal array map struct uniontype delimited serde sequencefile textfile rcfile inputformat outputformat\"),\n",
       "    atoms: set(\"false true null\"),\n",
       "    operatorChars: /^[*\\/+\\-%<>!=~&|^]/,\n",
       "    dateSQL: set(\"time\"),\n",
       "    support: set(\"ODBCdotTable doubleQuote zerolessFloat\")\n",
       "  });\n",
       "\n",
       "CodeMirror.modeInfo.push( {\n",
       "            name: \"Fugue SQL\",\n",
       "            mime: \"text/x-fsql\",\n",
       "            mode: \"sql\"\n",
       "          } );\n",
       "\n",
       "require(['notebook/js/codecell'], function(codecell) {\n",
       "    codecell.CodeCell.options_default.highlight_modes['magic_text/x-fsql'] = {'reg':[/%%fsql/]} ;\n",
       "    Jupyter.notebook.events.on('kernel_ready.Kernel', function(){\n",
       "    Jupyter.notebook.get_cells().map(function(cell){\n",
       "        if (cell.cell_type == 'code'){ cell.auto_highlight(); } }) ;\n",
       "    });\n",
       "  });\n"
      ],
      "text/plain": [
       "<IPython.core.display.Javascript object>"
      ]
     },
     "metadata": {},
     "output_type": "display_data"
    }
   ],
   "source": [
    "import pandas as pd\n",
    "import numpy as np\n",
    "from matplotlib import pyplot as plt\n",
    "import seaborn as sns\n",
    "from fugue_notebook import setup\n",
    "setup()"
   ]
  },
  {
   "cell_type": "code",
   "execution_count": 11,
   "id": "0490f124",
   "metadata": {},
   "outputs": [],
   "source": [
    "from selenium import webdriver\n",
    "from selenium.webdriver.support.ui import WebDriverWait\n",
    "from selenium.webdriver.common.by import By\n",
    "from selenium.webdriver.support import expected_conditions as EC\n",
    "import time"
   ]
  },
  {
   "cell_type": "markdown",
   "id": "5ac65fb2",
   "metadata": {},
   "source": [
    "## Build function:"
   ]
  },
  {
   "cell_type": "code",
   "execution_count": 12,
   "id": "47a2a253",
   "metadata": {},
   "outputs": [],
   "source": [
    "#get all links page:\n",
    "\n",
    "def all_page(link):\n",
    "    #data_analyst vieclam24h\n",
    "    page_links = []\n",
    "    driver = webdriver.Chrome()\n",
    "    page_respone = driver.get(link)\n",
    "    page_links_elements = driver.find_elements_by_xpath('//ul[@class=\"pagination\"]/li/a')\n",
    "    time.sleep(1) \n",
    "    \n",
    "    page_links = [x.get_attribute('href') for x in page_links_elements]\n",
    "    page_links = list(set(page_links))\n",
    "    driver.close()\n",
    "    return page_links\n",
    "\n",
    "    "
   ]
  },
  {
   "cell_type": "code",
   "execution_count": 13,
   "id": "d44ece89",
   "metadata": {},
   "outputs": [],
   "source": [
    "def title_job(link):\n",
    "    driver = webdriver.Chrome()\n",
    "    driver.get(link)\n",
    "    title_elements = driver.find_elements_by_xpath('//div/h3/a/span[@class=\"bold transform-job-title\"]')\n",
    "    job_title = [j.text for j in title_elements]\n",
    "    driver.close()\n",
    "    return job_title"
   ]
  },
  {
   "cell_type": "code",
   "execution_count": 14,
   "id": "eabdb1e7",
   "metadata": {},
   "outputs": [],
   "source": [
    "# link_elements = driver.find_elements_by_css_selector('a.underline-box-job')\n",
    "def link_elements(link):\n",
    "    driver = webdriver.Chrome()\n",
    "    driver.get(link)\n",
    "    link_elements = driver.find_elements_by_xpath('//div/h3/a[@class=\"underline-box-job\"]')\n",
    "    job_link = [k.get_attribute('href') for k in link_elements]\n",
    "#     df_job_link = pd.Series(job_link, name=\"Job link\")\n",
    "    driver.close()\n",
    "    return job_link"
   ]
  },
  {
   "cell_type": "code",
   "execution_count": 15,
   "id": "e55bb5fb",
   "metadata": {},
   "outputs": [],
   "source": [
    "## Ham lay info_job:\n",
    "def info_job(job_link):\n",
    "    driver = webdriver.Chrome()\n",
    "    company_name = []\n",
    "    summary = []\n",
    "    for job in job_link:\n",
    "        driver.get(job)\n",
    "        company_elements = driver.find_elements_by_css_selector('div.company-title a.text-dark-blue')\n",
    "        company = [n.text for n in company_elements]\n",
    "        if company == []:\n",
    "            company_elements = driver.find_elements_by_id('company-name')\n",
    "            company = [n.text for n in company_elements]\n",
    "        company_name= company_name + company\n",
    "    \n",
    "\n",
    "        ## summary\n",
    "        sum_elements = driver.find_elements_by_css_selector('div.box-main div.box-item')\n",
    "        sum_e = [x.get_attribute('textContent') for x in sum_elements]\n",
    "        summary.append(sum_e)\n",
    "    #split summary:\n",
    "    results=[]\n",
    "    for i in range(len(summary)):\n",
    "        one_job=[]\n",
    "        for a in range(len(summary[i])):\n",
    "            per = summary[i][a].split('\\n')\n",
    "            per = [item.strip() for item in per]\n",
    "            per = list(filter(None, per))\n",
    "            one_job = one_job+per\n",
    "\n",
    "        one_job = {one_job[k]: one_job[k + 1] for k in range(0, len(one_job), 2)}\n",
    "        results.append(one_job)\n",
    "    driver.close()\n",
    "    return company_name, results"
   ]
  },
  {
   "cell_type": "code",
   "execution_count": 16,
   "id": "4846b96d",
   "metadata": {},
   "outputs": [],
   "source": [
    "def get_jd(link):\n",
    "    driver = webdriver.Chrome()\n",
    "    jd = []\n",
    "    jd_elements = []\n",
    "#     des = []\n",
    "#     re = []\n",
    "#     be = []\n",
    "    driver.get(link)\n",
    "    jd_elements = driver.find_elements_by_css_selector('div.content-tab')\n",
    "    jd_e = [n.text for n in jd_elements]\n",
    "#     des = jd_elements[0].text\n",
    "#     re = jd_elements[1].text\n",
    "#     be = jd_elements[2].text\n",
    "    driver.close()\n",
    "    return jd_e"
   ]
  },
  {
   "cell_type": "markdown",
   "id": "1448eab0",
   "metadata": {},
   "source": [
    "## Apply function:"
   ]
  },
  {
   "cell_type": "code",
   "execution_count": 23,
   "id": "cc042de8",
   "metadata": {},
   "outputs": [
    {
     "name": "stdout",
     "output_type": "stream",
     "text": [
      "['https://www.topcv.vn/tim-viec-lam-data-analyst-tai-ho-chi-minh-kl2?salary=0&exp=0&sort=top_related&page=2']\n",
      "All pages for searching, include current page:  2\n"
     ]
    }
   ],
   "source": [
    "#get all links page:\n",
    "# driver_page = webdriver.Chrome()\n",
    "source = ['https://www.topcv.vn/tim-viec-lam-data-analyst-tai-ho-chi-minh-kl2']\n",
    "page_links = []\n",
    "for i in range(len(source)):\n",
    "    page_link = all_page(source[i])\n",
    "    page_links = page_links + page_link\n",
    "print(page_links)\n",
    "print('All pages for searching, include current page: ',len(page_links)+1)"
   ]
  },
  {
   "cell_type": "code",
   "execution_count": 21,
   "id": "4f0999c1",
   "metadata": {},
   "outputs": [
    {
     "data": {
      "text/plain": [
       "range(0, 1)"
      ]
     },
     "execution_count": 21,
     "metadata": {},
     "output_type": "execute_result"
    }
   ],
   "source": [
    "range(len(page_links))"
   ]
  },
  {
   "cell_type": "code",
   "execution_count": 25,
   "id": "15bdc64f",
   "metadata": {},
   "outputs": [
    {
     "name": "stdout",
     "output_type": "stream",
     "text": [
      "['https://www.topcv.vn/viec-lam/data-analyst/842539.html?ta_source=JobSearchList', 'https://www.topcv.vn/viec-lam/data-analyst/847698.html?ta_source=JobSearchList', 'https://www.topcv.vn/brand/xnkphattriendongduong/tuyen-dung/chuyen-vien-phan-tich-thong-ke-data-analyst-j842737.html?ta_source=JobSearchList', 'https://www.topcv.vn/viec-lam/chuyen-vien-data-analyst/839449.html?ta_source=JobSearchList', 'https://www.topcv.vn/viec-lam/data-analyst/468705.html?ta_source=JobSearchList', 'https://www.topcv.vn/viec-lam/chuyen-vien-phan-tich-du-lieu-data-analyst/785373.html?ta_source=JobSearchList', 'https://www.topcv.vn/viec-lam/data-analyst-hcm/833265.html?ta_source=JobSearchList', 'https://www.topcv.vn/viec-lam/data-analyst-executive/832190.html?ta_source=JobSearchList', 'https://www.topcv.vn/viec-lam/data-analyst-business-intelligence/660441.html?ta_source=JobSearchList', 'https://www.topcv.vn/viec-lam/data-analyst-hcm/830822.html?ta_source=JobSearchList', 'https://www.topcv.vn/viec-lam/chuyen-vien-phan-tich-du-lieu-data-analytics/829405.html?ta_source=JobSearchList', 'https://www.topcv.vn/viec-lam/chuyen-vien-phan-tich-du-lieu-mang-xa-hoi-social-media-data-analyst/339679.html?ta_source=JobSearchList', 'https://www.topcv.vn/viec-lam/chuyen-vien-phan-tich-du-lieu-thang-10/828614.html?ta_source=JobSearchList', 'https://www.topcv.vn/viec-lam/phan-tich-so-lieu-data-analyst-ngan-hang-dien-tu/709958.html?ta_source=JobSearchList', 'https://www.topcv.vn/viec-lam/data-analyst-fresher-junior/821991.html?ta_source=JobSearchList', 'https://www.topcv.vn/viec-lam/data-analyst-music-game/820982.html?ta_source=JobSearchList', 'https://www.topcv.vn/viec-lam/senior-data-analyst/817666.html?ta_source=JobSearchList', 'https://www.topcv.vn/viec-lam/data-analyst-intern/845686.html?ta_source=JobSearchList', 'https://www.topcv.vn/viec-lam/data-analyst/696484.html?ta_source=JobSearchList', 'https://www.topcv.vn/viec-lam/chuyen-vien-phan-tich-du-lieu-bao-cao/841805.html?ta_source=JobSearchList', 'https://www.topcv.vn/viec-lam/data-analyst/840625.html?ta_source=JobSearchList', 'https://www.topcv.vn/viec-lam/nhan-vien-phan-tich-du-lieu-kinh-doanh/839965.html?ta_source=JobSearchList', 'https://www.topcv.vn/viec-lam/chuyen-vien-phan-tich-du-lieu/839678.html?ta_source=JobSearchList', 'https://www.topcv.vn/viec-lam/data-analyst-bi-controller-luong-upto-1-500/838249.html?ta_source=JobSearchList', 'https://www.topcv.vn/viec-lam/data-analyst-operations-support-shopee-xpress/801787.html?ta_source=JobSearchList', 'https://www.topcv.vn/brand/transcosmosvietnam/tuyen-dung/data-analyst-contact-call-center-j834750.html?ta_source=JobSearchList', 'https://www.topcv.vn/viec-lam/thuc-tap-sinh-phan-tich-du-lieu/833798.html?ta_source=JobSearchList', 'https://www.topcv.vn/viec-lam/thuc-tap-sinh-data-analyst/828323.html?ta_source=JobSearchList', 'https://www.topcv.vn/viec-lam/thuc-tap-sinh-phan-tich-du-lieu-mang-xa-hoi-social-media-data-analyst-intern/334071.html?ta_source=JobSearchList', 'https://www.topcv.vn/viec-lam/data-analyst-intern-ad-network/690727.html?ta_source=JobSearchList', 'https://www.topcv.vn/viec-lam/data-analyst/788572.html?ta_source=JobSearchList']\n"
     ]
    }
   ],
   "source": [
    "## get all job links:\n",
    "other_links = []\n",
    "for i in range(len(page_links)):\n",
    "    x = link_elements(page_links[i])\n",
    "    other_links = other_links + x\n",
    "for i in range(len(source)):\n",
    "    job_link = link_elements(source[i]) + other_links\n",
    "print(job_link)"
   ]
  },
  {
   "cell_type": "code",
   "execution_count": 26,
   "id": "e4fd61a1",
   "metadata": {},
   "outputs": [
    {
     "name": "stdout",
     "output_type": "stream",
     "text": [
      "['https://www.topcv.vn/tim-viec-lam-data-analyst-tai-ho-chi-minh-kl2', 'https://www.topcv.vn/tim-viec-lam-data-analyst-tai-ho-chi-minh-kl2?salary=0&exp=0&sort=top_related&page=2']\n"
     ]
    },
    {
     "data": {
      "text/plain": [
       "['Data Analyst',\n",
       " 'Data Analyst',\n",
       " 'Chuyên Viên Phân Tích Thống Kê ( (Data Analyst)',\n",
       " 'Chuyên Viên Data Analyst',\n",
       " 'Data Analyst']"
      ]
     },
     "execution_count": 26,
     "metadata": {},
     "output_type": "execute_result"
    }
   ],
   "source": [
    "## get title job:\n",
    "tt_job = []\n",
    "all_page = source + page_links\n",
    "print(all_page)\n",
    "for i in range(len(all_page)):\n",
    "    tt = title_job(all_page[i])\n",
    "    tt_job = tt_job + tt\n",
    "tt_job[:5]"
   ]
  },
  {
   "cell_type": "code",
   "execution_count": 27,
   "id": "bfe35f59",
   "metadata": {},
   "outputs": [
    {
     "name": "stdout",
     "output_type": "stream",
     "text": [
      "(['CÔNG TY TNHH PHẦN MỀM ALLIANCE', 'Công ty CP Thế giới Di Động', 'CÔNG TY TNHH XUẤT NHẬP KHẨU PHÁT TRIỂN ĐÔNG DƯƠNG - TẬP ĐOÀN THỂ THAO KINGSPORT', 'Công ty cổ phần Phân bón Dầu khí Cà Mau', 'CÔNG TY TNHH PUZZLE STUDIO', 'Lotte mart', 'Ngân Hàng TNHH MTV Shinhan Việt Nam', 'CÔNG TY TÀI CHÍNH TRÁCH NHIỆM HỮU HẠN MỘT THÀNH VIÊN MIRAE ASSET (VIỆT NAM)', 'CÔNG TY TNHH THƯƠNG MẠI GEARVN', 'Ngân Hàng TNHH MTV Shinhan Việt Nam', 'công ty Viễn Thông Phương Nam', 'Công ty TNHH Lửa Á Châu', 'CÔNG TY TNHH UNICALL', 'Ngân Hàng TMCP Xuất Nhập Khẩu Việt Nam (Eximbank)', 'CÔNG TY TNHH SHARESOURCE', 'CÔNG TY TNHH AMANOTES VIỆT NAM', 'Công ty TNHH Skylink Group', 'CÔNG TY TNHH FINAN (SoBanHang)', 'DATATYK COMPANY LIMITED', 'Ngân Hàng TMCP Xuất Nhập Khẩu Việt Nam (Eximbank)', 'Công ty Cổ phần VIN3S', 'CÔNG TY TNHH EROC COMMERCE (VIỆT NAM)', 'Công ty cổ phần Hai Bốn Bảy', 'CÔNG TY TNHH FINAN (SoBanHang)', 'Công ty TNHH Shopee Express', 'Công Ty TNHH TransCosmos Việt Nam', 'Ngân hàng TMCP Phát triển TP. HCM (HDBank)', 'Meow House', 'Công ty TNHH Lửa Á Châu', 'CÔNG TY TNHH TT UREKA VIỆT NAM', 'Công Ty TNHH OKXE Việt Nam'], [{'Mức lương': '25-35 triệu', 'Số lượng tuyển': '1 người', 'Hình thức làm việc': 'Toàn thời gian', 'Cấp bậc': 'Nhân viên', 'Giới tính': 'Không yêu cầu', 'Kinh nghiệm': '2 năm'}, {'Mức lương': 'Thoả thuận', 'Số lượng tuyển': '1 người', 'Hình thức làm việc': 'Toàn thời gian', 'Cấp bậc': 'Nhân viên', 'Giới tính': 'Không yêu cầu', 'Kinh nghiệm': '1 năm'}, {'Mức lương': '35-45 triệu', 'Số lượng tuyển': '1 người', 'Hình thức làm việc': 'Toàn thời gian', 'Cấp bậc': 'Nhân viên', 'Giới tính': 'Không yêu cầu', 'Kinh nghiệm': '3 năm'}, {'Mức lương': 'Thoả thuận', 'Số lượng tuyển': '1 người', 'Hình thức làm việc': 'Toàn thời gian', 'Cấp bậc': 'Nhân viên', 'Giới tính': 'Không yêu cầu', 'Kinh nghiệm': '2 năm'}, {'Mức lương': '10-15 triệu', 'Số lượng tuyển': '2 người', 'Hình thức làm việc': 'Toàn thời gian', 'Cấp bậc': 'Nhân viên', 'Giới tính': 'Không yêu cầu', 'Kinh nghiệm': '1 năm'}, {'Mức lương': 'Thoả thuận', 'Số lượng tuyển': '1 người', 'Hình thức làm việc': 'Toàn thời gian', 'Cấp bậc': 'Nhân viên', 'Giới tính': 'Không yêu cầu', 'Kinh nghiệm': '2 năm'}, {'Mức lương': 'Tới 16 triệu', 'Số lượng tuyển': '1 người', 'Hình thức làm việc': 'Toàn thời gian', 'Cấp bậc': 'Nhân viên', 'Giới tính': 'Không yêu cầu', 'Kinh nghiệm': 'Dưới 1 năm'}, {'Mức lương': 'Thoả thuận', 'Số lượng tuyển': '1 người', 'Hình thức làm việc': 'Toàn thời gian', 'Cấp bậc': 'Nhân viên', 'Giới tính': 'Không yêu cầu', 'Kinh nghiệm': '1 năm'}, {'Mức lương': 'Thoả thuận', 'Số lượng tuyển': '1 người', 'Hình thức làm việc': 'Toàn thời gian', 'Cấp bậc': 'Nhân viên', 'Giới tính': 'Không yêu cầu', 'Kinh nghiệm': '2 năm'}, {'Mức lương': 'Tới 16 triệu', 'Số lượng tuyển': '2 người', 'Hình thức làm việc': 'Toàn thời gian', 'Cấp bậc': 'Nhân viên', 'Giới tính': 'Nữ', 'Kinh nghiệm': 'Dưới 1 năm'}, {'Mức lương': '15-20 triệu', 'Số lượng tuyển': '1 người', 'Hình thức làm việc': 'Toàn thời gian', 'Cấp bậc': 'Nhân viên', 'Giới tính': 'Không yêu cầu', 'Kinh nghiệm': '1 năm'}, {'Mức lương': 'Thoả thuận', 'Số lượng tuyển': '1 người', 'Hình thức làm việc': 'Toàn thời gian', 'Cấp bậc': 'Nhân viên', 'Giới tính': 'Không yêu cầu', 'Kinh nghiệm': '1 năm'}, {'Mức lương': 'Thoả thuận', 'Số lượng tuyển': '1 người', 'Hình thức làm việc': 'Toàn thời gian', 'Cấp bậc': 'Nhân viên', 'Giới tính': 'Không yêu cầu', 'Kinh nghiệm': '2 năm'}, {'Mức lương': 'Thoả thuận', 'Số lượng tuyển': '2 người', 'Hình thức làm việc': 'Toàn thời gian', 'Cấp bậc': 'Nhân viên', 'Giới tính': 'Không yêu cầu', 'Kinh nghiệm': '1 năm'}, {'Mức lương': 'Tới 10 triệu', 'Số lượng tuyển': '1 người', 'Hình thức làm việc': 'Toàn thời gian', 'Cấp bậc': 'Nhân viên', 'Giới tính': 'Không yêu cầu', 'Kinh nghiệm': 'Không yêu cầu kinh nghiệm'}, {'Mức lương': 'Trên 25 triệu', 'Số lượng tuyển': '4 người', 'Hình thức làm việc': 'Toàn thời gian', 'Cấp bậc': 'Nhân viên', 'Giới tính': 'Không yêu cầu', 'Kinh nghiệm': '2 năm'}, {'Mức lương': 'Thoả thuận', 'Số lượng tuyển': '1 người', 'Hình thức làm việc': 'Toàn thời gian', 'Cấp bậc': 'Nhân viên', 'Giới tính': 'Không yêu cầu', 'Kinh nghiệm': '2 năm'}, {'Mức lương': '2-3 triệu', 'Số lượng tuyển': '1 người', 'Hình thức làm việc': 'Thực tập', 'Cấp bậc': 'Thực tập sinh', 'Giới tính': 'Không yêu cầu', 'Kinh nghiệm': 'Không yêu cầu kinh nghiệm'}, {'Mức lương': 'Tới 30 triệu', 'Số lượng tuyển': '1 người', 'Hình thức làm việc': 'Toàn thời gian', 'Cấp bậc': 'Nhân viên', 'Giới tính': 'Nữ', 'Kinh nghiệm': '1 năm'}, {'Mức lương': 'Thoả thuận', 'Số lượng tuyển': '2 người', 'Hình thức làm việc': 'Toàn thời gian', 'Cấp bậc': 'Nhân viên', 'Giới tính': 'Không yêu cầu', 'Kinh nghiệm': '1 năm'}, {'Mức lương': 'Thoả thuận', 'Số lượng tuyển': '1 người', 'Hình thức làm việc': 'Toàn thời gian', 'Cấp bậc': 'Nhân viên', 'Giới tính': 'Không yêu cầu', 'Kinh nghiệm': '4 năm'}, {'Mức lương': '10-15 triệu', 'Số lượng tuyển': '1 người', 'Hình thức làm việc': 'Toàn thời gian', 'Cấp bậc': 'Nhân viên', 'Giới tính': 'Không yêu cầu', 'Kinh nghiệm': '1 năm'}, {'Mức lương': '12-15 triệu', 'Số lượng tuyển': '1 người', 'Hình thức làm việc': 'Toàn thời gian', 'Cấp bậc': 'Nhân viên', 'Giới tính': 'Không yêu cầu', 'Kinh nghiệm': '2 năm'}, {'Mức lương': '1,000-1,500 USD', 'Số lượng tuyển': '1 người', 'Hình thức làm việc': 'Toàn thời gian', 'Cấp bậc': 'Nhân viên', 'Giới tính': 'Không yêu cầu', 'Kinh nghiệm': '3 năm'}, {'Mức lương': 'Thoả thuận', 'Số lượng tuyển': '1 người', 'Hình thức làm việc': 'Toàn thời gian', 'Cấp bậc': 'Nhân viên', 'Giới tính': 'Không yêu cầu', 'Kinh nghiệm': '3 năm'}, {'Mức lương': 'Tới 30 triệu', 'Số lượng tuyển': '1 người', 'Hình thức làm việc': 'Toàn thời gian', 'Cấp bậc': 'Nhân viên', 'Giới tính': 'Không yêu cầu', 'Kinh nghiệm': '1 năm'}, {'Mức lương': 'Trên 3 triệu', 'Số lượng tuyển': '2 người', 'Hình thức làm việc': 'Thực tập', 'Cấp bậc': 'Thực tập sinh', 'Giới tính': 'Không yêu cầu', 'Kinh nghiệm': 'Không yêu cầu kinh nghiệm'}, {'Mức lương': '0.5-2 triệu', 'Số lượng tuyển': '2 người', 'Hình thức làm việc': 'Thực tập', 'Cấp bậc': 'Thực tập sinh', 'Giới tính': 'Không yêu cầu', 'Kinh nghiệm': 'Không yêu cầu kinh nghiệm'}, {'Mức lương': 'Thoả thuận', 'Số lượng tuyển': '2 người', 'Hình thức làm việc': 'Thực tập', 'Cấp bậc': 'Thực tập sinh', 'Giới tính': 'Không yêu cầu', 'Kinh nghiệm': 'Không yêu cầu kinh nghiệm'}, {'Mức lương': 'Tới 2 triệu', 'Số lượng tuyển': '1 người', 'Hình thức làm việc': 'Thực tập', 'Cấp bậc': 'Thực tập sinh', 'Giới tính': 'Không yêu cầu', 'Kinh nghiệm': 'Không yêu cầu kinh nghiệm'}, {'Mức lương': 'Tới 38 triệu', 'Số lượng tuyển': '2 người', 'Hình thức làm việc': 'Toàn thời gian', 'Cấp bậc': 'Nhân viên', 'Giới tính': 'Không yêu cầu', 'Kinh nghiệm': '1 năm'}])\n"
     ]
    }
   ],
   "source": [
    "## get info jobs: \n",
    "sm_info = info_job(job_link)\n",
    "print(sm_info[:5])"
   ]
  },
  {
   "cell_type": "code",
   "execution_count": 28,
   "id": "70d7d1db",
   "metadata": {},
   "outputs": [],
   "source": [
    "## get JD:\n",
    "all_jd = []\n",
    "for link in job_link:\n",
    "    jd = get_jd(link)\n",
    "    all_jd.append(jd)"
   ]
  },
  {
   "cell_type": "code",
   "execution_count": 29,
   "id": "1363a19e",
   "metadata": {},
   "outputs": [
    {
     "data": {
      "text/plain": [
       "[['We are currently looking for talented Data Analysts to join our team to support in making strategic, data-related decisions by analysing, tracking, and reporting data.\\nYou will be working on exciting and interesting projects, engaging with our internal executives, credit, sales and the marketing department in order to understand their needs and to help shape the engagements that allow us to provide services that will meet those needs.\\n• Advising on data analysis and visualization approaches and strategies.\\n• Implementing solutions for the establishment of data analysis capabilities including data access, data wrangling and transformation and data analysis and visualization.\\n• Delivering a data analysis over a diverse range of data sources and formats, including structured, multi-structured and unstructured.\\n• Guiding the interpretation and communication of results of data analysis, making recommendations to stakeholders of varying levels of data literacy.\\n• Collaborating with system owners, data providers, analysts, managers, and various other stakeholders to data projects.\\n• Managing your time, the team, the stakeholders, and the engagement, to deliver the data management capability.\\n• Troubleshooting and optimizing data systems',\n",
       "  '• Bachelor degree\\n• 2 years’ Data Analysis experience\\n• Proficient in SQL\\n• Sound understanding of data structures, data modelling and data optimisation techniques.\\n• Ability to analyse large, complex data sets from diverse sources, structures, and formats.',\n",
       "  'Package: salary month + Project bonus (If any) + Extra package\\nYoung and dynamic working environment.\\nOpportunity to approach newest technology trends\\nCompany’s labor policy completely pursuant to Vietnamese labor legislation plus other benefits offered by the company (Company trip, Holiday, etc.)'],\n",
       " ['- Tương tác với khối siêu thị, ngành hàng để nắm bắt và xử lý các vấn đề liên quan đến dự báo mua chia hàng hoá.\\n- Xử lý số liệu và tính toán, đảm bảo công tác dự báo mua chia hàng ngày hợp lý.\\n- Hỗ trợ xây dựng, điều chỉnh và quản lý vận hành các công cụ/báo cáo hệ thống liên quan đến forecast mua chia hàng hoá.\\n- Tối ưu các công thức liên quan đến forecast và mua chia.\\n- Theo dõi biến động data hằng ngày và thông báo với cấp trên các sự kiện rủi ro ảnh hướng đến tình hình hàng hoá.\\n- Các công việc liên quan đến vận hành forecast mua chia theo yêu cầu cấp trên.',\n",
       "  '- Tốt nghiệp các trường Cao Đẳng, Đại học liên quan đến Toán Tin, Kinh Tế, Tài Chính, Kinh Doanh\\n- Có kinh nghiệm từ 1  năm trở lên trong lĩnh vực Xử lý số liệu, Data Analyst, Data Science,…\\n- Sử dụng tốt Excel, các công cụ hỗ trợ phân tích số liệu…\\n- Tư duy logic, phân tích vấn đề, có khả năng giao tiếp tốt với các phòng ban.',\n",
       "  'Thử việc: Tối đa 2 tháng\\nThời gian làm việc: Thứ 2 đến Thứ 6 (8h -17h) - Thứ 7 Linh hoạt theo tình hình công việc\\nCơ hội huấn luyện:\\n- Tham gia vào các lớp huấn luyện kỹ năng mềm của đội ngũ Trainers dày dặn kinh nghiệm của công ty.\\n- Được đào tạo và định hướng từ các cấp Trưởng Phòng dày dặn kinh nghiệm trong lĩnh vực Bán Lẻ Bán Sĩ.\\nĐồng nghiệp:\\nThân thiện vui vẻ, luôn lấy mục tiêu và kết quả công việc là định hướng phát triển.\\nXây dựng văn hoá theo phương pháp Cross-Functional - lấy sự học hỏi lẫn nhau là phương châm phát triển.\\nPhúc lợi: Chính sách thưởng đa dạng theo cấp bậc và thâm niên.'],\n",
       " ['1. Hỗ trợ các phòng ban thiết lập và theo dõi các chỉ tiêu (Tỷ trọng: 40%)\\n- Tham gia xây dựng chỉ tiêu kế hoạch cho các phòng ban.\\n- Đánh giá việc thực hiện kế hoạch kinh doanh của hệ thống toàn quốc và đưa ra các cảnh báo kịp thời cho các phòng ban\\n- Cung cấp dữ liệu theo ngày/tuần/tháng/quý/năm của hệ thống kinh doanh cho các phòng ban và các chức danh liên quan.\\n- Tham gia xây dựng KPIs các chức danh trong hệ thống bán lẻ và theo dõi KPIs của các chức danh nhằm cảnh báo cho CEO\\n- Tham gia xây dựng và kiểm soát các quy trình làm việc.\\n- Theo dõi và kiểm soát chi phí và lợi nhuận của các phòng ban.\\n\\n2. Thực hiện báo cáo (Tỷ trọng:30%)\\n- Thực hiện các báo cáo định kỳ/ đột xuất theo tháng/quý/năm của các phòng ban hoặc theo yêu cầu của Ban giám đốc.\\n\\n3. Tổng hợp, phân tích và để xuất (Tỷ trọng:30%)\\n- Đề xuất các chương trình thúc đẩy doanh thu và các chương trình chăm sóc khách hàng.\\n- Thu thập thông tin, phân tích, báo cáo thị trường và đối thủ cạnh tranh và đề xuất đối sách phù hợp.\\n- Đề xuất/giải pháp có tác động làm giảm chi phí hoạt động của hệ thống bán lẻ\\n- Phân tích các yếu tố tác động đến việc gia tăng thị phần trong kênh bán lẻ.\\n- Theo dõi xu hướng mẫu của thị trường nhằm cung cấp thông tin về mẫu đối với xu hướng thiết kế của Công ty, thông tin về sản phẩm của đối thủ cạnh tranh trong khu vực.',\n",
       "  '- Tối thiểu 3 năm kinh nghiệm vị trí tương đương\\n- Kỹ năng công việc: Thành thạo vi tính văn phòng (MS outlook, Excel, Word, Power Point), nắm rõ các yêu cầu vận hành của hệ thống quản lý thông tin trên hệ thống dữ liệu của công ty.\\n- Kỹ năng dự báo và phân tích thị trường (khách hàng, đối thủ, kinh tế, ..)\\n- Kỹ năng lập kế hoạch kinh doanh\\n- Kỹ năng tổ chức triển khai công việc\\n- Kỹ năng kiểm soát công việc\\n- Dịch vụ khách hàng (xử lý khiếu nại và các tình huống khác tại cửa hàng)',\n",
       "  '* Quyền lợi:\\n- Thời gian làm việc: 08:00 - 17:00, nghỉ trưa 1 tiếng từ thứ 2 - sáng thứ 7\\n- Tham gia BHXH đầy đủ theo quy định\\n- Lương tháng 13, thưởng cuối năm x2,x3\\n- Một năm xét tăng lương một lần\\n- Teambuilding hàng năm\\n- Cơ hội thăng tiến.'],\n",
       " ['- Thu thập dữ liệu, phân tích dữ liệu cho hệ sinh thái phục vụ công tác bán hàng.\\n- Quản trị cơ sở dữ liệu được phân quyền.\\n- Tiếp nhận yêu cầu và xử lý các sự cố trong quá trình sử dụng phần mềm liên quan đến công cụ BI và phân tích dữ liệu;\\n- Hỗ trợ thực hiện các đề nghị truy xuất thông tin từ hệ thống để phục vụ công tác kiểm tra, báo cáo của các phòng ban theo định kỳ và đột xuất.\\n- Đề xuất, soạn thảo và giám sát việc tuân thủ các qui định/chính sách liên quan đến việc áp dụng hệ thống, ứng dụng vào phục vụ hoạt động kinh doanh.\\n- Khảo sát, phân tích và tư vấn quy trình nghiệp vụ, quy trình quản lý vận hành trên hệ thống quản lý phân phối, chăm sóc khách hàng…\\n- Triển khai thực hiện các nội dung kế hoạch phát triển hệ thống, ứng dụng được phê duyệt.\\n- Lập thủ tục đấu thầu, triển khai mua sắm và đánh giá các gói thầu CNTT phục vụ cho hoạt động của khối kinh doanh\\n- Nghiên cứu, đề xuất, xây dựng các giải pháp phần mềm, ứng dụng mới \\n- Quản lý tiết kiệm và sử dụng có hiệu quả nguồn nhân lực, cơ sở vật chất, cơ sở dữ liệu, bản quyền phần mềm và các phương tiện, trang thiết bị được giao.\\n- Thực hiện các nhiệm vụ khác do Lãnh đạo phân công.',\n",
       "  '- Tốt nghiệp Đại học các ngành liên quan đến lĩnh vực Công nghệ thông tin; Hệ thống thông tin; QTKD. Tiếng Anh giao tiếp tốt; Sử dụng thành thạo vi tính văn phòng;\\n- Tối thiểu 02 năm kinh nghiệm trong lĩnh vực phân phối hàng hóa, sản phẩm (bao gồm cả triển khai và vận hành hệ thống);\\n- Kỹ năng tổ chức, quản lý và làm việc nhóm. Tinh thần, trách nhiệm và có khả năng làm việc dưới môi trường nhiều áp lực, liên tục thay đổi. Có khả năng đi công tác thường xuyên.',\n",
       "  '- Ứng viên trúng tuyển sẽ làm việc tại TP.Hồ Chí Minh;\\n- Được làm việc trong môi trường năng động, chuyên nghiệp, có nhiều cơ hội thăng tiến;\\n- Được tham gia các dự án lớn của ngành dầu khí, được tham dự các khóa học bồi dưỡng nâng cao chuyên môn nghiệp vụ và kỹ năng quản lý;\\n- Được tham gia các khóa đào tạo về Văn hóa doanh nghiệp của Công ty và chương trình Bảy thói quen hiệu quả (7 Habits) …;\\n- Được tham gia bảo hiểm xã hội, bảo hiểm y tế, bảo hiểm thất nghiệp theo quy định của nhà nước và được hưởng các chế độ chính sách phúc lợi khác của Công ty;\\n- Hưởng mức lương và phụ cấp hấp dẫn tương xứng với năng lực của bản thân.'],\n",
       " ['- Use statistical methods to analyze data and generate useful business reports.\\n- Work with product and management team to create a prioritized list of needs for each business segment.\\n- Identify and recommend new ways to save cost by streamlining business processes.\\n- Use data to create models that depict trends, anomalies in the customer base and the consumer population as a whole.\\n- Developing and implementing data analyses, data collection systems and other strategies that optimize statistical efficiency and quality.\\n- Acquiring data from primary or secondary data sources and maintaining databases.\\n- Work with departmental managers to outline the specific data needs for each business method analysis project.\\n- Write research reports to transfer knowledge.\\n- Collaborate and work effectively with multiple internal teams (creative design, marketing, product) to understand and help them figure out insight from data.',\n",
       "  '- BS or Master in Mathematics, Economics, Computer Science, Information Management or Statistics.\\n- Ability to collaborate effectively and work as part of a team.\\n- Strong attention to detail.\\n- Proven working experience as a data analyst or business data analyst (1+ years’ Data mining experience or 1+ years in a data analyst role).\\n- Technical expertise regarding data models, database design development, data mining, and segmentation techniques.\\n- Strong knowledge of and experience with reporting packages (matplotlib/seaborn, ggplot...) and other visualization tools (Tableau, DataStudio, Looker…).\\n- Knowledge of statistics and experience using statistical packages for analyzing datasets (statsmodels, SciPy,... ).\\n- Strong analytical skills with the ability to collect, organize, analyze, and disseminate significant amounts of information with attention to detail and accuracy.\\n- Demonstrated experience in handling large data sets and relational databases.\\n- Adept at queries, report writing and presenting findings.',\n",
       "  '- Working time: from Monday to Friday\\n- Health care insurance and social insurance.\\n- Performance based bonus\\n- Training courses (but at the Company’s sole discretion).\\n- Strong learning environment.']]"
      ]
     },
     "execution_count": 29,
     "metadata": {},
     "output_type": "execute_result"
    }
   ],
   "source": [
    "all_jd[:5]"
   ]
  },
  {
   "cell_type": "markdown",
   "id": "2dfde693",
   "metadata": {},
   "source": [
    "## Save data:"
   ]
  },
  {
   "cell_type": "code",
   "execution_count": 30,
   "id": "27d353fc",
   "metadata": {},
   "outputs": [
    {
     "data": {
      "text/html": [
       "<div>\n",
       "<style scoped>\n",
       "    .dataframe tbody tr th:only-of-type {\n",
       "        vertical-align: middle;\n",
       "    }\n",
       "\n",
       "    .dataframe tbody tr th {\n",
       "        vertical-align: top;\n",
       "    }\n",
       "\n",
       "    .dataframe thead th {\n",
       "        text-align: right;\n",
       "    }\n",
       "</style>\n",
       "<table border=\"1\" class=\"dataframe\">\n",
       "  <thead>\n",
       "    <tr style=\"text-align: right;\">\n",
       "      <th></th>\n",
       "      <th>Mức lương</th>\n",
       "      <th>Số lượng tuyển</th>\n",
       "      <th>Hình thức làm việc</th>\n",
       "      <th>Cấp bậc</th>\n",
       "      <th>Giới tính</th>\n",
       "      <th>Kinh nghiệm</th>\n",
       "    </tr>\n",
       "  </thead>\n",
       "  <tbody>\n",
       "    <tr>\n",
       "      <th>0</th>\n",
       "      <td>25-35 triệu</td>\n",
       "      <td>1 người</td>\n",
       "      <td>Toàn thời gian</td>\n",
       "      <td>Nhân viên</td>\n",
       "      <td>Không yêu cầu</td>\n",
       "      <td>2 năm</td>\n",
       "    </tr>\n",
       "    <tr>\n",
       "      <th>1</th>\n",
       "      <td>Thoả thuận</td>\n",
       "      <td>1 người</td>\n",
       "      <td>Toàn thời gian</td>\n",
       "      <td>Nhân viên</td>\n",
       "      <td>Không yêu cầu</td>\n",
       "      <td>1 năm</td>\n",
       "    </tr>\n",
       "    <tr>\n",
       "      <th>2</th>\n",
       "      <td>35-45 triệu</td>\n",
       "      <td>1 người</td>\n",
       "      <td>Toàn thời gian</td>\n",
       "      <td>Nhân viên</td>\n",
       "      <td>Không yêu cầu</td>\n",
       "      <td>3 năm</td>\n",
       "    </tr>\n",
       "    <tr>\n",
       "      <th>3</th>\n",
       "      <td>Thoả thuận</td>\n",
       "      <td>1 người</td>\n",
       "      <td>Toàn thời gian</td>\n",
       "      <td>Nhân viên</td>\n",
       "      <td>Không yêu cầu</td>\n",
       "      <td>2 năm</td>\n",
       "    </tr>\n",
       "    <tr>\n",
       "      <th>4</th>\n",
       "      <td>10-15 triệu</td>\n",
       "      <td>2 người</td>\n",
       "      <td>Toàn thời gian</td>\n",
       "      <td>Nhân viên</td>\n",
       "      <td>Không yêu cầu</td>\n",
       "      <td>1 năm</td>\n",
       "    </tr>\n",
       "  </tbody>\n",
       "</table>\n",
       "</div>"
      ],
      "text/plain": [
       "     Mức lương Số lượng tuyển Hình thức làm việc    Cấp bậc      Giới tính  \\\n",
       "0  25-35 triệu        1 người     Toàn thời gian  Nhân viên  Không yêu cầu   \n",
       "1   Thoả thuận        1 người     Toàn thời gian  Nhân viên  Không yêu cầu   \n",
       "2  35-45 triệu        1 người     Toàn thời gian  Nhân viên  Không yêu cầu   \n",
       "3   Thoả thuận        1 người     Toàn thời gian  Nhân viên  Không yêu cầu   \n",
       "4  10-15 triệu        2 người     Toàn thời gian  Nhân viên  Không yêu cầu   \n",
       "\n",
       "  Kinh nghiệm  \n",
       "0       2 năm  \n",
       "1       1 năm  \n",
       "2       3 năm  \n",
       "3       2 năm  \n",
       "4       1 năm  "
      ]
     },
     "execution_count": 30,
     "metadata": {},
     "output_type": "execute_result"
    }
   ],
   "source": [
    "df = pd.DataFrame(sm_info[1])\n",
    "df[:5]"
   ]
  },
  {
   "cell_type": "code",
   "execution_count": 31,
   "id": "8d96e338",
   "metadata": {},
   "outputs": [],
   "source": [
    "company = sm_info[0]\n",
    "df['Company'] = pd.Series(company)"
   ]
  },
  {
   "cell_type": "code",
   "execution_count": 32,
   "id": "eadae97f",
   "metadata": {},
   "outputs": [],
   "source": [
    "first_column = df.pop('Company')\n",
    "df.insert(0, 'Company', first_column)"
   ]
  },
  {
   "cell_type": "code",
   "execution_count": 33,
   "id": "4cbb3aad",
   "metadata": {},
   "outputs": [],
   "source": [
    "df['Title'] = pd.Series(tt_job)\n",
    "nd_column = df.pop('Title')\n",
    "df.insert(1, 'Title', nd_column)"
   ]
  },
  {
   "cell_type": "code",
   "execution_count": 34,
   "id": "70ae8d35",
   "metadata": {},
   "outputs": [],
   "source": [
    "df['Links'] = pd.Series(job_link)"
   ]
  },
  {
   "cell_type": "code",
   "execution_count": 35,
   "id": "eb2158ae",
   "metadata": {},
   "outputs": [
    {
     "data": {
      "text/html": [
       "<div>\n",
       "<style scoped>\n",
       "    .dataframe tbody tr th:only-of-type {\n",
       "        vertical-align: middle;\n",
       "    }\n",
       "\n",
       "    .dataframe tbody tr th {\n",
       "        vertical-align: top;\n",
       "    }\n",
       "\n",
       "    .dataframe thead th {\n",
       "        text-align: right;\n",
       "    }\n",
       "</style>\n",
       "<table border=\"1\" class=\"dataframe\">\n",
       "  <thead>\n",
       "    <tr style=\"text-align: right;\">\n",
       "      <th></th>\n",
       "      <th>Company</th>\n",
       "      <th>Title</th>\n",
       "      <th>Mức lương</th>\n",
       "      <th>Số lượng tuyển</th>\n",
       "      <th>Hình thức làm việc</th>\n",
       "      <th>Cấp bậc</th>\n",
       "      <th>Giới tính</th>\n",
       "      <th>Kinh nghiệm</th>\n",
       "      <th>Links</th>\n",
       "    </tr>\n",
       "  </thead>\n",
       "  <tbody>\n",
       "    <tr>\n",
       "      <th>0</th>\n",
       "      <td>CÔNG TY TNHH PHẦN MỀM ALLIANCE</td>\n",
       "      <td>Data Analyst</td>\n",
       "      <td>25-35 triệu</td>\n",
       "      <td>1 người</td>\n",
       "      <td>Toàn thời gian</td>\n",
       "      <td>Nhân viên</td>\n",
       "      <td>Không yêu cầu</td>\n",
       "      <td>2 năm</td>\n",
       "      <td>https://www.topcv.vn/viec-lam/data-analyst/842...</td>\n",
       "    </tr>\n",
       "    <tr>\n",
       "      <th>1</th>\n",
       "      <td>Công ty CP Thế giới Di Động</td>\n",
       "      <td>Data Analyst</td>\n",
       "      <td>Thoả thuận</td>\n",
       "      <td>1 người</td>\n",
       "      <td>Toàn thời gian</td>\n",
       "      <td>Nhân viên</td>\n",
       "      <td>Không yêu cầu</td>\n",
       "      <td>1 năm</td>\n",
       "      <td>https://www.topcv.vn/viec-lam/data-analyst/847...</td>\n",
       "    </tr>\n",
       "    <tr>\n",
       "      <th>2</th>\n",
       "      <td>CÔNG TY TNHH XUẤT NHẬP KHẨU PHÁT TRIỂN ĐÔNG DƯ...</td>\n",
       "      <td>Chuyên Viên Phân Tích Thống Kê ( (Data Analyst)</td>\n",
       "      <td>35-45 triệu</td>\n",
       "      <td>1 người</td>\n",
       "      <td>Toàn thời gian</td>\n",
       "      <td>Nhân viên</td>\n",
       "      <td>Không yêu cầu</td>\n",
       "      <td>3 năm</td>\n",
       "      <td>https://www.topcv.vn/brand/xnkphattriendongduo...</td>\n",
       "    </tr>\n",
       "    <tr>\n",
       "      <th>3</th>\n",
       "      <td>Công ty cổ phần Phân bón Dầu khí Cà Mau</td>\n",
       "      <td>Chuyên Viên Data Analyst</td>\n",
       "      <td>Thoả thuận</td>\n",
       "      <td>1 người</td>\n",
       "      <td>Toàn thời gian</td>\n",
       "      <td>Nhân viên</td>\n",
       "      <td>Không yêu cầu</td>\n",
       "      <td>2 năm</td>\n",
       "      <td>https://www.topcv.vn/viec-lam/chuyen-vien-data...</td>\n",
       "    </tr>\n",
       "    <tr>\n",
       "      <th>4</th>\n",
       "      <td>CÔNG TY TNHH PUZZLE STUDIO</td>\n",
       "      <td>Data Analyst</td>\n",
       "      <td>10-15 triệu</td>\n",
       "      <td>2 người</td>\n",
       "      <td>Toàn thời gian</td>\n",
       "      <td>Nhân viên</td>\n",
       "      <td>Không yêu cầu</td>\n",
       "      <td>1 năm</td>\n",
       "      <td>https://www.topcv.vn/viec-lam/data-analyst/468...</td>\n",
       "    </tr>\n",
       "  </tbody>\n",
       "</table>\n",
       "</div>"
      ],
      "text/plain": [
       "                                             Company  \\\n",
       "0                     CÔNG TY TNHH PHẦN MỀM ALLIANCE   \n",
       "1                        Công ty CP Thế giới Di Động   \n",
       "2  CÔNG TY TNHH XUẤT NHẬP KHẨU PHÁT TRIỂN ĐÔNG DƯ...   \n",
       "3            Công ty cổ phần Phân bón Dầu khí Cà Mau   \n",
       "4                         CÔNG TY TNHH PUZZLE STUDIO   \n",
       "\n",
       "                                             Title    Mức lương  \\\n",
       "0                                     Data Analyst  25-35 triệu   \n",
       "1                                     Data Analyst   Thoả thuận   \n",
       "2  Chuyên Viên Phân Tích Thống Kê ( (Data Analyst)  35-45 triệu   \n",
       "3                         Chuyên Viên Data Analyst   Thoả thuận   \n",
       "4                                     Data Analyst  10-15 triệu   \n",
       "\n",
       "  Số lượng tuyển Hình thức làm việc    Cấp bậc      Giới tính Kinh nghiệm  \\\n",
       "0        1 người     Toàn thời gian  Nhân viên  Không yêu cầu       2 năm   \n",
       "1        1 người     Toàn thời gian  Nhân viên  Không yêu cầu       1 năm   \n",
       "2        1 người     Toàn thời gian  Nhân viên  Không yêu cầu       3 năm   \n",
       "3        1 người     Toàn thời gian  Nhân viên  Không yêu cầu       2 năm   \n",
       "4        2 người     Toàn thời gian  Nhân viên  Không yêu cầu       1 năm   \n",
       "\n",
       "                                               Links  \n",
       "0  https://www.topcv.vn/viec-lam/data-analyst/842...  \n",
       "1  https://www.topcv.vn/viec-lam/data-analyst/847...  \n",
       "2  https://www.topcv.vn/brand/xnkphattriendongduo...  \n",
       "3  https://www.topcv.vn/viec-lam/chuyen-vien-data...  \n",
       "4  https://www.topcv.vn/viec-lam/data-analyst/468...  "
      ]
     },
     "execution_count": 35,
     "metadata": {},
     "output_type": "execute_result"
    }
   ],
   "source": [
    "df[:5]"
   ]
  },
  {
   "cell_type": "code",
   "execution_count": 36,
   "id": "87965abd",
   "metadata": {},
   "outputs": [],
   "source": [
    "df.to_csv('data_topcv.csv', sep=',', encoding='utf-8',index=False)"
   ]
  },
  {
   "cell_type": "code",
   "execution_count": 37,
   "id": "2b97f9b9",
   "metadata": {},
   "outputs": [],
   "source": [
    "## save jd to csv:\n",
    "des = []\n",
    "re = []\n",
    "be = []\n",
    "for i in range(len(all_jd)):\n",
    "    e_des = all_jd[i][0]\n",
    "    des.append(e_des)\n",
    "    e_re = all_jd[i][1]\n",
    "    re.append(e_re)\n",
    "    e_be = all_jd[i][2]\n",
    "    be.append(e_be)\n"
   ]
  },
  {
   "cell_type": "code",
   "execution_count": 38,
   "id": "2e880169",
   "metadata": {},
   "outputs": [
    {
     "ename": "TypeError",
     "evalue": "unhashable type: 'slice'",
     "output_type": "error",
     "traceback": [
      "\u001b[1;31m---------------------------------------------------------------------------\u001b[0m",
      "\u001b[1;31mTypeError\u001b[0m                                 Traceback (most recent call last)",
      "Input \u001b[1;32mIn [38]\u001b[0m, in \u001b[0;36m<cell line: 2>\u001b[1;34m()\u001b[0m\n\u001b[0;32m      1\u001b[0m \u001b[38;5;28mdict\u001b[39m \u001b[38;5;241m=\u001b[39m {\u001b[38;5;124m'\u001b[39m\u001b[38;5;124mCompany\u001b[39m\u001b[38;5;124m'\u001b[39m: company, \u001b[38;5;124m'\u001b[39m\u001b[38;5;124mTitle\u001b[39m\u001b[38;5;124m'\u001b[39m : tt_job, \u001b[38;5;124m'\u001b[39m\u001b[38;5;124mDescription\u001b[39m\u001b[38;5;124m'\u001b[39m: des, \u001b[38;5;124m'\u001b[39m\u001b[38;5;124mRequired\u001b[39m\u001b[38;5;124m'\u001b[39m: re,\u001b[38;5;124m'\u001b[39m\u001b[38;5;124mBenifits\u001b[39m\u001b[38;5;124m'\u001b[39m: be}\n\u001b[1;32m----> 2\u001b[0m \u001b[38;5;28;43mdict\u001b[39;49m\u001b[43m[\u001b[49m\u001b[43m:\u001b[49m\u001b[38;5;241;43m5\u001b[39;49m\u001b[43m]\u001b[49m\n",
      "\u001b[1;31mTypeError\u001b[0m: unhashable type: 'slice'"
     ]
    }
   ],
   "source": [
    "dict = {'Company': company, 'Title' : tt_job, 'Description': des, 'Required': re,'Benifits': be}\n",
    "dict[:5]"
   ]
  },
  {
   "cell_type": "code",
   "execution_count": null,
   "id": "cfde5b13",
   "metadata": {},
   "outputs": [],
   "source": [
    "df_jd = pd.DataFrame(dict)\n",
    "df_jd[:5]"
   ]
  },
  {
   "cell_type": "code",
   "execution_count": null,
   "id": "a8f5acfa",
   "metadata": {},
   "outputs": [],
   "source": [
    "df_jd.to_csv('jd_topcv.csv', sep=',', encoding='utf-8',index=False)"
   ]
  },
  {
   "cell_type": "code",
   "execution_count": null,
   "id": "ec15893e",
   "metadata": {},
   "outputs": [],
   "source": []
  }
 ],
 "metadata": {
  "kernelspec": {
   "display_name": "Python 3 (ipykernel)",
   "language": "python",
   "name": "python3"
  },
  "language_info": {
   "codemirror_mode": {
    "name": "ipython",
    "version": 3
   },
   "file_extension": ".py",
   "mimetype": "text/x-python",
   "name": "python",
   "nbconvert_exporter": "python",
   "pygments_lexer": "ipython3",
   "version": "3.10.5"
  }
 },
 "nbformat": 4,
 "nbformat_minor": 5
}
