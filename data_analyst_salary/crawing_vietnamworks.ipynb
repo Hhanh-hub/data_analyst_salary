{
 "cells": [
  {
   "cell_type": "code",
   "execution_count": 1,
   "id": "b26f1793",
   "metadata": {},
   "outputs": [],
   "source": [
    "import pandas as pd\n",
    "import numpy as np\n",
    "from matplotlib import pyplot as plt\n",
    "import seaborn as sns\n",
    "from selenium import webdriver\n",
    "from selenium.webdriver.common.by import By\n",
    "from selenium.webdriver.common.keys import Keys\n",
    "import time"
   ]
  },
  {
   "cell_type": "code",
   "execution_count": 17,
   "id": "bd0cbfcf",
   "metadata": {},
   "outputs": [],
   "source": [
    "# data scientist\n",
    "from selenium import webdriver\n",
    "#create new Chrome browser object\n",
    "driver_vnw = webdriver.Chrome()\n",
    "link_page = 'https://www.vietnamworks.com/Data-Analyst+tai-ho-chi-minh-v29-vn'\n",
    "page_respone = driver_vnw.get(link_page)"
   ]
  },
  {
   "cell_type": "code",
   "execution_count": 18,
   "id": "c71785a0",
   "metadata": {},
   "outputs": [
    {
     "ename": "StaleElementReferenceException",
     "evalue": "Message: stale element reference: element is not attached to the page document\n  (Session info: chrome=106.0.5249.119)\n",
     "output_type": "error",
     "traceback": [
      "\u001b[1;31m---------------------------------------------------------------------------\u001b[0m",
      "\u001b[1;31mStaleElementReferenceException\u001b[0m            Traceback (most recent call last)",
      "Input \u001b[1;32mIn [18]\u001b[0m, in \u001b[0;36m<cell line: 15>\u001b[1;34m()\u001b[0m\n\u001b[0;32m     13\u001b[0m     \u001b[38;5;28mprint\u001b[39m(\u001b[38;5;124m'\u001b[39m\u001b[38;5;124mAll page for searching: \u001b[39m\u001b[38;5;124m'\u001b[39m,\u001b[38;5;28mlen\u001b[39m(pages))\n\u001b[0;32m     14\u001b[0m link_page \u001b[38;5;241m=\u001b[39m \u001b[38;5;124m'\u001b[39m\u001b[38;5;124mhttps://www.vietnamworks.com/Data-Analyst+tai-ho-chi-minh-v29-vn\u001b[39m\u001b[38;5;124m'\u001b[39m\n\u001b[1;32m---> 15\u001b[0m \u001b[43mget_page_vnw\u001b[49m\u001b[43m(\u001b[49m\u001b[43mlink_page\u001b[49m\u001b[43m)\u001b[49m\n",
      "Input \u001b[1;32mIn [18]\u001b[0m, in \u001b[0;36mget_page_vnw\u001b[1;34m(link)\u001b[0m\n\u001b[0;32m      8\u001b[0m time\u001b[38;5;241m.\u001b[39msleep(\u001b[38;5;241m1\u001b[39m) \n\u001b[0;32m      9\u001b[0m pages \u001b[38;5;241m=\u001b[39m []\n\u001b[1;32m---> 10\u001b[0m pages \u001b[38;5;241m=\u001b[39m [x\u001b[38;5;241m.\u001b[39mclick() \u001b[38;5;28;01mfor\u001b[39;00m x \u001b[38;5;129;01min\u001b[39;00m page_links_elements]\n\u001b[0;32m     11\u001b[0m \u001b[38;5;28mprint\u001b[39m(pages)\n\u001b[0;32m     13\u001b[0m \u001b[38;5;28mprint\u001b[39m(\u001b[38;5;124m'\u001b[39m\u001b[38;5;124mAll page for searching: \u001b[39m\u001b[38;5;124m'\u001b[39m,\u001b[38;5;28mlen\u001b[39m(pages))\n",
      "Input \u001b[1;32mIn [18]\u001b[0m, in \u001b[0;36m<listcomp>\u001b[1;34m(.0)\u001b[0m\n\u001b[0;32m      8\u001b[0m time\u001b[38;5;241m.\u001b[39msleep(\u001b[38;5;241m1\u001b[39m) \n\u001b[0;32m      9\u001b[0m pages \u001b[38;5;241m=\u001b[39m []\n\u001b[1;32m---> 10\u001b[0m pages \u001b[38;5;241m=\u001b[39m [\u001b[43mx\u001b[49m\u001b[38;5;241;43m.\u001b[39;49m\u001b[43mclick\u001b[49m\u001b[43m(\u001b[49m\u001b[43m)\u001b[49m \u001b[38;5;28;01mfor\u001b[39;00m x \u001b[38;5;129;01min\u001b[39;00m page_links_elements]\n\u001b[0;32m     11\u001b[0m \u001b[38;5;28mprint\u001b[39m(pages)\n\u001b[0;32m     13\u001b[0m \u001b[38;5;28mprint\u001b[39m(\u001b[38;5;124m'\u001b[39m\u001b[38;5;124mAll page for searching: \u001b[39m\u001b[38;5;124m'\u001b[39m,\u001b[38;5;28mlen\u001b[39m(pages))\n",
      "File \u001b[1;32m~\\AppData\\Local\\Programs\\Python\\Python310\\lib\\site-packages\\selenium\\webdriver\\remote\\webelement.py:80\u001b[0m, in \u001b[0;36mWebElement.click\u001b[1;34m(self)\u001b[0m\n\u001b[0;32m     78\u001b[0m \u001b[38;5;28;01mdef\u001b[39;00m \u001b[38;5;21mclick\u001b[39m(\u001b[38;5;28mself\u001b[39m):\n\u001b[0;32m     79\u001b[0m     \u001b[38;5;124;03m\"\"\"Clicks the element.\"\"\"\u001b[39;00m\n\u001b[1;32m---> 80\u001b[0m     \u001b[38;5;28;43mself\u001b[39;49m\u001b[38;5;241;43m.\u001b[39;49m\u001b[43m_execute\u001b[49m\u001b[43m(\u001b[49m\u001b[43mCommand\u001b[49m\u001b[38;5;241;43m.\u001b[39;49m\u001b[43mCLICK_ELEMENT\u001b[49m\u001b[43m)\u001b[49m\n",
      "File \u001b[1;32m~\\AppData\\Local\\Programs\\Python\\Python310\\lib\\site-packages\\selenium\\webdriver\\remote\\webelement.py:633\u001b[0m, in \u001b[0;36mWebElement._execute\u001b[1;34m(self, command, params)\u001b[0m\n\u001b[0;32m    631\u001b[0m     params \u001b[38;5;241m=\u001b[39m {}\n\u001b[0;32m    632\u001b[0m params[\u001b[38;5;124m'\u001b[39m\u001b[38;5;124mid\u001b[39m\u001b[38;5;124m'\u001b[39m] \u001b[38;5;241m=\u001b[39m \u001b[38;5;28mself\u001b[39m\u001b[38;5;241m.\u001b[39m_id\n\u001b[1;32m--> 633\u001b[0m \u001b[38;5;28;01mreturn\u001b[39;00m \u001b[38;5;28;43mself\u001b[39;49m\u001b[38;5;241;43m.\u001b[39;49m\u001b[43m_parent\u001b[49m\u001b[38;5;241;43m.\u001b[39;49m\u001b[43mexecute\u001b[49m\u001b[43m(\u001b[49m\u001b[43mcommand\u001b[49m\u001b[43m,\u001b[49m\u001b[43m \u001b[49m\u001b[43mparams\u001b[49m\u001b[43m)\u001b[49m\n",
      "File \u001b[1;32m~\\AppData\\Local\\Programs\\Python\\Python310\\lib\\site-packages\\selenium\\webdriver\\remote\\webdriver.py:321\u001b[0m, in \u001b[0;36mWebDriver.execute\u001b[1;34m(self, driver_command, params)\u001b[0m\n\u001b[0;32m    319\u001b[0m response \u001b[38;5;241m=\u001b[39m \u001b[38;5;28mself\u001b[39m\u001b[38;5;241m.\u001b[39mcommand_executor\u001b[38;5;241m.\u001b[39mexecute(driver_command, params)\n\u001b[0;32m    320\u001b[0m \u001b[38;5;28;01mif\u001b[39;00m response:\n\u001b[1;32m--> 321\u001b[0m     \u001b[38;5;28;43mself\u001b[39;49m\u001b[38;5;241;43m.\u001b[39;49m\u001b[43merror_handler\u001b[49m\u001b[38;5;241;43m.\u001b[39;49m\u001b[43mcheck_response\u001b[49m\u001b[43m(\u001b[49m\u001b[43mresponse\u001b[49m\u001b[43m)\u001b[49m\n\u001b[0;32m    322\u001b[0m     response[\u001b[38;5;124m'\u001b[39m\u001b[38;5;124mvalue\u001b[39m\u001b[38;5;124m'\u001b[39m] \u001b[38;5;241m=\u001b[39m \u001b[38;5;28mself\u001b[39m\u001b[38;5;241m.\u001b[39m_unwrap_value(\n\u001b[0;32m    323\u001b[0m         response\u001b[38;5;241m.\u001b[39mget(\u001b[38;5;124m'\u001b[39m\u001b[38;5;124mvalue\u001b[39m\u001b[38;5;124m'\u001b[39m, \u001b[38;5;28;01mNone\u001b[39;00m))\n\u001b[0;32m    324\u001b[0m     \u001b[38;5;28;01mreturn\u001b[39;00m response\n",
      "File \u001b[1;32m~\\AppData\\Local\\Programs\\Python\\Python310\\lib\\site-packages\\selenium\\webdriver\\remote\\errorhandler.py:242\u001b[0m, in \u001b[0;36mErrorHandler.check_response\u001b[1;34m(self, response)\u001b[0m\n\u001b[0;32m    240\u001b[0m         alert_text \u001b[38;5;241m=\u001b[39m value[\u001b[38;5;124m'\u001b[39m\u001b[38;5;124malert\u001b[39m\u001b[38;5;124m'\u001b[39m]\u001b[38;5;241m.\u001b[39mget(\u001b[38;5;124m'\u001b[39m\u001b[38;5;124mtext\u001b[39m\u001b[38;5;124m'\u001b[39m)\n\u001b[0;32m    241\u001b[0m     \u001b[38;5;28;01mraise\u001b[39;00m exception_class(message, screen, stacktrace, alert_text)\n\u001b[1;32m--> 242\u001b[0m \u001b[38;5;28;01mraise\u001b[39;00m exception_class(message, screen, stacktrace)\n",
      "\u001b[1;31mStaleElementReferenceException\u001b[0m: Message: stale element reference: element is not attached to the page document\n  (Session info: chrome=106.0.5249.119)\n"
     ]
    }
   ],
   "source": [
    "#get all links page:\n",
    "import time\n",
    "def get_page_vnw(link):\n",
    "    #data_analyst vieclam24h\n",
    "    driver_page = webdriver.Chrome()\n",
    "    page_respone = driver_page.get(link)\n",
    "    page_links_elements = driver_page.find_elements_by_xpath('*//a[@class = \"page-link\"]')\n",
    "    time.sleep(1) \n",
    "    pages = []\n",
    "    pages = [x.click() for x in page_links_elements]\n",
    "    print(pages)\n",
    "    \n",
    "    print('All page for searching: ',len(pages))\n",
    "link_page = 'https://www.vietnamworks.com/Data-Analyst+tai-ho-chi-minh-v29-vn'\n",
    "get_page_vnw(link_page)"
   ]
  },
  {
   "cell_type": "code",
   "execution_count": null,
   "id": "ae573f96",
   "metadata": {},
   "outputs": [],
   "source": []
  },
  {
   "cell_type": "code",
   "execution_count": null,
   "id": "cff46aa2",
   "metadata": {},
   "outputs": [],
   "source": []
  },
  {
   "cell_type": "code",
   "execution_count": null,
   "id": "477befa8",
   "metadata": {},
   "outputs": [],
   "source": []
  },
  {
   "cell_type": "code",
   "execution_count": 15,
   "id": "e5dc5e09",
   "metadata": {},
   "outputs": [
    {
     "name": "stdout",
     "output_type": "stream",
     "text": [
      "0\n"
     ]
    }
   ],
   "source": [
    "# ##INPUT JOB TITLE\n",
    "# #select class name where is input box are present\n",
    "# element = driver_vnw.find_elements(By.CLASS_NAME, \"sc-cCsOjp jGKeAu  class-input-recommend\")\n",
    "\n",
    "# find number of input box\n",
    "# print(len(element))\n",
    "# # fill value in input box\n",
    "# driver_vnw.find_element_by_xpath('//*[@placeholder=\"Tìm kiếm việc làm, công ty, kỹ năng\"]').send_keys(\"data analyst\")\n",
    "# # check status\n",
    "# x = driver_vnw.find_element_by_xpath('//*[@placeholder=\"Tìm kiếm việc làm, công ty, kỹ năng\"]').is_displayed()\n",
    "# print(x)"
   ]
  },
  {
   "cell_type": "code",
   "execution_count": 28,
   "id": "8932ef24",
   "metadata": {},
   "outputs": [
    {
     "ename": "ElementClickInterceptedException",
     "evalue": "Message: element click intercepted: Element <div data-id=\"search-bar\" class=\"sc-evZas ftLhgx\" style=\"text-overflow: clip; overflow: visible;\">...</div> is not clickable at point (443, 289). Other element would receive the click: <div class=\"sc-dmRaPn iSEuRW\">...</div>\n  (Session info: chrome=106.0.5249.119)\n",
     "output_type": "error",
     "traceback": [
      "\u001b[1;31m---------------------------------------------------------------------------\u001b[0m",
      "\u001b[1;31mElementClickInterceptedException\u001b[0m          Traceback (most recent call last)",
      "Input \u001b[1;32mIn [28]\u001b[0m, in \u001b[0;36m<cell line: 4>\u001b[1;34m()\u001b[0m\n\u001b[0;32m      1\u001b[0m \u001b[38;5;66;03m# loaction = driver_vnw.find_elements(By.CLASS_NAME, \"sc-kgflAQ qaGbk\")\u001b[39;00m\n\u001b[0;32m      2\u001b[0m \u001b[38;5;66;03m# print(len(element))\u001b[39;00m\n\u001b[0;32m      3\u001b[0m \u001b[38;5;66;03m#fill value::\u001b[39;00m\n\u001b[1;32m----> 4\u001b[0m loacation \u001b[38;5;241m=\u001b[39m \u001b[43mdriver_vnw\u001b[49m\u001b[38;5;241;43m.\u001b[39;49m\u001b[43mfind_element_by_xpath\u001b[49m\u001b[43m(\u001b[49m\u001b[38;5;124;43m\"\u001b[39;49m\u001b[38;5;124;43m.//*[contains(text(), \u001b[39;49m\u001b[38;5;124;43m'\u001b[39;49m\u001b[38;5;124;43mHồ Chí Minh\u001b[39;49m\u001b[38;5;124;43m'\u001b[39;49m\u001b[38;5;124;43m)]\u001b[39;49m\u001b[38;5;124;43m\"\u001b[39;49m\u001b[43m)\u001b[49m\u001b[38;5;241;43m.\u001b[39;49m\u001b[43mclick\u001b[49m\u001b[43m(\u001b[49m\u001b[43m)\u001b[49m\n",
      "File \u001b[1;32m~\\AppData\\Local\\Programs\\Python\\Python310\\lib\\site-packages\\selenium\\webdriver\\remote\\webelement.py:80\u001b[0m, in \u001b[0;36mWebElement.click\u001b[1;34m(self)\u001b[0m\n\u001b[0;32m     78\u001b[0m \u001b[38;5;28;01mdef\u001b[39;00m \u001b[38;5;21mclick\u001b[39m(\u001b[38;5;28mself\u001b[39m):\n\u001b[0;32m     79\u001b[0m     \u001b[38;5;124;03m\"\"\"Clicks the element.\"\"\"\u001b[39;00m\n\u001b[1;32m---> 80\u001b[0m     \u001b[38;5;28;43mself\u001b[39;49m\u001b[38;5;241;43m.\u001b[39;49m\u001b[43m_execute\u001b[49m\u001b[43m(\u001b[49m\u001b[43mCommand\u001b[49m\u001b[38;5;241;43m.\u001b[39;49m\u001b[43mCLICK_ELEMENT\u001b[49m\u001b[43m)\u001b[49m\n",
      "File \u001b[1;32m~\\AppData\\Local\\Programs\\Python\\Python310\\lib\\site-packages\\selenium\\webdriver\\remote\\webelement.py:633\u001b[0m, in \u001b[0;36mWebElement._execute\u001b[1;34m(self, command, params)\u001b[0m\n\u001b[0;32m    631\u001b[0m     params \u001b[38;5;241m=\u001b[39m {}\n\u001b[0;32m    632\u001b[0m params[\u001b[38;5;124m'\u001b[39m\u001b[38;5;124mid\u001b[39m\u001b[38;5;124m'\u001b[39m] \u001b[38;5;241m=\u001b[39m \u001b[38;5;28mself\u001b[39m\u001b[38;5;241m.\u001b[39m_id\n\u001b[1;32m--> 633\u001b[0m \u001b[38;5;28;01mreturn\u001b[39;00m \u001b[38;5;28;43mself\u001b[39;49m\u001b[38;5;241;43m.\u001b[39;49m\u001b[43m_parent\u001b[49m\u001b[38;5;241;43m.\u001b[39;49m\u001b[43mexecute\u001b[49m\u001b[43m(\u001b[49m\u001b[43mcommand\u001b[49m\u001b[43m,\u001b[49m\u001b[43m \u001b[49m\u001b[43mparams\u001b[49m\u001b[43m)\u001b[49m\n",
      "File \u001b[1;32m~\\AppData\\Local\\Programs\\Python\\Python310\\lib\\site-packages\\selenium\\webdriver\\remote\\webdriver.py:321\u001b[0m, in \u001b[0;36mWebDriver.execute\u001b[1;34m(self, driver_command, params)\u001b[0m\n\u001b[0;32m    319\u001b[0m response \u001b[38;5;241m=\u001b[39m \u001b[38;5;28mself\u001b[39m\u001b[38;5;241m.\u001b[39mcommand_executor\u001b[38;5;241m.\u001b[39mexecute(driver_command, params)\n\u001b[0;32m    320\u001b[0m \u001b[38;5;28;01mif\u001b[39;00m response:\n\u001b[1;32m--> 321\u001b[0m     \u001b[38;5;28;43mself\u001b[39;49m\u001b[38;5;241;43m.\u001b[39;49m\u001b[43merror_handler\u001b[49m\u001b[38;5;241;43m.\u001b[39;49m\u001b[43mcheck_response\u001b[49m\u001b[43m(\u001b[49m\u001b[43mresponse\u001b[49m\u001b[43m)\u001b[49m\n\u001b[0;32m    322\u001b[0m     response[\u001b[38;5;124m'\u001b[39m\u001b[38;5;124mvalue\u001b[39m\u001b[38;5;124m'\u001b[39m] \u001b[38;5;241m=\u001b[39m \u001b[38;5;28mself\u001b[39m\u001b[38;5;241m.\u001b[39m_unwrap_value(\n\u001b[0;32m    323\u001b[0m         response\u001b[38;5;241m.\u001b[39mget(\u001b[38;5;124m'\u001b[39m\u001b[38;5;124mvalue\u001b[39m\u001b[38;5;124m'\u001b[39m, \u001b[38;5;28;01mNone\u001b[39;00m))\n\u001b[0;32m    324\u001b[0m     \u001b[38;5;28;01mreturn\u001b[39;00m response\n",
      "File \u001b[1;32m~\\AppData\\Local\\Programs\\Python\\Python310\\lib\\site-packages\\selenium\\webdriver\\remote\\errorhandler.py:242\u001b[0m, in \u001b[0;36mErrorHandler.check_response\u001b[1;34m(self, response)\u001b[0m\n\u001b[0;32m    240\u001b[0m         alert_text \u001b[38;5;241m=\u001b[39m value[\u001b[38;5;124m'\u001b[39m\u001b[38;5;124malert\u001b[39m\u001b[38;5;124m'\u001b[39m]\u001b[38;5;241m.\u001b[39mget(\u001b[38;5;124m'\u001b[39m\u001b[38;5;124mtext\u001b[39m\u001b[38;5;124m'\u001b[39m)\n\u001b[0;32m    241\u001b[0m     \u001b[38;5;28;01mraise\u001b[39;00m exception_class(message, screen, stacktrace, alert_text)\n\u001b[1;32m--> 242\u001b[0m \u001b[38;5;28;01mraise\u001b[39;00m exception_class(message, screen, stacktrace)\n",
      "\u001b[1;31mElementClickInterceptedException\u001b[0m: Message: element click intercepted: Element <div data-id=\"search-bar\" class=\"sc-evZas ftLhgx\" style=\"text-overflow: clip; overflow: visible;\">...</div> is not clickable at point (443, 289). Other element would receive the click: <div class=\"sc-dmRaPn iSEuRW\">...</div>\n  (Session info: chrome=106.0.5249.119)\n"
     ]
    }
   ],
   "source": [
    "# # loaction = driver_vnw.find_elements(By.CLASS_NAME, \"sc-kgflAQ qaGbk\")\n",
    "# # print(len(element))\n",
    "# #fill value::\n",
    "# loacation = driver_vnw.find_element_by_xpath(\".//*[contains(text(), 'Hồ Chí Minh')]\").click()\n",
    "\n",
    "# # check status\n",
    "# # is_loca = driver_vnw.find_element_by_xpath('//*[@placeholder=\"Tìm kiếm\"]').is_displayed()\n",
    "# # print(is_loca)"
   ]
  },
  {
   "cell_type": "code",
   "execution_count": null,
   "id": "8a47573a",
   "metadata": {},
   "outputs": [],
   "source": [
    "driver_vnw.close()"
   ]
  },
  {
   "cell_type": "code",
   "execution_count": 4,
   "id": "503e0529",
   "metadata": {},
   "outputs": [
    {
     "data": {
      "text/plain": [
       "'Tìm việc làm Data Analyst tại Hồ Chí Minh, tuyển dụng Data Analyst tại Hồ Chí Minh'"
      ]
     },
     "execution_count": 4,
     "metadata": {},
     "output_type": "execute_result"
    }
   ],
   "source": [
    "driver_1st.title"
   ]
  },
  {
   "cell_type": "code",
   "execution_count": 5,
   "id": "19165032",
   "metadata": {},
   "outputs": [],
   "source": [
    "page_content = driver_1st.page_source"
   ]
  },
  {
   "cell_type": "code",
   "execution_count": null,
   "id": "bf49f32f",
   "metadata": {},
   "outputs": [],
   "source": [
    "# title_job_elements = driver_1st.find_elements_by_xpath('//a/span[@class=\"bold transform-job-title\"]')\n",
    "# title_job = [x.text for x in title_job_elements]\n",
    "# title_job"
   ]
  },
  {
   "cell_type": "code",
   "execution_count": 10,
   "id": "eabdb1e7",
   "metadata": {},
   "outputs": [
    {
     "name": "stdout",
     "output_type": "stream",
     "text": [
      "['https://www.topcv.vn/viec-lam/data-analyst/842539.html?ta_source=JobSearchList', 'https://www.topcv.vn/viec-lam/chuyen-vien-phan-tich-du-lieu-bao-cao/841805.html?ta_source=JobSearchList', 'https://www.topcv.vn/viec-lam/chuyen-vien-phan-tich-du-lieu-data-analyst/785373.html?ta_source=JobSearchList', 'https://www.topcv.vn/brand/transcosmosvietnam/tuyen-dung/data-analyst-contact-call-center-j834750.html?ta_source=JobSearchList', 'https://www.topcv.vn/viec-lam/data-analyst-hcm/833265.html?ta_source=JobSearchList', 'https://www.topcv.vn/viec-lam/data-analyst-executive/832190.html?ta_source=JobSearchList', 'https://www.topcv.vn/viec-lam/data-analyst-business-intelligence/660441.html?ta_source=JobSearchList', 'https://www.topcv.vn/viec-lam/data-analyst-hcm/830822.html?ta_source=JobSearchList', 'https://www.topcv.vn/viec-lam/chuyen-vien-phan-tich-du-lieu-data-analytics/829405.html?ta_source=JobSearchList', 'https://www.topcv.vn/viec-lam/data-analyst-intern/828939.html?ta_source=JobSearchList', 'https://www.topcv.vn/viec-lam/chuyen-vien-phan-tich-du-lieu-mang-xa-hoi-social-media-data-analyst/339679.html?ta_source=JobSearchList', 'https://www.topcv.vn/viec-lam/chuyen-vien-phan-tich-du-lieu-thang-10/828614.html?ta_source=JobSearchList', 'https://www.topcv.vn/viec-lam/data-analyst-intern-ad-network/690727.html?ta_source=JobSearchList', 'https://www.topcv.vn/viec-lam/data-admin-phan-tich-du-lieu-purchasing/825365.html?ta_source=JobSearchList', 'https://www.topcv.vn/viec-lam/phan-tich-so-lieu-data-analyst-ngan-hang-dien-tu/709958.html?ta_source=JobSearchList', 'https://www.topcv.vn/viec-lam/data-analyst-fresher-junior/821991.html?ta_source=JobSearchList', 'https://www.topcv.vn/viec-lam/data-analyst-music-game/820982.html?ta_source=JobSearchList', 'https://www.topcv.vn/viec-lam/senior-data-analyst/817666.html?ta_source=JobSearchList', 'https://www.topcv.vn/brand/giaohangnhanh/tuyen-dung/nhan-vien-phan-tich-du-lieu-data-analyst-executive-j817090.html?ta_source=JobSearchList', 'https://www.topcv.vn/viec-lam/senior-collection-data-analyst/815892.html?ta_source=JobSearchList', 'https://www.topcv.vn/viec-lam/ky-su-phan-mem-phan-tich-du-lieu-power-bi/812566.html?ta_source=JobSearchList', 'https://www.topcv.vn/viec-lam/data-analyst/788572.html?ta_source=JobSearchList', 'https://www.topcv.vn/viec-lam/data-analyst/696484.html?ta_source=JobSearchList', 'https://www.topcv.vn/brand/xnkphattriendongduong/tuyen-dung/chuyen-vien-phan-tich-thong-ke-data-analyst-j842737.html?ta_source=JobSearchList', 'https://www.topcv.vn/viec-lam/data-analyst/787415.html?ta_source=JobSearchList']\n"
     ]
    }
   ],
   "source": [
    "# link_elements = driver.find_elements_by_css_selector('a.underline-box-job')\n",
    "link_elements = driver_1st.find_elements_by_xpath('//div/h3/a[@class=\"underline-box-job\"]')\n",
    "job_link = [k.get_attribute('href') for k in link_elements]\n",
    "print(job_link)"
   ]
  },
  {
   "cell_type": "code",
   "execution_count": 9,
   "id": "820bcd26",
   "metadata": {},
   "outputs": [],
   "source": [
    "df_job_link = pd.Series(job_link, name=\"Job link\")"
   ]
  },
  {
   "cell_type": "code",
   "execution_count": 60,
   "id": "be470c3f",
   "metadata": {
    "scrolled": true
   },
   "outputs": [
    {
     "name": "stdout",
     "output_type": "stream",
     "text": [
      "https://www.topcv.vn/viec-lam/data-analyst/842539.html?ta_source=JobSearchList\n",
      "['CÔNG TY TNHH PHẦN MỀM ALLIANCE']\n",
      "https://www.topcv.vn/viec-lam/chuyen-vien-phan-tich-du-lieu-bao-cao/841805.html?ta_source=JobSearchList\n",
      "['Ngân Hàng TMCP Xuất Nhập Khẩu Việt Nam (Eximbank)']\n",
      "https://www.topcv.vn/viec-lam/chuyen-vien-phan-tich-du-lieu-data-analyst/785373.html?ta_source=JobSearchList\n",
      "['Lotte mart']\n",
      "https://www.topcv.vn/brand/transcosmosvietnam/tuyen-dung/data-analyst-contact-call-center-j834750.html?ta_source=JobSearchList\n",
      "['Công Ty TNHH TransCosmos Việt Nam']\n",
      "https://www.topcv.vn/viec-lam/data-analyst-hcm/833265.html?ta_source=JobSearchList\n",
      "['Ngân Hàng TNHH MTV Shinhan Việt Nam']\n",
      "https://www.topcv.vn/viec-lam/data-analyst-executive/832190.html?ta_source=JobSearchList\n",
      "['CÔNG TY TÀI CHÍNH TRÁCH NHIỆM HỮU HẠN MỘT THÀNH VIÊN MIRAE ASSET (VIỆT NAM)']\n",
      "https://www.topcv.vn/viec-lam/data-analyst-business-intelligence/660441.html?ta_source=JobSearchList\n",
      "['CÔNG TY TNHH THƯƠNG MẠI GEARVN']\n",
      "https://www.topcv.vn/viec-lam/data-analyst-hcm/830822.html?ta_source=JobSearchList\n",
      "['Ngân Hàng TNHH MTV Shinhan Việt Nam']\n",
      "https://www.topcv.vn/viec-lam/chuyen-vien-phan-tich-du-lieu-data-analytics/829405.html?ta_source=JobSearchList\n",
      "['công ty Viễn Thông Phương Nam']\n",
      "https://www.topcv.vn/viec-lam/data-analyst-intern/828939.html?ta_source=JobSearchList\n",
      "['Simple Group']\n",
      "https://www.topcv.vn/viec-lam/chuyen-vien-phan-tich-du-lieu-mang-xa-hoi-social-media-data-analyst/339679.html?ta_source=JobSearchList\n",
      "['Công ty TNHH Lửa Á Châu']\n",
      "https://www.topcv.vn/viec-lam/chuyen-vien-phan-tich-du-lieu-thang-10/828614.html?ta_source=JobSearchList\n",
      "['CÔNG TY TNHH UNICALL']\n",
      "https://www.topcv.vn/viec-lam/data-analyst-intern-ad-network/690727.html?ta_source=JobSearchList\n",
      "['CÔNG TY TNHH TT UREKA VIỆT NAM']\n",
      "https://www.topcv.vn/viec-lam/data-admin-phan-tich-du-lieu-purchasing/825365.html?ta_source=JobSearchList\n",
      "['Công ty TNHH Telio Việt Nam']\n",
      "https://www.topcv.vn/viec-lam/phan-tich-so-lieu-data-analyst-ngan-hang-dien-tu/709958.html?ta_source=JobSearchList\n",
      "['Ngân Hàng TMCP Xuất Nhập Khẩu Việt Nam (Eximbank)']\n",
      "https://www.topcv.vn/viec-lam/data-analyst-fresher-junior/821991.html?ta_source=JobSearchList\n",
      "['CÔNG TY TNHH SHARESOURCE']\n",
      "https://www.topcv.vn/viec-lam/data-analyst-music-game/820982.html?ta_source=JobSearchList\n",
      "['CÔNG TY TNHH AMANOTES VIỆT NAM']\n",
      "https://www.topcv.vn/viec-lam/senior-data-analyst/817666.html?ta_source=JobSearchList\n",
      "['Công ty TNHH Skylink Group']\n",
      "https://www.topcv.vn/brand/giaohangnhanh/tuyen-dung/nhan-vien-phan-tich-du-lieu-data-analyst-executive-j817090.html?ta_source=JobSearchList\n",
      "['Công ty CP & DV Giao hàng nhanh']\n",
      "https://www.topcv.vn/viec-lam/senior-collection-data-analyst/815892.html?ta_source=JobSearchList\n",
      "['Ngân hàng Thương Mại Cổ Phần Tiên Phong - Trung tâm Fico']\n",
      "https://www.topcv.vn/viec-lam/ky-su-phan-mem-phan-tich-du-lieu-power-bi/812566.html?ta_source=JobSearchList\n",
      "['Công ty TNHH Phát Triển Công Nghệ PTDEV']\n",
      "https://www.topcv.vn/viec-lam/data-analyst/788572.html?ta_source=JobSearchList\n",
      "['Công Ty TNHH OKXE Việt Nam']\n",
      "https://www.topcv.vn/viec-lam/data-analyst/696484.html?ta_source=JobSearchList\n",
      "['DATATYK COMPANY LIMITED']\n",
      "https://www.topcv.vn/brand/xnkphattriendongduong/tuyen-dung/chuyen-vien-phan-tich-thong-ke-data-analyst-j842737.html?ta_source=JobSearchList\n",
      "['CÔNG TY TNHH XUẤT NHẬP KHẨU PHÁT TRIỂN ĐÔNG DƯƠNG - TẬP ĐOÀN THỂ THAO KINGSPORT']\n",
      "https://www.topcv.vn/viec-lam/data-analyst/787415.html?ta_source=JobSearchList\n",
      "['Công Ty Tài Chính Cổ Phần Tín Việt']\n",
      "['CÔNG TY TNHH PHẦN MỀM ALLIANCE', 'Ngân Hàng TMCP Xuất Nhập Khẩu Việt Nam (Eximbank)', 'Lotte mart', 'Công Ty TNHH TransCosmos Việt Nam', 'Ngân Hàng TNHH MTV Shinhan Việt Nam', 'CÔNG TY TÀI CHÍNH TRÁCH NHIỆM HỮU HẠN MỘT THÀNH VIÊN MIRAE ASSET (VIỆT NAM)', 'CÔNG TY TNHH THƯƠNG MẠI GEARVN', 'Ngân Hàng TNHH MTV Shinhan Việt Nam', 'công ty Viễn Thông Phương Nam', 'Simple Group', 'Công ty TNHH Lửa Á Châu', 'CÔNG TY TNHH UNICALL', 'CÔNG TY TNHH TT UREKA VIỆT NAM', 'Công ty TNHH Telio Việt Nam', 'Ngân Hàng TMCP Xuất Nhập Khẩu Việt Nam (Eximbank)', 'CÔNG TY TNHH SHARESOURCE', 'CÔNG TY TNHH AMANOTES VIỆT NAM', 'Công ty TNHH Skylink Group', 'Công ty CP & DV Giao hàng nhanh', 'Ngân hàng Thương Mại Cổ Phần Tiên Phong - Trung tâm Fico', 'Công ty TNHH Phát Triển Công Nghệ PTDEV', 'Công Ty TNHH OKXE Việt Nam', 'DATATYK COMPANY LIMITED', 'CÔNG TY TNHH XUẤT NHẬP KHẨU PHÁT TRIỂN ĐÔNG DƯƠNG - TẬP ĐOÀN THỂ THAO KINGSPORT', 'Công Ty Tài Chính Cổ Phần Tín Việt']\n",
      "[['\\n\\n\\nMức lương  \\n\\n25-35 triệu\\n\\n\\n', '\\n\\n\\nSố lượng tuyển  \\n1 người\\n\\n', '\\n\\n\\nHình thức làm việc  \\n Toàn thời gian\\n\\n', '\\n\\n\\nCấp bậc  \\nNhân viên\\n\\n', '\\n\\n\\nGiới tính  \\nKhông yêu cầu\\n\\n', '\\n\\n\\nKinh nghiệm  \\n2 năm\\n\\n'], ['\\n\\n\\nMức lương  \\n\\nThoả thuận\\n\\n\\n', '\\n\\n\\nSố lượng tuyển  \\n2 người\\n\\n', '\\n\\n\\nHình thức làm việc  \\nToàn thời gian\\n\\n', '\\n\\n\\nCấp bậc  \\nNhân viên\\n\\n', '\\n\\n\\nGiới tính  \\nKhông yêu cầu\\n\\n', '\\n\\n\\nKinh nghiệm  \\n1 năm\\n\\n'], ['\\n\\n\\nMức lương  \\n\\nThoả thuận\\n\\n\\n', '\\n\\n\\nSố lượng tuyển  \\n1 người\\n\\n', '\\n\\n\\nHình thức làm việc  \\nToàn thời gian\\n\\n', '\\n\\n\\nCấp bậc  \\nNhân viên\\n\\n', '\\n\\n\\nGiới tính  \\nKhông yêu cầu\\n\\n', '\\n\\n\\nKinh nghiệm  \\n2 năm\\n\\n'], ['\\n\\n\\n\\n\\nMức lương  \\n\\nTới 30 triệu\\n\\n\\n', '\\n\\n\\n\\n\\nSố lượng tuyển  \\n1 người\\n\\n', '\\n\\n\\n\\n\\nHình thức làm việc  \\nToàn thời gian\\n\\n', '\\n\\n\\n\\n\\nCấp bậc  \\nNhân viên\\n\\n', '\\n\\n\\n\\n\\nGiới tính  \\nKhông yêu cầu\\n\\n', '\\n\\n \\n\\n\\nKinh nghiệm  \\n1 năm\\n\\n'], ['\\n\\n\\nMức lương  \\n\\nTới 16 triệu\\n\\n\\n', '\\n\\n\\nSố lượng tuyển  \\n1 người\\n\\n', '\\n\\n\\nHình thức làm việc  \\nToàn thời gian\\n\\n', '\\n\\n\\nCấp bậc  \\nNhân viên\\n\\n', '\\n\\n\\nGiới tính  \\nKhông yêu cầu\\n\\n', '\\n\\n\\nKinh nghiệm  \\nDưới 1 năm\\n\\n'], ['\\n\\n\\nMức lương  \\n\\nThoả thuận\\n\\n\\n', '\\n\\n\\nSố lượng tuyển  \\n1 người\\n\\n', '\\n\\n\\nHình thức làm việc  \\nToàn thời gian\\n\\n', '\\n\\n\\nCấp bậc  \\nNhân viên\\n\\n', '\\n\\n\\nGiới tính  \\nKhông yêu cầu\\n\\n', '\\n\\n\\nKinh nghiệm  \\n1 năm\\n\\n'], ['\\n\\n\\nMức lương  \\n \\nThoả thuận\\n\\n\\n', '\\n\\n\\nSố lượng tuyển  \\n1 người\\n\\n', '\\n\\n\\nHình thức làm việc  \\nToàn thời gian\\n\\n', '\\n\\n\\nCấp bậc  \\nNhân viên\\n\\n', '\\n\\n\\nGiới tính  \\nKhông yêu cầu\\n\\n', '\\n\\n\\nKinh nghiệm  \\n2 năm\\n\\n'], ['\\n\\n\\nMức lương  \\n\\nTới 16 triệu\\n\\n\\n', '\\n\\n\\nSố lượng tuyển  \\n2 người\\n\\n', '\\n\\n\\nHình thức làm việc  \\nToàn thời gian\\n\\n', '\\n\\n\\nCấp bậc  \\nNhân viên\\n\\n', '\\n\\n\\nGiới tính  \\nNữ\\n\\n', '\\n\\n\\nKinh nghiệm  \\nDưới 1 năm\\n\\n'], ['\\n\\n\\nMức lương  \\n\\n15-20 triệu\\n\\n\\n', '\\n\\n\\nSố lượng tuyển  \\n1 người\\n\\n', '\\n\\n\\nHình thức làm việc  \\nToàn thời gian\\n\\n', '\\n\\n\\nCấp bậc  \\nNhân viên\\n\\n', '\\n\\n\\nGiới tính  \\nKhông yêu cầu\\n\\n', '\\n\\n\\nKinh nghiệm  \\n1 năm\\n\\n'], ['\\n\\n\\nMức lương  \\n\\nThoả thuận\\n\\n\\n', '\\n\\n\\nSố lượng tuyển  \\n1 người\\n\\n', '\\n\\n\\nHình thức làm việc  \\nToàn thời gian\\n\\n', '\\n\\n\\nCấp bậc  \\n Thực tập sinh\\n\\n', '\\n\\n\\nGiới tính  \\nKhông yêu cầu\\n\\n', '\\n\\n\\nKinh nghiệm  \\nDưới 1 năm\\n\\n'], ['\\n\\n\\nMức lương  \\n\\nThoả thuận\\n\\n\\n', '\\n\\n\\nSố lượng tuyển  \\n1 người\\n\\n', '\\n\\n\\nHình thức làm việc  \\nToàn thời gian\\n\\n', '\\n\\n\\nCấp bậc  \\nNhân viên\\n\\n', '\\n\\n\\nGiới tính  \\nKhông yêu cầu\\n\\n', '\\n\\n\\nKinh nghiệm  \\n1 năm\\n\\n'], ['\\n\\n\\nMức lương  \\n\\nThoả thuận\\n\\n\\n', '\\n\\n\\nSố lượng tuyển  \\n1 người\\n\\n', '\\n\\n\\nHình thức làm việc  \\nToàn thời gian\\n\\n', '\\n\\n\\nCấp bậc  \\nNhân viên\\n\\n', '\\n\\n\\nGiới tính  \\nKhông yêu cầu\\n\\n', '\\n\\n\\nKinh nghiệm  \\n2 năm\\n\\n'], ['\\n\\n\\nMức lương  \\n\\nTới 2 triệu\\n\\n\\n', '\\n\\n\\nSố lượng tuyển  \\n1 người\\n\\n', '\\n \\n\\nHình thức làm việc  \\nThực tập\\n\\n', '\\n\\n\\nCấp bậc  \\nThực tập sinh\\n\\n', '\\n\\n\\nGiới tính  \\nKhông yêu cầu\\n\\n', '\\n\\n\\nKinh nghiệm  \\nKhông yêu cầu kinh nghiệm\\n\\n'], ['\\n\\n\\nMức lương  \\n\\n11-13 triệu\\n\\n\\n', '\\n\\n\\nSố lượng tuyển  \\n1 người\\n\\n', '\\n\\n\\nHình thức làm việc  \\nToàn thời gian\\n\\n', '\\n\\n\\nCấp bậc  \\nNhân viên\\n\\n', '\\n\\n\\nGiới tính  \\nKhông yêu cầu\\n\\n', '\\n\\n\\nKinh nghiệm  \\n1 năm\\n\\n'], ['\\n\\n\\nMức lương  \\n\\nThoả thuận\\n\\n\\n', '\\n\\n\\nSố lượng tuyển  \\n2 người\\n\\n', '\\n\\n\\nHình thức làm việc  \\nToàn thời gian\\n\\n', '\\n\\n\\nCấp bậc  \\nNhân viên\\n\\n', '\\n\\n\\nGiới tính  \\nKhông yêu cầu\\n\\n', '\\n\\n\\nKinh nghiệm  \\n1 năm\\n\\n'], ['\\n\\n\\nMức lương  \\n\\nTới 10 triệu\\n\\n\\n', '\\n\\n\\nSố lượng tuyển  \\n1 người\\n\\n', '\\n\\n\\nHình thức làm việc  \\nToàn thời gian\\n\\n', '\\n \\n\\nCấp bậc  \\nNhân viên\\n\\n', '\\n\\n\\nGiới tính  \\nKhông yêu cầu\\n\\n', '\\n\\n\\nKinh nghiệm  \\nKhông yêu cầu kinh nghiệm\\n\\n'], ['\\n\\n\\nMức lương  \\n\\nTrên 25 triệu\\n\\n\\n', '\\n\\n\\nSố lượng tuyển  \\n4 người\\n\\n', '\\n\\n\\nHình thức làm việc  \\nToàn thời gian\\n\\n', '\\n\\n\\nCấp bậc  \\nNhân viên\\n\\n', '\\n\\n\\nGiới tính  \\nKhông yêu cầu\\n\\n', '\\n\\n\\nKinh nghiệm  \\n2 năm\\n\\n'], ['\\n\\n\\nMức lương  \\n\\nThoả thuận\\n\\n\\n', '\\n \\n\\nSố lượng tuyển  \\n1 người\\n\\n', '\\n\\n\\nHình thức làm việc  \\nToàn thời gian\\n\\n', '\\n\\n\\nCấp bậc  \\nNhân viên\\n\\n', '\\n\\n\\nGiới tính  \\nKhông yêu cầu\\n\\n', '\\n\\n\\nKinh nghiệm  \\n2 năm\\n\\n'], ['\\n\\n\\n\\n\\nMức lương  \\n\\nThoả thuận\\n\\n\\n', '\\n\\n\\n\\n\\nSố lượng tuyển  \\n1 người\\n\\n', '\\n\\n\\n\\n\\nHình thức làm việc  \\nToàn thời gian\\n\\n', '\\n\\n\\n\\n\\nCấp bậc  \\nNhân viên\\n\\n', '\\n\\n\\n\\n\\nGiới tính  \\nKhông yêu cầu\\n\\n', '\\n\\n\\n\\n\\nKinh nghiệm  \\n2 năm\\n\\n'], ['\\n\\n\\nMức lương  \\n\\nThoả thuận\\n\\n\\n', '\\n\\n\\nSố lượng tuyển  \\n1 người\\n\\n', '\\n\\n\\nHình thức làm việc  \\nToàn thời gian\\n\\n', '\\n\\n\\nCấp bậc  \\nNhân viên\\n\\n', '\\n\\n\\nGiới tính  \\nKhông yêu cầu\\n\\n', '\\n\\n\\nKinh nghiệm  \\n1 năm\\n\\n'], ['\\n\\n\\nMức lương  \\n\\nThoả thuận\\n\\n\\n', '\\n\\n\\nSố lượng tuyển  \\n1 người\\n \\n', '\\n\\n\\nHình thức làm việc  \\nToàn thời gian\\n\\n', '\\n\\n\\nCấp bậc  \\nNhân viên\\n\\n', '\\n\\n\\nGiới tính  \\nNam\\n\\n', '\\n\\n\\nKinh nghiệm  \\n3 năm\\n\\n'], ['\\n\\n\\nMức lương  \\n\\n Tới 38 triệu\\n\\n\\n', '\\n\\n\\nSố lượng tuyển  \\n2 người\\n\\n', '\\n\\n\\nHình thức làm việc  \\nToàn thời gian\\n\\n', '\\n\\n\\nCấp bậc  \\nNhân viên\\n\\n', '\\n\\n\\nGiới tính  \\nKhông yêu cầu\\n\\n', '\\n\\n\\nKinh nghiệm  \\n1 năm\\n\\n'], ['\\n\\n\\nMức lương  \\n\\nTới 30 triệu\\n\\n\\n', '\\n\\n\\nSố lượng tuyển  \\n1 người\\n\\n', '\\n\\n\\nHình thức làm việc  \\nToàn thời gian\\n\\n', '\\n\\n\\nCấp bậc  \\nNhân viên\\n\\n', '\\n\\n\\nGiới tính  \\nNữ\\n\\n', '\\n\\n\\nKinh nghiệm  \\n1 năm\\n\\n'], ['\\n\\n\\n\\n\\nMức lương  \\n\\n35-45 triệu\\n\\n\\n', '\\n\\n\\n\\n\\nSố lượng tuyển  \\n1 người\\n\\n', '\\n\\n\\n\\n\\nHình thức làm việc  \\nToàn thời gian\\n\\n', '\\n\\n\\n\\n\\nCấp bậc  \\nNhân viên\\n\\n', '\\n\\n\\n\\n\\nGiới tính  \\nKhông yêu cầu\\n\\n', '\\n\\n\\n\\n\\nKinh nghiệm  \\n3 năm\\n\\n'], ['\\n\\n\\nMức lương  \\n\\nThoả thuận\\n\\n\\n', '\\n \\n\\nSố lượng tuyển  \\n1 người\\n\\n', '\\n\\n\\nHình thức làm việc  \\nToàn thời gian\\n\\n', '\\n\\n\\nCấp bậc  \\nNhân viên\\n\\n', '\\n\\n\\nGiới tính  \\nKhông yêu cầu\\n\\n', '\\n\\n\\nKinh nghiệm  \\n2 năm\\n\\n']]\n"
     ]
    }
   ],
   "source": [
    "#click vao link, lay JD:\n",
    "summary=[]\n",
    "company_name = []\n",
    "\n",
    "driver = webdriver.Chrome()\n",
    "from selenium.webdriver.support.ui import WebDriverWait\n",
    "from selenium.webdriver.support import expected_conditions as EC\n",
    "from selenium.webdriver.common.by import By\n",
    "\n",
    "for job in job_link:\n",
    "#     if(job == \"https://www.topcv.vn/viec-lam/data-analyst/842539.html?ta_source=JobSearchList\"):\n",
    "#         continue\n",
    "    JD = driver.get(job)\n",
    "           \n",
    "    ## company-name\n",
    "    company_elements = driver.find_elements_by_css_selector('div.company-title a.text-dark-blue')\n",
    "    company = [n.text for n in company_elements]\n",
    "    if company == []:\n",
    "        company_elements = driver.find_elements_by_id('company-name')\n",
    "        company = [n.text for n in company_elements]\n",
    "    print(job)\n",
    "    print(company)\n",
    "    company_name= company_name + company\n",
    "\n",
    "    ## summary\n",
    "    sum_elements = driver.find_elements_by_css_selector('div.box-main div.box-item')\n",
    "    sum_e = [x.get_attribute('textContent') for x in sum_elements]\n",
    "    summary.append(sum_e)\n",
    "    \n",
    "    \n",
    "print(company_name)\n",
    "print(summary) "
   ]
  },
  {
   "cell_type": "code",
   "execution_count": 61,
   "id": "b36d75c0",
   "metadata": {},
   "outputs": [
    {
     "data": {
      "text/plain": [
       "0                        CÔNG TY TNHH PHẦN MỀM ALLIANCE\n",
       "1     Ngân Hàng TMCP Xuất Nhập Khẩu Việt Nam (Eximbank)\n",
       "2                                            Lotte mart\n",
       "3                     Công Ty TNHH TransCosmos Việt Nam\n",
       "4                   Ngân Hàng TNHH MTV Shinhan Việt Nam\n",
       "5     CÔNG TY TÀI CHÍNH TRÁCH NHIỆM HỮU HẠN MỘT THÀN...\n",
       "6                        CÔNG TY TNHH THƯƠNG MẠI GEARVN\n",
       "7                   Ngân Hàng TNHH MTV Shinhan Việt Nam\n",
       "8                         công ty Viễn Thông Phương Nam\n",
       "9                                          Simple Group\n",
       "10                              Công ty TNHH Lửa Á Châu\n",
       "11                                 CÔNG TY TNHH UNICALL\n",
       "12                       CÔNG TY TNHH TT UREKA VIỆT NAM\n",
       "13                          Công ty TNHH Telio Việt Nam\n",
       "14    Ngân Hàng TMCP Xuất Nhập Khẩu Việt Nam (Eximbank)\n",
       "15                             CÔNG TY TNHH SHARESOURCE\n",
       "16                       CÔNG TY TNHH AMANOTES VIỆT NAM\n",
       "17                           Công ty TNHH Skylink Group\n",
       "18                      Công ty CP & DV Giao hàng nhanh\n",
       "19    Ngân hàng Thương Mại Cổ Phần Tiên Phong - Trun...\n",
       "20              Công ty TNHH Phát Triển Công Nghệ PTDEV\n",
       "21                           Công Ty TNHH OKXE Việt Nam\n",
       "22                              DATATYK COMPANY LIMITED\n",
       "23    CÔNG TY TNHH XUẤT NHẬP KHẨU PHÁT TRIỂN ĐÔNG DƯ...\n",
       "24                   Công Ty Tài Chính Cổ Phần Tín Việt\n",
       "Name: Company name, dtype: object"
      ]
     },
     "execution_count": 61,
     "metadata": {},
     "output_type": "execute_result"
    }
   ],
   "source": [
    "df_company = pd.Series(company_name, name=\"Company name\")\n",
    "df_company"
   ]
  },
  {
   "cell_type": "code",
   "execution_count": 63,
   "id": "9456b46e",
   "metadata": {
    "scrolled": true
   },
   "outputs": [
    {
     "name": "stdout",
     "output_type": "stream",
     "text": [
      "[{'Mức lương': '25-35 triệu', 'Số lượng tuyển': '1 người', 'Hình thức làm việc': 'Toàn thời gian', 'Cấp bậc': 'Nhân viên', 'Giới tính': 'Không yêu cầu', 'Kinh nghiệm': '2 năm'}, {'Mức lương': 'Thoả thuận', 'Số lượng tuyển': '2 người', 'Hình thức làm việc': 'Toàn thời gian', 'Cấp bậc': 'Nhân viên', 'Giới tính': 'Không yêu cầu', 'Kinh nghiệm': '1 năm'}, {'Mức lương': 'Thoả thuận', 'Số lượng tuyển': '1 người', 'Hình thức làm việc': 'Toàn thời gian', 'Cấp bậc': 'Nhân viên', 'Giới tính': 'Không yêu cầu', 'Kinh nghiệm': '2 năm'}, {'Mức lương': 'Tới 30 triệu', 'Số lượng tuyển': '1 người', 'Hình thức làm việc': 'Toàn thời gian', 'Cấp bậc': 'Nhân viên', 'Giới tính': 'Không yêu cầu', 'Kinh nghiệm': '1 năm'}, {'Mức lương': 'Tới 16 triệu', 'Số lượng tuyển': '1 người', 'Hình thức làm việc': 'Toàn thời gian', 'Cấp bậc': 'Nhân viên', 'Giới tính': 'Không yêu cầu', 'Kinh nghiệm': 'Dưới 1 năm'}, {'Mức lương': 'Thoả thuận', 'Số lượng tuyển': '1 người', 'Hình thức làm việc': 'Toàn thời gian', 'Cấp bậc': 'Nhân viên', 'Giới tính': 'Không yêu cầu', 'Kinh nghiệm': '1 năm'}, {'Mức lương': 'Thoả thuận', 'Số lượng tuyển': '1 người', 'Hình thức làm việc': 'Toàn thời gian', 'Cấp bậc': 'Nhân viên', 'Giới tính': 'Không yêu cầu', 'Kinh nghiệm': '2 năm'}, {'Mức lương': 'Tới 16 triệu', 'Số lượng tuyển': '2 người', 'Hình thức làm việc': 'Toàn thời gian', 'Cấp bậc': 'Nhân viên', 'Giới tính': 'Nữ', 'Kinh nghiệm': 'Dưới 1 năm'}, {'Mức lương': '15-20 triệu', 'Số lượng tuyển': '1 người', 'Hình thức làm việc': 'Toàn thời gian', 'Cấp bậc': 'Nhân viên', 'Giới tính': 'Không yêu cầu', 'Kinh nghiệm': '1 năm'}, {'Mức lương': 'Thoả thuận', 'Số lượng tuyển': '1 người', 'Hình thức làm việc': 'Toàn thời gian', 'Cấp bậc': 'Thực tập sinh', 'Giới tính': 'Không yêu cầu', 'Kinh nghiệm': 'Dưới 1 năm'}, {'Mức lương': 'Thoả thuận', 'Số lượng tuyển': '1 người', 'Hình thức làm việc': 'Toàn thời gian', 'Cấp bậc': 'Nhân viên', 'Giới tính': 'Không yêu cầu', 'Kinh nghiệm': '1 năm'}, {'Mức lương': 'Thoả thuận', 'Số lượng tuyển': '1 người', 'Hình thức làm việc': 'Toàn thời gian', 'Cấp bậc': 'Nhân viên', 'Giới tính': 'Không yêu cầu', 'Kinh nghiệm': '2 năm'}, {'Mức lương': 'Tới 2 triệu', 'Số lượng tuyển': '1 người', 'Hình thức làm việc': 'Thực tập', 'Cấp bậc': 'Thực tập sinh', 'Giới tính': 'Không yêu cầu', 'Kinh nghiệm': 'Không yêu cầu kinh nghiệm'}, {'Mức lương': '11-13 triệu', 'Số lượng tuyển': '1 người', 'Hình thức làm việc': 'Toàn thời gian', 'Cấp bậc': 'Nhân viên', 'Giới tính': 'Không yêu cầu', 'Kinh nghiệm': '1 năm'}, {'Mức lương': 'Thoả thuận', 'Số lượng tuyển': '2 người', 'Hình thức làm việc': 'Toàn thời gian', 'Cấp bậc': 'Nhân viên', 'Giới tính': 'Không yêu cầu', 'Kinh nghiệm': '1 năm'}, {'Mức lương': 'Tới 10 triệu', 'Số lượng tuyển': '1 người', 'Hình thức làm việc': 'Toàn thời gian', 'Cấp bậc': 'Nhân viên', 'Giới tính': 'Không yêu cầu', 'Kinh nghiệm': 'Không yêu cầu kinh nghiệm'}, {'Mức lương': 'Trên 25 triệu', 'Số lượng tuyển': '4 người', 'Hình thức làm việc': 'Toàn thời gian', 'Cấp bậc': 'Nhân viên', 'Giới tính': 'Không yêu cầu', 'Kinh nghiệm': '2 năm'}, {'Mức lương': 'Thoả thuận', 'Số lượng tuyển': '1 người', 'Hình thức làm việc': 'Toàn thời gian', 'Cấp bậc': 'Nhân viên', 'Giới tính': 'Không yêu cầu', 'Kinh nghiệm': '2 năm'}, {'Mức lương': 'Thoả thuận', 'Số lượng tuyển': '1 người', 'Hình thức làm việc': 'Toàn thời gian', 'Cấp bậc': 'Nhân viên', 'Giới tính': 'Không yêu cầu', 'Kinh nghiệm': '2 năm'}, {'Mức lương': 'Thoả thuận', 'Số lượng tuyển': '1 người', 'Hình thức làm việc': 'Toàn thời gian', 'Cấp bậc': 'Nhân viên', 'Giới tính': 'Không yêu cầu', 'Kinh nghiệm': '1 năm'}, {'Mức lương': 'Thoả thuận', 'Số lượng tuyển': '1 người', 'Hình thức làm việc': 'Toàn thời gian', 'Cấp bậc': 'Nhân viên', 'Giới tính': 'Nam', 'Kinh nghiệm': '3 năm'}, {'Mức lương': 'Tới 38 triệu', 'Số lượng tuyển': '2 người', 'Hình thức làm việc': 'Toàn thời gian', 'Cấp bậc': 'Nhân viên', 'Giới tính': 'Không yêu cầu', 'Kinh nghiệm': '1 năm'}, {'Mức lương': 'Tới 30 triệu', 'Số lượng tuyển': '1 người', 'Hình thức làm việc': 'Toàn thời gian', 'Cấp bậc': 'Nhân viên', 'Giới tính': 'Nữ', 'Kinh nghiệm': '1 năm'}, {'Mức lương': '35-45 triệu', 'Số lượng tuyển': '1 người', 'Hình thức làm việc': 'Toàn thời gian', 'Cấp bậc': 'Nhân viên', 'Giới tính': 'Không yêu cầu', 'Kinh nghiệm': '3 năm'}, {'Mức lương': 'Thoả thuận', 'Số lượng tuyển': '1 người', 'Hình thức làm việc': 'Toàn thời gian', 'Cấp bậc': 'Nhân viên', 'Giới tính': 'Không yêu cầu', 'Kinh nghiệm': '2 năm'}]\n"
     ]
    }
   ],
   "source": [
    "#split summary:\n",
    "\n",
    "results=[]\n",
    "for i in range(len(summary)):\n",
    "    one_job=[]\n",
    "    for a in range(len(summary[i])):\n",
    "        per = summary[i][a].split('\\n')\n",
    "        per = [item.strip() for item in per]\n",
    "        per = list(filter(None, per))\n",
    "        one_job = one_job+per\n",
    "        \n",
    "    one_job = {one_job[k]: one_job[k + 1] for k in range(0, len(one_job), 2)}\n",
    "    results.append(one_job)\n",
    "print(results)\n",
    "    "
   ]
  },
  {
   "cell_type": "code",
   "execution_count": 64,
   "id": "a65fbfc9",
   "metadata": {},
   "outputs": [],
   "source": [
    "df = pd.DataFrame(results)"
   ]
  },
  {
   "cell_type": "code",
   "execution_count": 65,
   "id": "bad8612e",
   "metadata": {},
   "outputs": [],
   "source": [
    "#luu data to csv\n",
    "data = pd.concat([df_company, df, df_job_link], axis=1)\n",
    "data.to_csv('data.csv', sep='\\t', encoding='utf-8',index=False)"
   ]
  },
  {
   "cell_type": "code",
   "execution_count": null,
   "id": "d02e5051",
   "metadata": {},
   "outputs": [],
   "source": []
  },
  {
   "cell_type": "code",
   "execution_count": null,
   "id": "9fb103e5",
   "metadata": {},
   "outputs": [],
   "source": []
  },
  {
   "cell_type": "code",
   "execution_count": null,
   "id": "b0374c77",
   "metadata": {},
   "outputs": [],
   "source": [
    "# #thoi gian: -- chua su dung den\n",
    "# time_elements = driver.find_elements_by_css_selector('label.time')\n",
    "# time = [x.text.replace('Cập nhật ','') for x in time_elements]\n",
    "# time[:5]"
   ]
  },
  {
   "cell_type": "code",
   "execution_count": null,
   "id": "b09d2b99",
   "metadata": {},
   "outputs": [],
   "source": [
    "#load more\n",
    "\n",
    "# while True:\n",
    "#     try:\n",
    "#         loadMoreButton = driver.find_element_by_xpath(\"//li/a\")\n",
    "# #         time.sleep(2)\n",
    "#         loadMoreButton.click()\n",
    "# #         time.sleep(5)\n",
    "#     except:\n",
    "#         print('Da het')\n",
    "#         break\n",
    "# print(\"Complete\")\n",
    "# # time.sleep(10)"
   ]
  }
 ],
 "metadata": {
  "kernelspec": {
   "display_name": "Python 3 (ipykernel)",
   "language": "python",
   "name": "python3"
  },
  "language_info": {
   "codemirror_mode": {
    "name": "ipython",
    "version": 3
   },
   "file_extension": ".py",
   "mimetype": "text/x-python",
   "name": "python",
   "nbconvert_exporter": "python",
   "pygments_lexer": "ipython3",
   "version": "3.10.5"
  }
 },
 "nbformat": 4,
 "nbformat_minor": 5
}
